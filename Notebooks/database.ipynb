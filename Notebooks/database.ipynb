{
 "cells": [
  {
   "cell_type": "code",
   "execution_count": 2,
   "metadata": {},
   "outputs": [],
   "source": [
    "import os\n",
    "import sys\n",
    "import pymongo\n",
    "import pandas as pd\n",
    "import plotly.express as px\n",
    "import csv\n",
    "import datetime\n",
    "from datetime import datetime\n",
    "import re"
   ]
  },
  {
   "cell_type": "code",
   "execution_count": 11,
   "metadata": {},
   "outputs": [
    {
     "name": "stdout",
     "output_type": "stream",
     "text": [
      "Collections in the database:\n",
      "sampleCollection\n"
     ]
    }
   ],
   "source": [
    "from pymongo import MongoClient\n",
    "\n",
    "# Replace with your MongoDB connection string\n",
    "database_url = os.getenv('db_url_for_creating')\n",
    "\n",
    "# Connect to the MongoDB server\n",
    "client = MongoClient(database_url)\n",
    "\n",
    "# Access the specific database\n",
    "db_name = \"real_news\"\n",
    "db = client[db_name]\n",
    "\n",
    "collection_name = \"sampleCollection\"\n",
    "collection = db[collection_name]\n",
    "dummy_data = [\n",
    "    {\"name\": \"Alice\", \"age\": 25, \"city\": \"New York\"},\n",
    "    {\"name\": \"Bob\", \"age\": 30, \"city\": \"Los Angeles\"},\n",
    "]\n",
    "\n",
    "# Insert dummy data into the collection\n",
    "inserted_ids = collection.insert_many(dummy_data).inserted_ids\n",
    "\n",
    "# List all collection names in the database\n",
    "collection_names = db.list_collection_names()\n",
    "\n",
    "# Print the collection names\n",
    "print(\"Collections in the database:\")\n",
    "for name in collection_names:\n",
    "    print(name)\n"
   ]
  },
  {
   "cell_type": "code",
   "execution_count": 12,
   "metadata": {},
   "outputs": [
    {
     "name": "stdout",
     "output_type": "stream",
     "text": [
      "Database 'real_news' created and collections copied. Collections 'idstorages, selectedusers' retained with data.\n"
     ]
    }
   ],
   "source": [
    "source_db_name = 'hack2'\n",
    "target_db_name = db_name\n",
    "\n",
    "# Get the source database\n",
    "source_db = client[source_db_name]\n",
    "\n",
    "# Create the target database\n",
    "target_db = client[target_db_name]\n",
    "\n",
    "# List of collections to keep non-empty\n",
    "keep_non_empty = ['idstorages', 'selectedusers']\n",
    "\n",
    "# List all collections in the source database\n",
    "collections = source_db.list_collection_names()\n",
    "\n",
    "# Copy collections to the target database\n",
    "for collection_name in collections:\n",
    "    source_collection = source_db[collection_name]\n",
    "    target_collection = target_db[collection_name]\n",
    "\n",
    "    # Copy documents if the collection should be kept non-empty\n",
    "    if collection_name in keep_non_empty:\n",
    "        # Copy documents from source collection to target collection\n",
    "        for doc in source_collection.find():\n",
    "            target_collection.insert_one(doc)\n",
    "    else:\n",
    "        # Create an empty collection in the target database\n",
    "        target_collection.drop()  # Ensure the collection is empty\n",
    "        target_db.create_collection(collection_name)\n",
    "\n",
    "print(f\"Database '{target_db_name}' created and collections copied. Collections '{', '.join(keep_non_empty)}' retained with data.\")"
   ]
  },
  {
   "cell_type": "code",
   "execution_count": 14,
   "metadata": {},
   "outputs": [
    {
     "name": "stdout",
     "output_type": "stream",
     "text": [
      "2024-10-25 00:00:00\n",
      "2024-11-17 00:00:00\n",
      "Deleted 0 documents from idstorages\n",
      "Deleted 0 documents from postlikes\n",
      "Deleted 0 documents from commentdislikes\n",
      "Deleted 37 documents from posts\n",
      "Deleted 0 documents from subscriptions\n",
      "Deleted 20 documents from users\n",
      "Deleted 0 documents from comments\n",
      "Deleted 0 documents from viewposts\n",
      "Deleted 0 documents from users5\n",
      "Deleted 0 documents from sampleCollection\n",
      "Deleted 0 documents from reposts\n",
      "Deleted 0 documents from selectedusers\n",
      "Deleted 0 documents from commentlikes\n",
      "Deleted 0 documents from postdislikes\n",
      "Deleted 0 documents from readposts\n",
      "Data deletion complete.\n"
     ]
    }
   ],
   "source": [
    "from pymongo import MongoClient\n",
    "from datetime import datetime, timedelta\n",
    "import os\n",
    "# Replace with your MongoDB connection string\n",
    "database_url = os.getenv('db_url_for_creating')\n",
    "\n",
    "# Connect to the MongoDB server\n",
    "client = MongoClient(database_url)\n",
    "\n",
    "# Access the specific database\n",
    "db_name = 'real_news'\n",
    "db = client[db_name]\n",
    "\n",
    "three_weeks_ago = datetime.now() - timedelta(days=10) #datetime.now() - timedelta(weeks=3)\n",
    "\n",
    "now = datetime.now()\n",
    "\n",
    "# Calculate start and end of today\n",
    "start_of_today = datetime(now.year, now.month, now.day)  # 00:00:00 today\n",
    "end_of_today = start_of_today + timedelta(days=3)  # 00:00:00 tomorrow\n",
    "\n",
    "# Calculate start of yesterday\n",
    "start_of_yesterday = start_of_today - timedelta(days=20)\n",
    "print(start_of_yesterday)\n",
    "print(end_of_today)\n",
    "\n",
    "# Iterate over all collections in the database\n",
    "for collection_name in db.list_collection_names():\n",
    "    collection = db[collection_name]\n",
    "    \n",
    "    # Assuming the documents have a field named 'created_at' or similar which stores the date\n",
    "    # Replace 'created_at' with the appropriate field name in your collections\n",
    "    result = collection.delete_many({\"createdAt\": {'$gte': start_of_yesterday,'$lt': end_of_today}})\n",
    "    \n",
    "    print(f\"Deleted {result.deleted_count} documents from {collection_name}\")\n",
    "\n",
    "print(\"Data deletion complete.\")"
   ]
  },
  {
   "cell_type": "code",
   "execution_count": 13,
   "metadata": {},
   "outputs": [
    {
     "name": "stdout",
     "output_type": "stream",
     "text": [
      "Deleted 20 documents.\n"
     ]
    }
   ],
   "source": [
    "from pymongo import MongoClient\n",
    "from datetime import datetime, timedelta\n",
    "import os\n",
    "\n",
    "# Replace with your MongoDB connection string\n",
    "database_url = os.getenv('db_url_for_creating')\n",
    "\n",
    "# Connect to the MongoDB server\n",
    "client = MongoClient(database_url)\n",
    "\n",
    "db = client[\"fake_news\"]\n",
    "users_collection = db[\"users\"]     # Replace with your collection name\n",
    "\n",
    "# Define the cutoff date\n",
    "cutoff_date = datetime(2024, 11, 14, 9, 9, 59)\n",
    "\n",
    "# Delete users created after the cutoff date\n",
    "result = users_collection.delete_many({\"createdAt\": {\"$gt\": cutoff_date}})\n",
    "print(f\"Deleted {result.deleted_count} documents.\")"
   ]
  },
  {
   "cell_type": "code",
   "execution_count": 7,
   "metadata": {},
   "outputs": [
    {
     "name": "stdout",
     "output_type": "stream",
     "text": [
      "Copied 15 users to ms4.\n",
      "Copied 20 posts to ms4.\n"
     ]
    }
   ],
   "source": [
    "\n",
    "source_db = client[\"ms1\"]  # Source database\n",
    "target_db = client[\"ms3\"]  # Target database\n",
    "\n",
    "# Copy all documents from the \"users\" collection\n",
    "users = list(source_db[\"users\"].find())\n",
    "if users:\n",
    "    target_db[\"users\"].insert_many(users)\n",
    "    print(f\"Copied {len(users)} users to ms4.\")\n",
    "\n",
    "# Copy only the first 20 documents from the \"posts\" collection\n",
    "posts = list(source_db[\"posts\"].find().limit(20))\n",
    "if posts:\n",
    "    target_db[\"posts\"].insert_many(posts)\n",
    "    print(f\"Copied {len(posts)} posts to ms4.\")"
   ]
  },
  {
   "cell_type": "code",
   "execution_count": 12,
   "metadata": {},
   "outputs": [
    {
     "name": "stdout",
     "output_type": "stream",
     "text": [
      "Deleted 3 documents.\n"
     ]
    }
   ],
   "source": [
    "from pymongo import MongoClient\n",
    "import os\n",
    "\n",
    "# Replace with your MongoDB connection string\n",
    "database_url = os.getenv('db_url_for_creating')\n",
    "\n",
    "# Connect to the MongoDB server\n",
    "client = MongoClient(database_url)\n",
    "\n",
    "db = client[\"fake_news\"]\n",
    "posts_collection = db[\"posts\"]  # Replace with your collection name\n",
    "\n",
    "# Find the first 150 documents based on the creation order\n",
    "first_150_docs = posts_collection.find().sort(\"createdAt\", 1).limit(150)\n",
    "\n",
    "# Store the IDs of these documents\n",
    "first_150_ids = [doc[\"_id\"] for doc in first_150_docs]\n",
    "\n",
    "# Delete all documents that are not in the first 150\n",
    "result = posts_collection.delete_many({\n",
    "    \"_id\": {\"$nin\": first_150_ids}\n",
    "})\n",
    "\n",
    "print(f\"Deleted {result.deleted_count} documents.\")\n",
    "\n"
   ]
  },
  {
   "cell_type": "code",
   "execution_count": null,
   "metadata": {},
   "outputs": [],
   "source": []
  },
  {
   "cell_type": "code",
   "execution_count": null,
   "metadata": {},
   "outputs": [],
   "source": []
  }
 ],
 "metadata": {
  "kernelspec": {
   "display_name": "myenv",
   "language": "python",
   "name": "python3"
  },
  "language_info": {
   "codemirror_mode": {
    "name": "ipython",
    "version": 3
   },
   "file_extension": ".py",
   "mimetype": "text/x-python",
   "name": "python",
   "nbconvert_exporter": "python",
   "pygments_lexer": "ipython3",
   "version": "3.6.8"
  }
 },
 "nbformat": 4,
 "nbformat_minor": 2
}
