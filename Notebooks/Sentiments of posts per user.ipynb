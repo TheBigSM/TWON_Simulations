{
 "cells": [
  {
   "cell_type": "markdown",
   "metadata": {},
   "source": [
    "In this code we are calculating the sentiments of posts and plotting them. After that we are checking the names and and posts of the local extremes."
   ]
  },
  {
   "cell_type": "code",
   "execution_count": 1,
   "metadata": {},
   "outputs": [
    {
     "data": {
      "text/plain": [
       "True"
      ]
     },
     "execution_count": 1,
     "metadata": {},
     "output_type": "execute_result"
    }
   ],
   "source": [
    "import pandas as pd\n",
    "import plotly.graph_objs as go\n",
    "from plotly.subplots import make_subplots\n",
    "from pymongo import MongoClient\n",
    "from vaderSentiment.vaderSentiment import SentimentIntensityAnalyzer\n",
    "import plotly.io as pio\n",
    "import os\n",
    "from dotenv import load_dotenv\n",
    "load_dotenv()"
   ]
  },
  {
   "cell_type": "markdown",
   "metadata": {},
   "source": [
    "Version of the code with sorted out posts:"
   ]
  },
  {
   "cell_type": "code",
   "execution_count": 2,
   "metadata": {},
   "outputs": [],
   "source": [
    "# Set Plotly renderer\n",
    "pio.renderers.default = 'browser'\n",
    "\n",
    "# MongoDB connection\n",
    "client = MongoClient(os.getenv('db_url_for_creating'))\n",
    "db = client[os.getenv('db_name')]  # Replace with your database name\n",
    "\n",
    "# Load posts collection\n",
    "posts = pd.DataFrame(list(db.posts.find()))\n",
    "users = pd.DataFrame(list(db.users.find()))\n",
    "\n",
    "# Define function to filter out unwanted posts\n",
    "def clean_posts(post):\n",
    "    if len(post) < 15:  # Remove posts shorter than 15 characters\n",
    "        return None\n",
    "    cleaned_post = post.replace('-', '')  # Replace all '-' symbols with an empty string\n",
    "    if cleaned_post.strip() == '':  # Check if the post is empty after removing '-'\n",
    "        return None\n",
    "    return cleaned_post\n",
    "\n",
    "# Apply the filter function to remove unwanted posts\n",
    "posts['cleaned_desc'] = posts['desc'].apply(clean_posts)\n",
    "posts = posts.dropna(subset=['cleaned_desc'])  # Remove rows with None in 'cleaned_desc' column\n",
    "\n",
    "# Initialize SentimentIntensityAnalyzer\n",
    "analyzer = SentimentIntensityAnalyzer()\n",
    "\n",
    "# Function to analyze sentiment\n",
    "def analyze_sentiment(text):\n",
    "    score = analyzer.polarity_scores(text)\n",
    "    return score['compound']  # Return the compound score\n",
    "\n",
    "# Analyze sentiment for each cleaned post\n",
    "posts['sentiment'] = posts['cleaned_desc'].apply(analyze_sentiment)\n",
    "\n",
    "# Reset index to get a sequential label for filtered posts\n",
    "posts = posts.reset_index(drop=True)\n",
    "posts['post_label'] = 'post ' + (posts.index + 1).astype(str)\n",
    "\n",
    "# Convert ObjectId to string\n",
    "posts['userId'] = posts['userId'].astype(str)\n",
    "\n",
    "# Simplify user IDs for filtered posts\n",
    "user_mapping = {user_id: f'User {i + 1}' for i, user_id in enumerate(posts['userId'].unique())}\n",
    "posts['user_label'] = posts['userId'].map(user_mapping)\n",
    "\n",
    "# Save mapped posts and user labels if needed for future reference\n",
    "# Example of saving to a CSV or other file format if needed:\n",
    "posts[['post_label', 'cleaned_desc', 'sentiment', 'user_label']].to_csv('filtered_posts.csv', index=False)\n"
   ]
  },
  {
   "cell_type": "markdown",
   "metadata": {},
   "source": [
    "Plotting for users by user no.:"
   ]
  },
  {
   "cell_type": "code",
   "execution_count": 3,
   "metadata": {},
   "outputs": [],
   "source": [
    "# Create a figure\n",
    "fig = make_subplots()\n",
    "\n",
    "# Plot each user's posts\n",
    "for user_id, user_label in user_mapping.items():\n",
    "    user_posts = posts[posts['userId'] == user_id]\n",
    "    \n",
    "    # Plot only the user's posts as a line connecting their dots\n",
    "    fig.add_trace(go.Scatter(\n",
    "        x=user_posts.index + 1,    # Plot the post number (linear sequence)\n",
    "        y=user_posts['sentiment'],  # Plot the sentiment score\n",
    "        mode='lines+markers',          # Lines and markers\n",
    "        name=user_label,               # User label for legend\n",
    "        line=dict(width=1),            # Thin line\n",
    "        marker=dict(size=8)            # Adjust marker size\n",
    "    ))\n",
    "\n",
    "# Update layout for better readability\n",
    "fig.update_layout(\n",
    "    title='Sentiment of posts per User',\n",
    "    xaxis_title='posts (Sequential)',\n",
    "    yaxis_title='Sentiment Score',\n",
    "    xaxis=dict(\n",
    "        tickmode='linear',            # Keep linear tick mode\n",
    "        tickvals=list(range(1, len(posts) + 1)),  # Ticks for each post\n",
    "        ticktext=[str(i) for i in range(1, len(posts) + 1)],  # Custom tick text\n",
    "        range=[1, len(posts)],     # Set x-axis range to start at 1\n",
    "        showgrid=True,                # Optionally show grid lines for better readability\n",
    "        zeroline=True                 # Optionally show a line at y=0\n",
    "    ),\n",
    "    yaxis=dict(\n",
    "        autorange=True,               # Automatically adjust y-axis range\n",
    "    ),\n",
    "    legend_title=\"Users\",\n",
    "    hovermode=\"closest\",\n",
    "    width=1600,                    # Increase chart width for clarity\n",
    "    height=600,\n",
    "    margin=dict(l=40, r=40, t=50, b=40)  # Add margins to avoid clutter\n",
    ")\n",
    "\n",
    "# Show the plot\n",
    "fig.show()"
   ]
  },
  {
   "cell_type": "markdown",
   "metadata": {},
   "source": [
    "Finding specific user's unfo:"
   ]
  },
  {
   "cell_type": "code",
   "execution_count": 38,
   "metadata": {},
   "outputs": [
    {
     "name": "stdout",
     "output_type": "stream",
     "text": [
      "post 191, Sentiment = -0.3612 :\n",
      "This is a clear violation of human rights. We must hold those responsible accountable and ensure that healthcare workers are protected from harassment and abuse.\n"
     ]
    }
   ],
   "source": [
    "# Find specific post details\n",
    "# post (xy) by User (vw)\n",
    "specific_post = posts[(posts['post_label'] == 'post 191') & (posts['user_label'] == 'User 24')]\n",
    "\n",
    "if not specific_post.empty:\n",
    "    post_text = specific_post['desc'].values[0]\n",
    "    post_label = specific_post['post_label'].values[0]\n",
    "    post_sentiment = specific_post['sentiment'].values[0]\n",
    "    print(f\"{post_label}, Sentiment = {post_sentiment} :\\n{post_text}\")\n",
    "else:\n",
    "    print(\"post not found.\")\n",
    "\n"
   ]
  },
  {
   "cell_type": "markdown",
   "metadata": {},
   "source": [
    "Topic modelling:"
   ]
  },
  {
   "cell_type": "code",
   "execution_count": 5,
   "metadata": {},
   "outputs": [],
   "source": [
    "from nltk.corpus import stopwords\n",
    "from nltk.tokenize import word_tokenize\n",
    "from gensim import corpora\n",
    "from gensim.models import LdaModel\n",
    "import re\n",
    "import nltk\n",
    "nltk.data.path.append(r'C:\\Users\\matej\\AppData\\Roaming\\nltk_data')\n",
    "\n",
    "# Download stopwords if not already downloaded\n",
    "#nltk.download('stopwords')\n",
    "#nltk.download('punkt')\n",
    "\n",
    "# Set up stop words\n",
    "stop_words = set(stopwords.words('english'))\n",
    "\n",
    "# Preprocess the post text for topic modeling\n",
    "def preprocess_text(text):\n",
    "    # Lowercase, remove special characters, and tokenize\n",
    "    text = text.lower()\n",
    "    text = re.sub(r'\\W+', ' ', text)  # Remove non-word characters\n",
    "    words = text.split()\n",
    "    \n",
    "    # Remove stopwords and short words\n",
    "    words = [word for word in words if word not in stop_words and len(word) > 2]\n",
    "    return words\n",
    "\n",
    "# Apply preprocessing to each post\n",
    "posts['processed_desc'] = posts['cleaned_desc'].apply(preprocess_text)\n",
    "\n",
    "# Create a dictionary and corpus for LDA\n",
    "dictionary = corpora.Dictionary(posts['processed_desc'])\n",
    "corpus = [dictionary.doc2bow(text) for text in posts['processed_desc']]\n",
    "\n",
    "# Train the LDA model\n",
    "num_topics = 5  # Define the number of topics\n",
    "lda_model = LdaModel(corpus, num_topics=num_topics, id2word=dictionary, passes=15, random_state=42)\n",
    "\n",
    "# Display the main topics\n",
    "#for idx, topic in lda_model.print_topics(-1):\n",
    "  #  print(f\"Topic {idx + 1}: {topic}\")\n"
   ]
  },
  {
   "cell_type": "code",
   "execution_count": 6,
   "metadata": {},
   "outputs": [
    {
     "data": {
      "text/html": [
       "\n",
       "<link rel=\"stylesheet\" type=\"text/css\" href=\"https://cdn.jsdelivr.net/gh/bmabey/pyLDAvis@3.4.0/pyLDAvis/js/ldavis.v1.0.0.css\">\n",
       "\n",
       "\n",
       "<div id=\"ldavis_el533665139732286729568527128033\" style=\"background-color:white;\"></div>\n",
       "<script type=\"text/javascript\">\n",
       "\n",
       "var ldavis_el533665139732286729568527128033_data = {\"mdsDat\": {\"x\": [-0.16116886547261644, 0.24031880006424305, -0.17552354837110937, 0.048385669277510125, 0.047987944501972836], \"y\": [0.1400023568142565, -0.03268453784244129, -0.15908992321166995, 0.02580988063911629, 0.025962223600738563], \"topics\": [1, 2, 3, 4, 5], \"cluster\": [1, 1, 1, 1, 1], \"Freq\": [40.48286893431758, 33.31111275847195, 24.0867194650544, 1.0596513224772837, 1.0596475196787862]}, \"tinfo\": {\"Term\": [\"patient\", \"nurse\", \"duty\", \"protect\", \"jobs\", \"free\", \"fear\", \"without\", \"retaliation\", \"must\", \"violation\", \"clear\", \"human\", \"professionals\", \"abuse\", \"workers\", \"protected\", \"harassment\", \"disturbing\", \"incident\", \"safer\", \"environment\", \"towards\", \"mistreated\", \"work\", \"respectful\", \"need\", \"creating\", \"respect\", \"patients\", \"protect\", \"duty\", \"free\", \"jobs\", \"fear\", \"without\", \"retaliation\", \"nurse\", \"patient\", \"professionals\", \"clear\", \"violation\", \"must\", \"healthcare\", \"ensure\", \"rights\", \"hold\", \"accountable\", \"responsible\", \"actions\", \"cop\", \"psycho\", \"violate\", \"justice\", \"demand\", \"involved\", \"environment\", \"safer\", \"work\", \"towards\", \"disturbing\", \"incident\", \"respect\", \"incident\", \"disturbing\", \"medical\", \"patients\", \"creating\", \"important\", \"respect\", \"respectful\", \"need\", \"mistreated\", \"work\", \"towards\", \"environment\", \"safer\", \"professionals\", \"psycho\", \"cop\", \"actions\", \"ensure\", \"healthcare\", \"responsible\", \"accountable\", \"hold\", \"rights\", \"violate\", \"demand\", \"involved\", \"justice\", \"protected\", \"abuse\", \"protect\", \"duty\", \"patient\", \"must\", \"clear\", \"violation\", \"nurse\", \"human\", \"harassment\", \"workers\", \"protected\", \"abuse\", \"involved\", \"demand\", \"justice\", \"must\", \"violation\", \"clear\", \"violate\", \"responsible\", \"accountable\", \"hold\", \"rights\", \"healthcare\", \"ensure\", \"psycho\", \"cop\", \"actions\", \"patient\", \"nurse\", \"environment\", \"towards\", \"work\", \"important\", \"mistreated\", \"respect\", \"safer\", \"incident\", \"disturbing\", \"retaliation\", \"without\", \"fear\", \"jobs\", \"free\", \"duty\", \"protect\", \"professionals\", \"violate\", \"actions\", \"cop\", \"psycho\", \"justice\", \"demand\", \"involved\", \"safer\", \"environment\", \"towards\", \"mistreated\", \"work\", \"respectful\", \"need\", \"respect\", \"creating\", \"important\", \"patients\", \"medical\", \"disturbing\", \"incident\", \"abuse\", \"harassment\", \"workers\", \"protected\", \"human\", \"retaliation\", \"fear\", \"free\", \"jobs\", \"professionals\", \"ensure\", \"healthcare\", \"hold\", \"rights\", \"accountable\", \"responsible\", \"clear\", \"violation\", \"must\", \"patient\", \"nurse\", \"violate\", \"actions\", \"cop\", \"psycho\", \"justice\", \"demand\", \"involved\", \"environment\", \"mistreated\", \"safer\", \"creating\", \"important\", \"towards\", \"patients\", \"work\", \"need\", \"respect\", \"respectful\", \"medical\", \"disturbing\", \"incident\", \"abuse\", \"protected\", \"workers\", \"harassment\", \"human\", \"without\", \"jobs\", \"fear\", \"retaliation\", \"rights\", \"responsible\", \"ensure\", \"healthcare\", \"accountable\", \"hold\", \"violation\", \"must\", \"clear\", \"professionals\", \"patient\", \"nurse\", \"duty\", \"protect\", \"free\"], \"Freq\": [81.0, 80.0, 75.0, 75.0, 74.0, 74.0, 74.0, 74.0, 74.0, 137.0, 136.0, 136.0, 62.0, 129.0, 58.0, 58.0, 58.0, 58.0, 57.0, 57.0, 57.0, 57.0, 57.0, 57.0, 57.0, 57.0, 57.0, 57.0, 57.0, 57.0, 73.88563155795485, 73.88544686795163, 72.917766234437, 72.91765014357783, 72.91726493299966, 72.91690610670766, 72.9162992681256, 78.48876604569435, 79.36893527881958, 72.91616734669472, 74.7602020455535, 74.75931553353797, 75.01954902495156, 72.90512288450134, 72.90466379792187, 74.69644177957997, 74.69492204469621, 74.6947109704068, 73.7813450284146, 0.2193921623670237, 0.2193757134136107, 0.2193689730530016, 0.19609343600819168, 0.19491863444074697, 0.19491735645188532, 0.19491591356123505, 0.1960541893825045, 0.19602465134962124, 0.1958753533927661, 0.19583235525138826, 0.19578399780188083, 0.19574895617180302, 0.1956771620555906, 55.94954175681858, 55.94938544360077, 54.97457713900972, 54.97410819935628, 54.97400833257823, 54.97391714986784, 54.973782546819166, 54.97400833257823, 54.97393017596932, 54.97383899325894, 54.97342215801143, 54.973335317334865, 54.973061769203696, 54.9729401922565, 54.976474607792625, 1.1442301225320233, 1.144223473792724, 1.1442065127230827, 54.97268835429447, 54.97218033633658, 54.971472584822585, 55.50661522804182, 55.506363390079784, 55.50568169076876, 0.20038442018177113, 0.19565346902673733, 0.1956525531289767, 0.19565273970074273, 0.19570302927222905, 0.19569176712198727, 0.19757073137791456, 0.19756727131970775, 0.19790732380494516, 0.1976967351642794, 0.19762544778857724, 0.19761421956047473, 0.19759339136695528, 60.96319142696613, 56.14018763341342, 56.14013111965098, 56.140106002423224, 56.1400683265816, 5.014341732627408, 5.014336238233837, 5.014334668407103, 60.80397332024882, 60.09832364448881, 60.09743198290363, 1.1479677848039433, 60.11232649896032, 60.60527721081296, 60.605233255664395, 60.60434159407921, 56.16003652264411, 56.15994233304004, 0.19294036424245642, 0.19294009442848642, 0.1929400331071296, 0.5294731232868622, 0.44076996554122905, 0.1929682286669933, 0.19295981537683826, 0.19295693327306793, 0.19295313134894537, 0.19295456626869484, 0.19295169642919588, 0.19295641817367068, 0.19508500511144672, 0.19507386915304906, 0.19829056677470025, 0.19772040079903067, 0.1973583840369353, 0.19696121787311333, 0.19687460758874728, 0.19700956363082658, 0.19686531127105406, 0.1969868379359908, 0.8249678440582133, 0.826667727905663, 0.8266668301040048, 0.8266668301040048, 0.8211461095839234, 0.8211436924256127, 0.8211383056156629, 0.8265048804971846, 0.8257656444240921, 0.8256677840433397, 0.8255015526132263, 0.8251729572062968, 0.8250715056189114, 0.8250072092078455, 0.8245447722921665, 0.8244634867112594, 0.8244514009197056, 0.824446221294754, 0.8243896597902824, 0.8259688929071929, 0.8254688173835323, 0.8209808450171343, 0.8209110927344527, 0.8208875427063395, 0.8208722800781487, 0.8209544634607141, 0.8211066753726252, 0.821096247061056, 0.8210733185879369, 0.8210719373546165, 0.8280720968842074, 0.8280781743108172, 0.8279813498550553, 0.827967537521851, 0.8279623578968994, 0.8275233328860017, 0.8275229875776715, 0.82209860808169, 0.8220613838437044, 0.8220164937607906, 0.8215240840820582, 0.8214200081513641, 0.8271840340247829, 0.8289524206986474, 0.8289513157159566, 0.8289511775931202, 0.8232875888111832, 0.8232846191702016, 0.8232788180110746, 0.8229598923819289, 0.8229379999123665, 0.8229422817202935, 0.8229179030396767, 0.8229135521703315, 0.8229204583121492, 0.8229022260977503, 0.822899394579605, 0.8228632063964797, 0.8228565074389165, 0.8228553333948074, 0.8228430404623718, 0.822980541745964, 0.822930817524876, 0.8231635545041356, 0.8230526418665418, 0.8230429732679969, 0.8229854451066547, 0.8230583739642506, 0.823233168413659, 0.8232110687598421, 0.8232101018999876, 0.8232003642400245, 0.8252710327412538, 0.8250915421154094, 0.8250603263543929, 0.8249871903125424, 0.8249851875314153, 0.8249813200919973, 0.82439864890683, 0.8242494762435656, 0.8242425701017478, 0.8240962289566288, 0.8236837941672701, 0.823605754764729, 0.823254508391876, 0.8232003642400245, 0.823193181852534], \"Total\": [81.0, 80.0, 75.0, 75.0, 74.0, 74.0, 74.0, 74.0, 74.0, 137.0, 136.0, 136.0, 62.0, 129.0, 58.0, 58.0, 58.0, 58.0, 57.0, 57.0, 57.0, 57.0, 57.0, 57.0, 57.0, 57.0, 57.0, 57.0, 57.0, 57.0, 75.92433437726517, 75.92435070114199, 74.95459486932079, 74.95459352971375, 74.95462472356712, 74.95461793368796, 74.95458987979302, 80.77215516551863, 81.7415236041607, 129.74179711826415, 136.70160065442914, 136.70171343033778, 137.66748505036904, 185.69030828364964, 185.69043298592157, 192.4596984550661, 192.45946754805425, 192.45911192967898, 190.51775864189062, 3.2121588568015467, 3.212157427454782, 3.2121574675246065, 3.196597519076902, 7.049339740943699, 7.049335375308274, 7.049327322944357, 57.010809724059214, 57.011368423997276, 57.01032679646317, 57.01071573031858, 57.989192745208854, 57.98877535301024, 57.00981268503503, 57.98877535301024, 57.989192745208854, 57.009692337523276, 57.009766967315464, 57.009804707169785, 57.009784020319984, 57.00981268503503, 57.010207686873144, 57.010170369829275, 57.01059819747389, 57.01032679646317, 57.01071573031858, 57.010809724059214, 57.011368423997276, 129.74179711826415, 3.2121574675246065, 3.212157427454782, 3.2121588568015467, 185.69043298592157, 185.69030828364964, 190.51775864189062, 192.45911192967898, 192.45946754805425, 192.4596984550661, 3.196597519076902, 7.049335375308274, 7.049327322944357, 7.049339740943699, 58.173946746587504, 58.17414301085124, 75.92433437726517, 75.92435070114199, 81.7415236041607, 137.66748505036904, 136.70160065442914, 136.70171343033778, 80.77215516551863, 62.997167207326875, 58.17395292259907, 58.173952514702385, 58.173946746587504, 58.17414301085124, 7.049327322944357, 7.049335375308274, 7.049339740943699, 137.66748505036904, 136.70171343033778, 136.70160065442914, 3.196597519076902, 190.51775864189062, 192.45911192967898, 192.45946754805425, 192.4596984550661, 185.69030828364964, 185.69043298592157, 3.2121574675246065, 3.212157427454782, 3.2121588568015467, 81.7415236041607, 80.77215516551863, 57.010809724059214, 57.01071573031858, 57.01032679646317, 57.009784020319984, 57.01059819747389, 57.00981268503503, 57.011368423997276, 57.98877535301024, 57.989192745208854, 74.95458987979302, 74.95461793368796, 74.95462472356712, 74.95459352971375, 74.95459486932079, 75.92435070114199, 75.92433437726517, 129.74179711826415, 3.196597519076902, 3.2121588568015467, 3.212157427454782, 3.2121574675246065, 7.049339740943699, 7.049335375308274, 7.049327322944357, 57.011368423997276, 57.010809724059214, 57.01071573031858, 57.01059819747389, 57.01032679646317, 57.010207686873144, 57.010170369829275, 57.00981268503503, 57.009804707169785, 57.009784020319984, 57.009766967315464, 57.009692337523276, 57.989192745208854, 57.98877535301024, 58.17414301085124, 58.17395292259907, 58.173952514702385, 58.173946746587504, 62.997167207326875, 74.95458987979302, 74.95462472356712, 74.95459486932079, 74.95459352971375, 129.74179711826415, 185.69043298592157, 185.69030828364964, 192.45946754805425, 192.4596984550661, 192.45911192967898, 190.51775864189062, 136.70160065442914, 136.70171343033778, 137.66748505036904, 81.7415236041607, 80.77215516551863, 3.196597519076902, 3.2121588568015467, 3.212157427454782, 3.2121574675246065, 7.049339740943699, 7.049335375308274, 7.049327322944357, 57.010809724059214, 57.01059819747389, 57.011368423997276, 57.009804707169785, 57.009784020319984, 57.01071573031858, 57.009766967315464, 57.01032679646317, 57.010170369829275, 57.00981268503503, 57.010207686873144, 57.009692337523276, 57.989192745208854, 57.98877535301024, 58.17414301085124, 58.173946746587504, 58.173952514702385, 58.17395292259907, 62.997167207326875, 74.95461793368796, 74.95459352971375, 74.95462472356712, 74.95458987979302, 192.4596984550661, 190.51775864189062, 185.69043298592157, 185.69030828364964, 192.45911192967898, 192.45946754805425, 136.70171343033778, 137.66748505036904, 136.70160065442914, 129.74179711826415, 81.7415236041607, 80.77215516551863, 75.92435070114199, 75.92433437726517, 74.95459486932079], \"Category\": [\"Default\", \"Default\", \"Default\", \"Default\", \"Default\", \"Default\", \"Default\", \"Default\", \"Default\", \"Default\", \"Default\", \"Default\", \"Default\", \"Default\", \"Default\", \"Default\", \"Default\", \"Default\", \"Default\", \"Default\", \"Default\", \"Default\", \"Default\", \"Default\", \"Default\", \"Default\", \"Default\", \"Default\", \"Default\", \"Default\", \"Topic1\", \"Topic1\", \"Topic1\", \"Topic1\", \"Topic1\", \"Topic1\", \"Topic1\", \"Topic1\", \"Topic1\", \"Topic1\", \"Topic1\", \"Topic1\", \"Topic1\", \"Topic1\", \"Topic1\", \"Topic1\", \"Topic1\", \"Topic1\", \"Topic1\", \"Topic1\", \"Topic1\", \"Topic1\", \"Topic1\", \"Topic1\", \"Topic1\", \"Topic1\", \"Topic1\", \"Topic1\", \"Topic1\", \"Topic1\", \"Topic1\", \"Topic1\", \"Topic1\", \"Topic2\", \"Topic2\", \"Topic2\", \"Topic2\", \"Topic2\", \"Topic2\", \"Topic2\", \"Topic2\", \"Topic2\", \"Topic2\", \"Topic2\", \"Topic2\", \"Topic2\", \"Topic2\", \"Topic2\", \"Topic2\", \"Topic2\", \"Topic2\", \"Topic2\", \"Topic2\", \"Topic2\", \"Topic2\", \"Topic2\", \"Topic2\", \"Topic2\", \"Topic2\", \"Topic2\", \"Topic2\", \"Topic2\", \"Topic2\", \"Topic2\", \"Topic2\", \"Topic2\", \"Topic2\", \"Topic2\", \"Topic2\", \"Topic2\", \"Topic3\", \"Topic3\", \"Topic3\", \"Topic3\", \"Topic3\", \"Topic3\", \"Topic3\", \"Topic3\", \"Topic3\", \"Topic3\", \"Topic3\", \"Topic3\", \"Topic3\", \"Topic3\", \"Topic3\", \"Topic3\", \"Topic3\", \"Topic3\", \"Topic3\", \"Topic3\", \"Topic3\", \"Topic3\", \"Topic3\", \"Topic3\", \"Topic3\", \"Topic3\", \"Topic3\", \"Topic3\", \"Topic3\", \"Topic3\", \"Topic3\", \"Topic3\", \"Topic3\", \"Topic3\", \"Topic3\", \"Topic3\", \"Topic3\", \"Topic3\", \"Topic3\", \"Topic3\", \"Topic4\", \"Topic4\", \"Topic4\", \"Topic4\", \"Topic4\", \"Topic4\", \"Topic4\", \"Topic4\", \"Topic4\", \"Topic4\", \"Topic4\", \"Topic4\", \"Topic4\", \"Topic4\", \"Topic4\", \"Topic4\", \"Topic4\", \"Topic4\", \"Topic4\", \"Topic4\", \"Topic4\", \"Topic4\", \"Topic4\", \"Topic4\", \"Topic4\", \"Topic4\", \"Topic4\", \"Topic4\", \"Topic4\", \"Topic4\", \"Topic4\", \"Topic4\", \"Topic4\", \"Topic4\", \"Topic4\", \"Topic4\", \"Topic4\", \"Topic4\", \"Topic4\", \"Topic4\", \"Topic4\", \"Topic4\", \"Topic5\", \"Topic5\", \"Topic5\", \"Topic5\", \"Topic5\", \"Topic5\", \"Topic5\", \"Topic5\", \"Topic5\", \"Topic5\", \"Topic5\", \"Topic5\", \"Topic5\", \"Topic5\", \"Topic5\", \"Topic5\", \"Topic5\", \"Topic5\", \"Topic5\", \"Topic5\", \"Topic5\", \"Topic5\", \"Topic5\", \"Topic5\", \"Topic5\", \"Topic5\", \"Topic5\", \"Topic5\", \"Topic5\", \"Topic5\", \"Topic5\", \"Topic5\", \"Topic5\", \"Topic5\", \"Topic5\", \"Topic5\", \"Topic5\", \"Topic5\", \"Topic5\", \"Topic5\", \"Topic5\", \"Topic5\", \"Topic5\", \"Topic5\", \"Topic5\"], \"logprob\": [30.0, 29.0, 28.0, 27.0, 26.0, 25.0, 24.0, 23.0, 22.0, 21.0, 20.0, 19.0, 18.0, 17.0, 16.0, 15.0, 14.0, 13.0, 12.0, 11.0, 10.0, 9.0, 8.0, 7.0, 6.0, 5.0, 4.0, 3.0, 2.0, 1.0, -2.9534, -2.9534, -2.9666, -2.9666, -2.9666, -2.9666, -2.9666, -2.893, -2.8818, -2.9666, -2.9417, -2.9417, -2.9382, -2.9668, -2.9668, -2.9425, -2.9425, -2.9425, -2.9548, -8.7728, -8.7729, -8.7729, -8.8851, -8.8911, -8.8911, -8.8911, -8.8853, -8.8855, -8.8862, -8.8864, -8.8867, -8.8869, -8.8872, -3.0365, -3.0365, -3.0541, -3.0541, -3.0541, -3.0541, -3.0541, -3.0541, -3.0541, -3.0541, -3.0541, -3.0541, -3.0541, -3.0541, -3.054, -6.9262, -6.9262, -6.9262, -3.0541, -3.0541, -3.0541, -3.0445, -3.0445, -3.0445, -8.6685, -8.6924, -8.6924, -8.6924, -8.6921, -8.6922, -8.6826, -8.6826, -8.6809, -8.682, -8.6823, -8.6824, -8.6825, -2.6265, -2.7089, -2.7089, -2.7089, -2.7089, -5.1244, -5.1244, -5.1244, -2.6291, -2.6407, -2.6408, -6.5987, -2.6405, -2.6323, -2.6323, -2.6324, -2.7085, -2.7085, -8.3821, -8.3821, -8.3821, -7.3726, -7.556, -8.382, -8.382, -8.382, -8.382, -8.382, -8.382, -8.382, -8.371, -8.3711, -8.3547, -8.3576, -8.3595, -8.3615, -8.3619, -8.3612, -8.362, -8.3613, -3.8054, -3.8034, -3.8034, -3.8034, -3.8101, -3.8101, -3.8101, -3.8036, -3.8044, -3.8046, -3.8048, -3.8052, -3.8053, -3.8054, -3.8059, -3.806, -3.806, -3.806, -3.8061, -3.8042, -3.8048, -3.8103, -3.8103, -3.8104, -3.8104, -3.8103, -3.8101, -3.8101, -3.8101, -3.8101, -3.8017, -3.8016, -3.8018, -3.8018, -3.8018, -3.8023, -3.8023, -3.8089, -3.8089, -3.809, -3.8096, -3.8097, -3.8027, -3.8006, -3.8006, -3.8006, -3.8074, -3.8075, -3.8075, -3.8078, -3.8079, -3.8079, -3.8079, -3.8079, -3.8079, -3.8079, -3.8079, -3.808, -3.808, -3.808, -3.808, -3.8078, -3.8079, -3.8076, -3.8077, -3.8077, -3.8078, -3.8077, -3.8075, -3.8075, -3.8075, -3.8076, -3.805, -3.8053, -3.8053, -3.8054, -3.8054, -3.8054, -3.8061, -3.8063, -3.8063, -3.8065, -3.807, -3.8071, -3.8075, -3.8076, -3.8076], \"loglift\": [30.0, 29.0, 28.0, 27.0, 26.0, 25.0, 24.0, 23.0, 22.0, 21.0, 20.0, 19.0, 18.0, 17.0, 16.0, 15.0, 14.0, 13.0, 12.0, 11.0, 10.0, 9.0, 8.0, 7.0, 6.0, 5.0, 4.0, 3.0, 2.0, 1.0, 0.8771, 0.8771, 0.8767, 0.8767, 0.8767, 0.8767, 0.8767, 0.8756, 0.8748, 0.3281, 0.3008, 0.3008, 0.2972, -0.0306, -0.0306, -0.0422, -0.0422, -0.0422, -0.0443, -1.7795, -1.7796, -1.7797, -1.887, -2.6838, -2.6838, -2.6838, -4.7683, -4.7685, -4.7692, -4.7694, -4.7867, -4.7869, -4.7702, 1.0635, 1.0635, 1.0629, 1.0629, 1.0629, 1.0629, 1.0629, 1.0629, 1.0629, 1.0629, 1.0629, 1.0629, 1.0629, 1.0629, 0.2406, 0.0671, 0.0671, 0.067, -0.118, -0.118, -0.1437, -0.1441, -0.1441, -0.1441, -1.6703, -2.4851, -2.4851, -2.4851, -4.5953, -4.5954, -4.8521, -4.8521, -4.9242, -5.4466, -5.4399, -5.44, -4.9139, 1.3907, 1.3879, 1.3879, 1.3879, 1.3879, 1.0829, 1.0829, 1.0829, 0.6063, 0.6017, 0.6017, 0.3994, 0.27, 0.268, 0.268, 0.268, 0.2276, 0.2276, -1.3888, -1.3888, -1.3888, -3.6159, -3.7874, -4.265, -4.265, -4.265, -4.265, -4.265, -4.265, -4.265, -4.2711, -4.2711, -4.5114, -4.5143, -4.5161, -4.5181, -4.5186, -4.5307, -4.5315, -5.0667, 3.1927, 3.1899, 3.1899, 3.1899, 2.3972, 2.3972, 2.3972, 0.3134, 0.3125, 0.3124, 0.3122, 0.3118, 0.3117, 0.3116, 0.3111, 0.311, 0.311, 0.311, 0.3109, 0.2958, 0.2952, 0.2865, 0.2865, 0.2864, 0.2864, 0.2069, 0.0332, 0.0332, 0.0332, 0.0332, -0.507, -0.8655, -0.8656, -0.9014, -0.9014, -0.902, -0.8918, -0.5665, -0.5665, -0.5736, -0.0529, -0.0411, 3.1954, 3.1927, 3.1927, 3.1927, 2.3999, 2.3998, 2.3998, 0.3091, 0.3091, 0.3091, 0.3091, 0.3091, 0.3091, 0.3091, 0.3091, 0.309, 0.309, 0.309, 0.309, 0.2922, 0.2921, 0.2892, 0.2891, 0.289, 0.289, 0.2094, 0.0358, 0.0358, 0.0358, 0.0358, -0.9047, -0.8948, -0.8691, -0.8692, -0.905, -0.905, -0.5637, -0.5709, -0.5639, -0.5118, -0.0503, -0.0385, 0.023, 0.0229, 0.0358]}, \"token.table\": {\"Topic\": [3, 4, 5, 1, 2, 3, 4, 5, 2, 4, 5, 1, 3, 4, 5, 2, 4, 5, 2, 4, 5, 3, 4, 5, 2, 4, 5, 1, 4, 5, 1, 2, 3, 4, 5, 2, 4, 5, 1, 4, 5, 1, 4, 5, 3, 4, 5, 1, 2, 3, 4, 5, 1, 2, 3, 4, 5, 3, 4, 5, 2, 4, 5, 2, 4, 5, 3, 4, 5, 1, 4, 5, 3, 4, 5, 2, 4, 5, 2, 4, 5, 1, 3, 4, 5, 2, 4, 5, 1, 4, 5, 1, 3, 4, 5, 2, 4, 5, 1, 2, 4, 5, 1, 4, 5, 3, 4, 5, 2, 4, 5, 2, 4, 5, 2, 4, 5, 1, 2, 3, 4, 5, 1, 4, 5, 1, 2, 3, 4, 5, 2, 4, 5, 2, 4, 5, 3, 4, 5, 1, 3, 4, 5, 1, 4, 5, 2, 4, 5, 3, 4, 5], \"Freq\": [0.9626269868651834, 0.017189767622592562, 0.017189767622592562, 0.3896931626048634, 0.2909708947449647, 0.31695043891862223, 0.005195908834731512, 0.005195908834731512, 0.3113171062142715, 0.3113171062142715, 0.3113171062142715, 0.5486402473778934, 0.4389121979023147, 0.007315203298371912, 0.007315203298371912, 0.3113172447442497, 0.3113172447442497, 0.3113172447442497, 0.9647463323634746, 0.01754084240660863, 0.01754084240660863, 0.7092867247476284, 0.14185734494952568, 0.14185734494952568, 0.9656971816464335, 0.0172445925294006, 0.0172445925294006, 0.9746543673621032, 0.013171004964352745, 0.013171004964352745, 0.3931274154847526, 0.2961918883789232, 0.30157719544035816, 0.005385307061434967, 0.005385307061434967, 0.9647293253017835, 0.017540533187305155, 0.017540533187305155, 0.973922560071833, 0.013341404932490863, 0.013341404932490863, 0.9739229479829954, 0.013341410246342403, 0.013341410246342403, 0.9626301323292998, 0.01718982379159464, 0.01718982379159464, 0.3931276794935871, 0.29619208728968893, 0.30157739796768324, 0.005385310677994344, 0.005385310677994344, 0.38969244254649943, 0.29097035710138625, 0.3169498532711529, 0.005195899233953326, 0.005195899233953326, 0.968297507715639, 0.015873729634682608, 0.015873729634682608, 0.9647466824360598, 0.017540848771564723, 0.017540848771564723, 0.9657041325514559, 0.01724471665270457, 0.01724471665270457, 0.7092875349575346, 0.14185750699150693, 0.14185750699150693, 0.9739229653891872, 0.013341410484783387, 0.013341410484783387, 0.7092862854884403, 0.14185725709768804, 0.14185725709768804, 0.9647482339384506, 0.017540876980699102, 0.017540876980699102, 0.9647329047397546, 0.017540598267995536, 0.017540598267995536, 0.5447909502564051, 0.4430966395418762, 0.007263879336752069, 0.007263879336752069, 0.9647401444901997, 0.017540729899821812, 0.017540729899821812, 0.9656793215454272, 0.012380504122377272, 0.012380504122377272, 0.9664610655236042, 0.012233684373716509, 0.012233684373716509, 0.012233684373716509, 0.9647469710152, 0.01754085401845818, 0.01754085401845818, 0.5626559953802549, 0.42391890062895915, 0.007707616375071985, 0.007707616375071985, 0.9746545769146526, 0.013171007796143955, 0.013171007796143955, 0.962630234526506, 0.01718982561654475, 0.01718982561654475, 0.3113172408607454, 0.3113172408607454, 0.3113172408607454, 0.9647461973583611, 0.0175408399519702, 0.0175408399519702, 0.9647395130024057, 0.01754071841822556, 0.01754071841822556, 0.3884152350285368, 0.2886869990076963, 0.3149312716447596, 0.00524885452741266, 0.00524885452741266, 0.9739230128144567, 0.013341411134444611, 0.013341411134444611, 0.38969197500592767, 0.290970008004426, 0.3169494730048212, 0.005195893000079036, 0.005195893000079036, 0.9647198711485296, 0.01754036129360963, 0.01754036129360963, 0.9647309158539599, 0.017540562106435634, 0.017540562106435634, 0.3128326272019304, 0.3128326272019304, 0.3128326272019304, 0.5486397947617494, 0.4389118358093995, 0.007315197263489992, 0.007315197263489992, 0.9739226482961036, 0.013341406141042516, 0.013341406141042516, 0.9647374974074366, 0.017540681771044304, 0.017540681771044304, 0.9626301390789467, 0.01718982391212405, 0.01718982391212405], \"Term\": [\"abuse\", \"abuse\", \"abuse\", \"accountable\", \"accountable\", \"accountable\", \"accountable\", \"accountable\", \"actions\", \"actions\", \"actions\", \"clear\", \"clear\", \"clear\", \"clear\", \"cop\", \"cop\", \"cop\", \"creating\", \"creating\", \"creating\", \"demand\", \"demand\", \"demand\", \"disturbing\", \"disturbing\", \"disturbing\", \"duty\", \"duty\", \"duty\", \"ensure\", \"ensure\", \"ensure\", \"ensure\", \"ensure\", \"environment\", \"environment\", \"environment\", \"fear\", \"fear\", \"fear\", \"free\", \"free\", \"free\", \"harassment\", \"harassment\", \"harassment\", \"healthcare\", \"healthcare\", \"healthcare\", \"healthcare\", \"healthcare\", \"hold\", \"hold\", \"hold\", \"hold\", \"hold\", \"human\", \"human\", \"human\", \"important\", \"important\", \"important\", \"incident\", \"incident\", \"incident\", \"involved\", \"involved\", \"involved\", \"jobs\", \"jobs\", \"jobs\", \"justice\", \"justice\", \"justice\", \"medical\", \"medical\", \"medical\", \"mistreated\", \"mistreated\", \"mistreated\", \"must\", \"must\", \"must\", \"must\", \"need\", \"need\", \"need\", \"nurse\", \"nurse\", \"nurse\", \"patient\", \"patient\", \"patient\", \"patient\", \"patients\", \"patients\", \"patients\", \"professionals\", \"professionals\", \"professionals\", \"professionals\", \"protect\", \"protect\", \"protect\", \"protected\", \"protected\", \"protected\", \"psycho\", \"psycho\", \"psycho\", \"respect\", \"respect\", \"respect\", \"respectful\", \"respectful\", \"respectful\", \"responsible\", \"responsible\", \"responsible\", \"responsible\", \"responsible\", \"retaliation\", \"retaliation\", \"retaliation\", \"rights\", \"rights\", \"rights\", \"rights\", \"rights\", \"safer\", \"safer\", \"safer\", \"towards\", \"towards\", \"towards\", \"violate\", \"violate\", \"violate\", \"violation\", \"violation\", \"violation\", \"violation\", \"without\", \"without\", \"without\", \"work\", \"work\", \"work\", \"workers\", \"workers\", \"workers\"]}, \"R\": 30, \"lambda.step\": 0.01, \"plot.opts\": {\"xlab\": \"PC1\", \"ylab\": \"PC2\"}, \"topic.order\": [5, 2, 3, 1, 4]};\n",
       "\n",
       "function LDAvis_load_lib(url, callback){\n",
       "  var s = document.createElement('script');\n",
       "  s.src = url;\n",
       "  s.async = true;\n",
       "  s.onreadystatechange = s.onload = callback;\n",
       "  s.onerror = function(){console.warn(\"failed to load library \" + url);};\n",
       "  document.getElementsByTagName(\"head\")[0].appendChild(s);\n",
       "}\n",
       "\n",
       "if(typeof(LDAvis) !== \"undefined\"){\n",
       "   // already loaded: just create the visualization\n",
       "   !function(LDAvis){\n",
       "       new LDAvis(\"#\" + \"ldavis_el533665139732286729568527128033\", ldavis_el533665139732286729568527128033_data);\n",
       "   }(LDAvis);\n",
       "}else if(typeof define === \"function\" && define.amd){\n",
       "   // require.js is available: use it to load d3/LDAvis\n",
       "   require.config({paths: {d3: \"https://d3js.org/d3.v5\"}});\n",
       "   require([\"d3\"], function(d3){\n",
       "      window.d3 = d3;\n",
       "      LDAvis_load_lib(\"https://cdn.jsdelivr.net/gh/bmabey/pyLDAvis@3.4.0/pyLDAvis/js/ldavis.v3.0.0.js\", function(){\n",
       "        new LDAvis(\"#\" + \"ldavis_el533665139732286729568527128033\", ldavis_el533665139732286729568527128033_data);\n",
       "      });\n",
       "    });\n",
       "}else{\n",
       "    // require.js not available: dynamically load d3 & LDAvis\n",
       "    LDAvis_load_lib(\"https://d3js.org/d3.v5.js\", function(){\n",
       "         LDAvis_load_lib(\"https://cdn.jsdelivr.net/gh/bmabey/pyLDAvis@3.4.0/pyLDAvis/js/ldavis.v3.0.0.js\", function(){\n",
       "                 new LDAvis(\"#\" + \"ldavis_el533665139732286729568527128033\", ldavis_el533665139732286729568527128033_data);\n",
       "            })\n",
       "         });\n",
       "}\n",
       "</script>"
      ],
      "text/plain": [
       "<IPython.core.display.HTML object>"
      ]
     },
     "execution_count": 6,
     "metadata": {},
     "output_type": "execute_result"
    }
   ],
   "source": [
    "import pyLDAvis.gensim_models as gensimvis\n",
    "import pyLDAvis\n",
    "\n",
    "# Visualize the topics\n",
    "lda_vis = gensimvis.prepare(lda_model, corpus, dictionary)\n",
    "pyLDAvis.display(lda_vis)\n"
   ]
  },
  {
   "cell_type": "markdown",
   "metadata": {},
   "source": [
    "Plotting the sentiments per post for users with their names attached:"
   ]
  },
  {
   "cell_type": "code",
   "execution_count": 4,
   "metadata": {},
   "outputs": [
    {
     "name": "stdout",
     "output_type": "stream",
     "text": [
      "Unique userIds in posts: ['67372f81ff13abdfc5591b1a' '67372f81ff13abdfc5591b12'\n",
      " '67372f81ff13abdfc5591b15' '67372f81ff13abdfc5591b1c'\n",
      " '67372f81ff13abdfc5591b11' '67372f81ff13abdfc5591b0f'\n",
      " '67372f81ff13abdfc5591b0e' '67372f81ff13abdfc5591b16'\n",
      " '67372f81ff13abdfc5591b1b' '67372f81ff13abdfc5591b21'\n",
      " '67372f81ff13abdfc5591b1d' '67372f81ff13abdfc5591b18'\n",
      " '67372f81ff13abdfc5591b25' '67372f81ff13abdfc5591b0d'\n",
      " '67372f81ff13abdfc5591b27' '67372f82ff13abdfc5591b28'\n",
      " '67372f82ff13abdfc5591b29' '67372f81ff13abdfc5591b22'\n",
      " '67372f81ff13abdfc5591b13' '67372f81ff13abdfc5591b1f'\n",
      " '67372f81ff13abdfc5591b24' '67372f81ff13abdfc5591b17'\n",
      " '67372f81ff13abdfc5591b14' '67372f81ff13abdfc5591b10']\n",
      "Unique _id in users: ['67372f81ff13abdfc5591b0d' '67372f81ff13abdfc5591b0e'\n",
      " '67372f81ff13abdfc5591b0f' '67372f81ff13abdfc5591b10'\n",
      " '67372f81ff13abdfc5591b11' '67372f81ff13abdfc5591b12'\n",
      " '67372f81ff13abdfc5591b13' '67372f81ff13abdfc5591b14'\n",
      " '67372f81ff13abdfc5591b15' '67372f81ff13abdfc5591b16'\n",
      " '67372f81ff13abdfc5591b17' '67372f81ff13abdfc5591b18'\n",
      " '67372f81ff13abdfc5591b19' '67372f81ff13abdfc5591b1a'\n",
      " '67372f81ff13abdfc5591b1b' '67372f81ff13abdfc5591b1c'\n",
      " '67372f81ff13abdfc5591b1d' '67372f81ff13abdfc5591b1e'\n",
      " '67372f81ff13abdfc5591b1f' '67372f81ff13abdfc5591b20'\n",
      " '67372f81ff13abdfc5591b21' '67372f81ff13abdfc5591b22'\n",
      " '67372f81ff13abdfc5591b23' '67372f81ff13abdfc5591b24'\n",
      " '67372f81ff13abdfc5591b25' '67372f81ff13abdfc5591b26'\n",
      " '67372f81ff13abdfc5591b27' '67372f82ff13abdfc5591b28'\n",
      " '67372f82ff13abdfc5591b29' '67372f82ff13abdfc5591b2a']\n",
      "Number of NaN usernames after merge: 0\n"
     ]
    }
   ],
   "source": [
    "from plotly.subplots import make_subplots\n",
    "import plotly.graph_objects as go\n",
    "\n",
    "# Ensure the columns are of the same type and strip whitespace\n",
    "posts['userId'] = posts['userId'].astype(str).str.strip()\n",
    "users['_id'] = users['_id'].astype(str).str.strip()\n",
    "\n",
    "# Print unique values to check for mismatches\n",
    "print(\"Unique userIds in posts:\", posts['userId'].unique())\n",
    "print(\"Unique _id in users:\", users['_id'].unique())\n",
    "\n",
    "# Merge posts with users to get usernames using the correct column name\n",
    "merged_data = posts.merge(users[['_id', 'username']], left_on='userId', right_on='_id', how='left')\n",
    "\n",
    "# Check for NaN values in merged usernames\n",
    "print(\"Number of NaN usernames after merge:\", merged_data['username'].isna().sum())\n",
    "\n",
    "# Create a figure\n",
    "fig = make_subplots()\n",
    "\n",
    "# Plot each user's posts using actual usernames from the merged DataFrame\n",
    "for user_id in merged_data['userId'].unique():\n",
    "    username = merged_data.loc[merged_data['userId'] == user_id, 'username'].iloc[0]\n",
    "    user_posts = merged_data[merged_data['userId'] == user_id]\n",
    "    \n",
    "    fig.add_trace(go.Scatter(\n",
    "        x=user_posts.index + 1,\n",
    "        y=user_posts['sentiment'],\n",
    "        mode='lines+markers',\n",
    "        name=username,\n",
    "        line=dict(width=1),\n",
    "        marker=dict(size=8)\n",
    "    ))\n",
    "\n",
    "# Update layout for better readability\n",
    "fig.update_layout(\n",
    "    title='Sentiment of Posts per User',\n",
    "    xaxis_title='Posts (Sequential)',\n",
    "    yaxis_title='Sentiment Score',\n",
    "    xaxis=dict(\n",
    "        tickmode='linear',\n",
    "        tickvals=list(range(1, len(merged_data) + 1)),\n",
    "        ticktext=[str(i) for i in range(1, len(merged_data) + 1)],\n",
    "        range=[1, len(merged_data)],\n",
    "        showgrid=True,\n",
    "        zeroline=True\n",
    "    ),\n",
    "    yaxis=dict(\n",
    "        autorange=True,\n",
    "    ),\n",
    "    legend_title=\"Users\",\n",
    "    hovermode=\"closest\",\n",
    "    width=1600,\n",
    "    height=600,\n",
    "    margin=dict(l=40, r=40, t=50, b=40)\n",
    ")\n",
    "\n",
    "# Show the plot\n",
    "fig.show()\n"
   ]
  },
  {
   "cell_type": "markdown",
   "metadata": {},
   "source": [
    "Connecting the names to roles and than graphing by the roles:"
   ]
  },
  {
   "cell_type": "code",
   "execution_count": 23,
   "metadata": {},
   "outputs": [
    {
     "name": "stdout",
     "output_type": "stream",
     "text": [
      "['academic communications', 'academic researcher', 'academic researcher', 'academic researcher', 'academic researcher', 'academic science', 'academic science', 'academic science', 'academic writer', 'biologist', 'biology', 'biotechnology researcher', 'climate science', 'editor', 'editor', 'editor', 'educator', 'entry-level biology', 'environmental science', 'environmental', 'environmental', 'general-interest science', 'journalist', 'journalist', 'medical', 'microbiologist', 'microbiologist', 'molecular biologist', 'news aggregator', 'research coordinator', 'science communications', 'science communicator,', 'science communicator', 'science communicator', 'science communicator', 'science communicator', 'science editor', 'science editor', 'science editor', 'science editor', 'science enthusiast', 'science journalist', 'science journalist', 'science journalist', 'science journalist', 'science journalist', 'science journalist', 'science journalist', 'science journalist', 'science journalist', 'science journalist', 'science journalist', 'science journalist', 'science journalist', 'science journalist', 'science journalist', 'science journalist', 'science journalist', 'science journalist', 'science journalist', 'science journalist', 'science journalist', 'science journalist', 'science journalist', 'science journalist', 'science journalist', 'science journalist', 'science journalist', 'science journalist', 'science journalist', 'science journalist', 'science journalist', 'science journalist', 'science journalist', 'science journalist', 'science journalist', 'science journalist', 'science journalist', 'science journalist', 'science journalist', 'science journalist', 'science journalist', 'science journalist', 'science journalist', 'science journalist', 'science journalist', 'science journalist', 'science journalist', 'science journalist', 'science journalist', 'science journalist', 'science journalist', 'science journalist', 'science journalist', 'science journalist', 'science journalist', 'science journalist', 'science journalist', 'science journalist', 'science journalist', 'science journalist', 'science journalist', 'science journalist', 'science journalist', 'science journalist', 'science journalist', 'science journalist', 'science journalist', 'science journalist', 'science journalist', 'science journalist', 'science journalist', 'science journalist', 'science journalist', 'science journalist', 'science journalist', 'science journalist', 'science journalist', 'science journalist', 'science journalist', 'science journalist', 'science journalist', 'science journalist', 'science journalist', 'science journalist', 'science journalist', 'science journalist', 'science journalist', 'science journalist', 'science journalist', 'science journalist', 'science journalist', 'science journalist', 'science journalist', 'science journalist', 'science journalist', 'science journalist', 'science journalist', 'science journalist', 'science journalist', 'science journalist', 'science journalist', 'science journalist', 'science journalist', 'science journalist', 'science journalist', 'science journalist', 'science journalist', 'science journalist', 'science journalist', 'science journalist', 'science journalist', 'science journalist', 'science journalist', 'science journalist', 'science journalist', 'science news', 'science news', 'science news', 'science news', 'science news', 'science news', 'science news', 'science news', 'science news', 'science news', 'science news', 'science news', 'science reporter', 'science researcher', 'science researcher', 'science writer', 'science writer', 'science writer', 'science writer', 'science writer', 'science writer', 'science writer', 'science writer', 'science writer', 'science writer', 'science writer', 'science writer', 'science writer', 'science writer', 'science writer', 'science writer', 'science writer', 'science writer', 'science writer', 'science writer', 'science writer', 'science writer', 'science writer', 'science writer', 'science writer', 'science writer', 'science writer', 'science writer', 'science writer', 'science writer', 'science writer', 'science writer', 'science writer', 'science writer', 'science writer', 'science writer', 'science writer', 'science writer', 'science writer', 'science writer', 'science writer', 'science writer', 'science writer', 'science writer', 'science writer', 'science writer', 'science writer', 'science writer', 'science writer', 'science writer', 'science writer', 'science writer', 'science writer', 'science writer', 'science writer', 'science writer', 'science writer', 'science writer', 'science writer', 'science writer', 'science writer', 'science writer', 'science writer', 'science writer', 'science writer', 'science writer', 'science writer', 'science writer', 'science writer', 'science writer', 'science writer', 'science technology', 'science', 'science', 'science', 'science', 'science', 'science', 'science', 'science', 'science', 'science', 'scientific editor', 'scientific journalist', 'scientific journalist', 'scientific research', 'scientific researcher', 'scientist']\n"
     ]
    }
   ],
   "source": [
    "import re\n",
    "import json\n",
    "\n",
    "# Function to extract roles from the text file\n",
    "def extract_roles_from_file(file_path):\n",
    "    roles = []\n",
    "    \n",
    "    # Read the content of the file\n",
    "    with open(file_path, 'r') as file:\n",
    "        lines = file.readlines()\n",
    "        \n",
    "        for line in lines:\n",
    "            # Use regex to find the persona value\n",
    "            match = re.search(r\"persona:\\s*'([^']+)'\", line)\n",
    "            if match:\n",
    "                roles.append(match.group(1))  # Append the extracted persona to the list\n",
    "\n",
    "    return roles\n",
    "\n",
    "# Specify the path to your text file\n",
    "file_path = 'roles_with_agents.txt'\n",
    "\n",
    "# Get the roles\n",
    "roles_array = extract_roles_from_file(file_path)\n",
    "\n",
    "# Print the roles array\n",
    "print(roles_array)"
   ]
  },
  {
   "cell_type": "code",
   "execution_count": 24,
   "metadata": {},
   "outputs": [
    {
     "name": "stdout",
     "output_type": "stream",
     "text": [
      "['Dunkelschieferblaue Biene', 'Sienna-Kuh', 'Darkslategray-Wissenschaftler', 'Dunkelschiefergraue Katze', 'Silberner BÃ¤r', 'SeegrÃ¼ner Papagei', 'Kadettenblaues Siegel', 'Dunkelschieferblaue Giraffe', 'Hellschiefergrauer LÃ¶we', 'Dunkelkhakifarbenes Rentier', 'Siena Biene', 'Peru-BÃ¼ffel', 'Peruanisches ErdmÃ¤nnchen', 'DÃ¼sterer Professor', 'Rosabraunes Zebra', 'Dunkelschiefergraue Kuh', 'Grauer Koala', 'Dunkelgrauer Orca', 'Darkslategray-Wissenschaftler', 'Silberner BlauhÃ¤her', 'Graues Huhn', 'Dunkelschiefergrauer Frosch', 'Silberner WaschbÃ¤r', 'Rosabraunes Lamm', 'BlaugrÃ¼ne Blume', 'Schwarzer Biker', 'Dunkelschiefergrauer Fuchs', 'Dunkelgrauer Igel', 'Schiefergraue Eule', 'Dunkelschiefergrauer Hund', 'Rosabrauner Fuchs', 'Himmelblauer Delphin', 'Dunkellachs-Warzenschwein', 'Rosabrauner Vogel', 'Dunkelschiefergraues Schwein', 'Schwarzer Tiger', 'Indigo-Truthahn', 'Schwarzer Astronaut', 'Nachtblauer Cowboy', 'Hellstahlblaue Krabbe', 'Dunkelschiefergraues Siegel', 'Dunkelschiefergrauer Wolf', 'Indianerhund', 'Schwarzer AuÃŸerirdischer', 'Schwarzer LÃ¶we', 'Dunkelkhakifarbenes ErdmÃ¤nnchen', 'Silberner Adler', 'Dunkelschieferblauer Papagei', 'MitteltÃ¼rkisfarbener Wal', 'DunkelseegrÃ¼ner Biber', 'Peru Cowboy', 'Siena Gans', 'Schwarzes Krokodil', 'Dunkelschieferblauer Pinguin', 'Dunkelgrauer Esel', 'Dunkelschiefergrauer Alien', 'Dunkelschiefergrauer Igel', 'Peruanisches Frettchen', 'Dunkelschiefergraues Kaninchen', 'Dunkelgraues EichhÃ¶rnchen', 'Dunkelschieferblaue Gans', 'Dunkelschiefergrauer Wolf', 'Stahlblaue Giraffe', 'Sienna-Hai', 'Graue Biene', 'Hellgrauer Professor', 'Darkslategray-Wissenschaftler', 'Rosabraunes Walross', 'Stahlblauer Bison', 'Kadettenblauer Wolf', 'Dunkelgraue Kuh', 'Dunkelschiefergraues Kaninchen', 'Dunkelgrauer Koala', 'Dunkelgrauer Papagei', 'MittelgroÃŸer Aquamarin-Truthahn', 'Gainsboro-Faultier', 'Stahlblaues Nilpferd', 'Burlywood-Leopard', 'Graue Eule', 'Hellstahlblaue MÃ¶we', 'Blassviolettes Warzenschwein', 'Kadettenblaues Huhn', 'Dunkelschiefergrauer Frosch', 'Stahlblaufuchs', 'Hellstahlblaues EichhÃ¶rnchen', 'Dunkelschiefergraues Faultier', 'Dunkelschieferblauer Otter', 'Dunkelschiefergrauer Igel', 'Dunkelgraue Kuh', 'Weizenvogel', 'Rosigbraunes Rotkehlchen', 'Dunkelschieferblaue Blume', 'Silberner Hund', 'Dunkelgraues Zebra', 'DunkelseegrÃ¼nes Zebra', 'Kadettenblauer Oktopus', 'Burlywood-Adler', 'Dunkelgraue Seekuh', 'Grauer Panda', 'Dunkelschieferblaue Krabbe', 'Schwarzer Frosch', 'Peruanisches ErdmÃ¤nnchen', 'Kadettenblauer Adler', 'Dunkelgrauer WaschbÃ¤r', 'MitteltÃ¼rkiser Hai', 'Schokoladen-EichhÃ¶rnchen', 'Dunkelgraues Frettchen', 'Dunkelgrauer Pinguin', 'Dunkelgrauer Cowboy', 'Silberner Cowboy', 'Dunkelschiefergrauer Hund', 'Silberne Feuerwehrfrau', 'Dunkelschiefergrauer Astronaut', 'Dunkelgrauer Biker', 'BlaugrÃ¼ner BÃ¤r', 'Schwarze Ziege', 'Weizenflusspferd', 'Kadettenblaue Katze', 'Rosabraunes Huhn', 'Dunkelschiefergraues Krokodil', 'Kadettenblaues Schwein', 'Dunkelschiefergrauer Hirsch', 'Dunkelschiefergrauer Elefant', 'Dunkelgraues Pferd', 'Dunkelschiefergrauer Tiger', 'Feuerwehrmann Aus Schokolade', 'Indianred-Katze', 'Stahlblaue Giraffe', 'Blaue Giraffe', 'Dunkelschiefergraue Seekuh', 'Dunkelschiefergrauer LÃ¶we', 'Burlywood-Samurai', 'Blauer Wissenschaftler', 'Blaue Seekuh', 'Dunkelschiefergrauer Otter', 'Dunkelgrauer Pinguin', 'Dunkelschiefergrauer Biker', 'Black Samurai', 'Schieferblaue Blume', 'Blaue Kuh', 'Blauer Wal', 'Dunkelgrauer Feuerwehrmann', 'Blauer Esel', 'Blauer Koch', 'Blauer Ritter', 'Blauer Adler', 'Blauer AuÃŸerirdischer', 'Blauer Astronaut', 'Blauer WaschbÃ¤r', 'Schwarze Ziege', 'Indisches Walross', 'Dunkelschieferblauer Hai', 'Rosabraunes Nashorn', 'Blaue Eule', 'Rosabraunes ErdmÃ¤nnchen', 'Schwarzer Tiger', 'Dunkelschiefergrauer Astronaut', 'Anthrazitgraue Ziege', 'Blauer Pinguin', 'Blauer Tiger', 'Blaue Krabbe', 'Blauer Hai', 'Blauer Otter', 'Blauer Schwan', 'Dunkelschiefergrauer Astronaut', 'Blauer Bison', 'Blauer Cowboy', 'Blauer Frosch', 'Blauer Oktopus', 'Dunkelschieferblaue MÃ¶we', 'Dunkelkhakifarbener Truthahn', 'Schiefergraues Schaf', 'Biskuit-Samurai', 'Blaue Blume', 'Blauer Delphin', 'Dunkelschiefergraues Schwein', 'Blauer Hund', 'Dunkelschieferblauer Schwan', 'Lichtschiefergraue Gans', 'Dunkelschiefergraues Kaninchen', 'Blaue Gans', 'Blaue MÃ¶we', 'Blauer Hirsch', 'Serene swan', 'Blauer Soldat', 'Stahlblaue Eule', 'Black Samurai', 'Schwarze Blume', 'Blaue Katze', 'Blaue Schafe', 'Blauer BÃ¤r', 'Blauer Fuchs', 'Friendly Crocodile', 'Blaues Siegel', 'Blauer Wrestler', 'Graue Feuerwehrfrau', 'Gelber Adler', 'Gelbes ErdmÃ¤nnchen', 'Grauer Vogel', 'GrÃ¼ner Cowboy', 'Gelber Vogel', 'Goldene Katze', 'Friendly Wolf', 'GrÃ¼nes Huhn', 'Dunkelgrauer Igel', 'Gelbes Nilpferd', 'Gelber Truthahn', 'Graue Wissenschaftlerin', 'Grauer Astronaut', 'Grauer Professor', 'Graues Zebra', 'GrÃ¼ne Eule', 'GrÃ¼ner Papagei', 'Brauner Soldat', 'Brauner Cowboy', 'Gelber Samurai', 'Blaues Huhn', 'GrÃ¼ne Seekuh', 'Grauer Orca', 'Graue Pansa', 'Grauer Fuchs', 'Grauer Koala', 'Goldener Leopard', 'Goldenes ErdmÃ¤nnchen', 'Grauer Adler', 'Grauer Biker', 'Grauer LÃ¶we', 'Blaues Schwein', 'BlaugrÃ¼ner Panda', 'Goldene Giraffe', 'GrÃ¼ner Pirat', 'GrÃ¼nes ErdmÃ¤nnchen', 'Graues Faultier', 'Graues Kaninchen', 'GrÃ¼ner Biber', 'GrÃ¼ner Pinguin', 'GrÃ¼ner BÃ¤r', 'Graue Kuh', 'Dunkelblauer Otter', 'Brauner Koch', 'Blauer Wolf', 'Friendly Turkey', 'Dunkelblauer Pinguin', 'GrÃ¼ner Koala', 'GrÃ¼ner Wissenschaftler', 'Grauer Cowboy', 'Graues Huhn', 'Graues EichhÃ¶rnchen', 'Graues Frettchen', 'Graues Schwein', 'Graue Professorin', 'Graues Pferd', 'Grauer Papagei', 'GrÃ¼ner Frosch', 'GrÃ¼ner Hai', 'GrÃ¼ner Tiger', 'GrÃ¼nes Siegel', 'Lila Giraffe', 'Lila Samurai']\n"
     ]
    }
   ],
   "source": [
    "import re\n",
    "\n",
    "# Function to extract names from the text file\n",
    "def extract_names_from_file(file_path):\n",
    "    names = []\n",
    "    \n",
    "    # Read the content of the file\n",
    "    with open(file_path, 'r') as file:\n",
    "        lines = file.readlines()\n",
    "        \n",
    "        for line in lines:\n",
    "            # Use regex to find the name value\n",
    "            match = re.search(r'=\\s*\"([^\"]+)\"', line)\n",
    "            if match:\n",
    "                names.append(match.group(1))  # Append the extracted name to the list\n",
    "\n",
    "    return names\n",
    "\n",
    "# Specify the path to your text file\n",
    "file_path = 'names_with_agents.txt'\n",
    "\n",
    "# Get the names\n",
    "names_array = extract_names_from_file(file_path)\n",
    "\n",
    "# Print the names array\n",
    "print(names_array)\n"
   ]
  },
  {
   "cell_type": "code",
   "execution_count": 28,
   "metadata": {},
   "outputs": [],
   "source": [
    "\n",
    "import pandas as pd\n",
    "from plotly.subplots import make_subplots\n",
    "import plotly.graph_objects as go\n",
    "\n",
    "# Map usernames to their roles\n",
    "user_role_mapping = dict(zip(names_array, roles_array))\n",
    "\n",
    "\n",
    "# Map each post's username to its role\n",
    "posts['role'] = posts['username'].map(user_role_mapping)\n",
    "\n",
    "# Create a figure\n",
    "fig = make_subplots()\n",
    "\n",
    "# Plot each role's posts without connecting individual users' posts\n",
    "for role in posts['role'].unique():\n",
    "    # Filter posts for the current role\n",
    "    role_posts = posts[posts['role'] == role]\n",
    "    \n",
    "    # Plot posts for this role as individual points\n",
    "    fig.add_trace(go.Scatter(\n",
    "        x=role_posts.index + 1,    # Sequential post order\n",
    "        y=role_posts['sentiment'],  # Sentiment score\n",
    "        mode='lines+markers',          # Lines and markers\n",
    "        name=role,                     # Role label for legend\n",
    "        marker=dict(size=8),            # Adjust marker size\n",
    "        line=dict(width=0.7)            # Thin line\n",
    "    ))\n",
    "\n",
    "# Update layout for better readability\n",
    "fig.update_layout(\n",
    "    title='Sentiment of posts per Role',\n",
    "    xaxis_title='posts (Sequential)',\n",
    "    yaxis_title='Sentiment Score',\n",
    "    xaxis=dict(\n",
    "        tickmode='linear',               # Keep linear tick mode\n",
    "        tickvals=list(range(1, len(posts) + 1)),  # Ticks for each post\n",
    "        ticktext=[str(i) for i in range(1, len(posts) + 1)],  # Custom tick text\n",
    "        range=[1, len(posts)],        # Set x-axis range to start at 1\n",
    "        showgrid=True,                   # Optionally show grid lines for readability\n",
    "        zeroline=True                    # Optionally show a line at y=0\n",
    "    ),\n",
    "    yaxis=dict(\n",
    "        autorange=True,                  # Automatically adjust y-axis range\n",
    "    ),\n",
    "    legend_title=\"Roles\",\n",
    "    hovermode=\"closest\",\n",
    "    width=1600,                          # Increase chart width for clarity\n",
    "    height=600,\n",
    "    margin=dict(l=40, r=40, t=50, b=40)  # Add margins to avoid clutter\n",
    ")\n",
    "\n",
    "# Show the plot\n",
    "fig.show()\n"
   ]
  },
  {
   "cell_type": "code",
   "execution_count": null,
   "metadata": {},
   "outputs": [],
   "source": []
  }
 ],
 "metadata": {
  "kernelspec": {
   "display_name": ".venv",
   "language": "python",
   "name": "python3"
  },
  "language_info": {
   "codemirror_mode": {
    "name": "ipython",
    "version": 3
   },
   "file_extension": ".py",
   "mimetype": "text/x-python",
   "name": "python",
   "nbconvert_exporter": "python",
   "pygments_lexer": "ipython3",
   "version": "3.9.6"
  }
 },
 "nbformat": 4,
 "nbformat_minor": 2
}
