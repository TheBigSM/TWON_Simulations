{
 "cells": [
  {
   "cell_type": "code",
   "execution_count": 2,
   "metadata": {},
   "outputs": [
    {
     "data": {
      "text/plain": [
       "True"
      ]
     },
     "execution_count": 2,
     "metadata": {},
     "output_type": "execute_result"
    }
   ],
   "source": [
    "import os\n",
    "import sys\n",
    "import pymongo\n",
    "import pandas as pd\n",
    "import plotly.express as px\n",
    "import csv\n",
    "import datetime\n",
    "from datetime import datetime\n",
    "import re\n",
    "from dotenv import load_dotenv\n",
    "load_dotenv()"
   ]
  },
  {
   "cell_type": "code",
   "execution_count": 4,
   "metadata": {},
   "outputs": [
    {
     "name": "stdout",
     "output_type": "stream",
     "text": [
      "Collections in the database:\n",
      "sampleCollection\n"
     ]
    }
   ],
   "source": [
    "from pymongo import MongoClient\n",
    "\n",
    "# Replace with your MongoDB connection string\n",
    "database_url = os.getenv('db_url_for_creating')\n",
    "\n",
    "# Connect to the MongoDB server\n",
    "client = MongoClient(database_url)\n",
    "\n",
    "# Access the specific database\n",
    "db_name = \"test_local_2\"\n",
    "db = client[db_name]\n",
    "\n",
    "collection_name = \"sampleCollection\"\n",
    "collection = db[collection_name]\n",
    "dummy_data = [\n",
    "    {\"name\": \"Alice\", \"age\": 25, \"city\": \"New York\"},\n",
    "    {\"name\": \"Bob\", \"age\": 30, \"city\": \"Los Angeles\"},\n",
    "]\n",
    "\n",
    "# Insert dummy data into the collection\n",
    "inserted_ids = collection.insert_many(dummy_data).inserted_ids\n",
    "\n",
    "# List all collection names in the database\n",
    "collection_names = db.list_collection_names()\n",
    "\n",
    "# Print the collection names\n",
    "print(\"Collections in the database:\")\n",
    "for name in collection_names:\n",
    "    print(name)\n"
   ]
  },
  {
   "cell_type": "code",
   "execution_count": 5,
   "metadata": {},
   "outputs": [
    {
     "ename": "OperationFailure",
     "evalue": "cannot create a new collection -- already using 500 collections of 500, full error: {'ok': 0, 'errmsg': 'cannot create a new collection -- already using 500 collections of 500', 'code': 8000, 'codeName': 'AtlasError'}",
     "output_type": "error",
     "traceback": [
      "\u001b[0;31m---------------------------------------------------------------------------\u001b[0m",
      "\u001b[0;31mOperationFailure\u001b[0m                          Traceback (most recent call last)",
      "\u001b[0;32m<ipython-input-5-f885279f0822>\u001b[0m in \u001b[0;36m<module>\u001b[0;34m\u001b[0m\n\u001b[1;32m     27\u001b[0m         \u001b[0;31m# Create an empty collection in the target database\u001b[0m\u001b[0;34m\u001b[0m\u001b[0;34m\u001b[0m\u001b[0;34m\u001b[0m\u001b[0m\n\u001b[1;32m     28\u001b[0m         \u001b[0mtarget_collection\u001b[0m\u001b[0;34m.\u001b[0m\u001b[0mdrop\u001b[0m\u001b[0;34m(\u001b[0m\u001b[0;34m)\u001b[0m  \u001b[0;31m# Ensure the collection is empty\u001b[0m\u001b[0;34m\u001b[0m\u001b[0;34m\u001b[0m\u001b[0m\n\u001b[0;32m---> 29\u001b[0;31m         \u001b[0mtarget_db\u001b[0m\u001b[0;34m.\u001b[0m\u001b[0mcreate_collection\u001b[0m\u001b[0;34m(\u001b[0m\u001b[0mcollection_name\u001b[0m\u001b[0;34m)\u001b[0m\u001b[0;34m\u001b[0m\u001b[0;34m\u001b[0m\u001b[0m\n\u001b[0m\u001b[1;32m     30\u001b[0m \u001b[0;34m\u001b[0m\u001b[0m\n\u001b[1;32m     31\u001b[0m \u001b[0mprint\u001b[0m\u001b[0;34m(\u001b[0m\u001b[0;34mf\"Database '{target_db_name}' created and collections copied. Collections '{', '.join(keep_non_empty)}' retained with data.\"\u001b[0m\u001b[0;34m)\u001b[0m\u001b[0;34m\u001b[0m\u001b[0;34m\u001b[0m\u001b[0m\n",
      "\u001b[0;32m~/Twon-Simulations-1/myenv/lib64/python3.6/site-packages/pymongo/database.py\u001b[0m in \u001b[0;36mcreate_collection\u001b[0;34m(self, name, codec_options, read_preference, write_concern, read_concern, session, **kwargs)\u001b[0m\n\u001b[1;32m    387\u001b[0m                 \u001b[0mread_concern\u001b[0m\u001b[0;34m,\u001b[0m\u001b[0;34m\u001b[0m\u001b[0;34m\u001b[0m\u001b[0m\n\u001b[1;32m    388\u001b[0m                 \u001b[0msession\u001b[0m\u001b[0;34m=\u001b[0m\u001b[0ms\u001b[0m\u001b[0;34m,\u001b[0m\u001b[0;34m\u001b[0m\u001b[0;34m\u001b[0m\u001b[0m\n\u001b[0;32m--> 389\u001b[0;31m                 \u001b[0;34m**\u001b[0m\u001b[0mkwargs\u001b[0m\u001b[0;34m,\u001b[0m\u001b[0;34m\u001b[0m\u001b[0;34m\u001b[0m\u001b[0m\n\u001b[0m\u001b[1;32m    390\u001b[0m             )\n\u001b[1;32m    391\u001b[0m \u001b[0;34m\u001b[0m\u001b[0m\n",
      "\u001b[0;32m~/Twon-Simulations-1/myenv/lib64/python3.6/site-packages/pymongo/collection.py\u001b[0m in \u001b[0;36m__init__\u001b[0;34m(self, database, name, create, codec_options, read_preference, write_concern, read_concern, session, **kwargs)\u001b[0m\n\u001b[1;32m    216\u001b[0m         \u001b[0mself\u001b[0m\u001b[0;34m.\u001b[0m\u001b[0m__full_name\u001b[0m \u001b[0;34m=\u001b[0m \u001b[0;34m\"%s.%s\"\u001b[0m \u001b[0;34m%\u001b[0m \u001b[0;34m(\u001b[0m\u001b[0mself\u001b[0m\u001b[0;34m.\u001b[0m\u001b[0m__database\u001b[0m\u001b[0;34m.\u001b[0m\u001b[0mname\u001b[0m\u001b[0;34m,\u001b[0m \u001b[0mself\u001b[0m\u001b[0;34m.\u001b[0m\u001b[0m__name\u001b[0m\u001b[0;34m)\u001b[0m\u001b[0;34m\u001b[0m\u001b[0;34m\u001b[0m\u001b[0m\n\u001b[1;32m    217\u001b[0m         \u001b[0;32mif\u001b[0m \u001b[0mcreate\u001b[0m \u001b[0;32mor\u001b[0m \u001b[0mkwargs\u001b[0m \u001b[0;32mor\u001b[0m \u001b[0mcollation\u001b[0m\u001b[0;34m:\u001b[0m\u001b[0;34m\u001b[0m\u001b[0;34m\u001b[0m\u001b[0m\n\u001b[0;32m--> 218\u001b[0;31m             \u001b[0mself\u001b[0m\u001b[0;34m.\u001b[0m\u001b[0m__create\u001b[0m\u001b[0;34m(\u001b[0m\u001b[0mkwargs\u001b[0m\u001b[0;34m,\u001b[0m \u001b[0mcollation\u001b[0m\u001b[0;34m,\u001b[0m \u001b[0msession\u001b[0m\u001b[0;34m)\u001b[0m\u001b[0;34m\u001b[0m\u001b[0;34m\u001b[0m\u001b[0m\n\u001b[0m\u001b[1;32m    219\u001b[0m \u001b[0;34m\u001b[0m\u001b[0m\n\u001b[1;32m    220\u001b[0m         self.__write_response_codec_options = self.codec_options._replace(\n",
      "\u001b[0;32m~/Twon-Simulations-1/myenv/lib64/python3.6/site-packages/pymongo/collection.py\u001b[0m in \u001b[0;36m__create\u001b[0;34m(self, options, collation, session)\u001b[0m\n\u001b[1;32m    301\u001b[0m                 \u001b[0mwrite_concern\u001b[0m\u001b[0;34m=\u001b[0m\u001b[0mself\u001b[0m\u001b[0;34m.\u001b[0m\u001b[0m_write_concern_for\u001b[0m\u001b[0;34m(\u001b[0m\u001b[0msession\u001b[0m\u001b[0;34m)\u001b[0m\u001b[0;34m,\u001b[0m\u001b[0;34m\u001b[0m\u001b[0;34m\u001b[0m\u001b[0m\n\u001b[1;32m    302\u001b[0m                 \u001b[0mcollation\u001b[0m\u001b[0;34m=\u001b[0m\u001b[0mcollation\u001b[0m\u001b[0;34m,\u001b[0m\u001b[0;34m\u001b[0m\u001b[0;34m\u001b[0m\u001b[0m\n\u001b[0;32m--> 303\u001b[0;31m                 \u001b[0msession\u001b[0m\u001b[0;34m=\u001b[0m\u001b[0msession\u001b[0m\u001b[0;34m,\u001b[0m\u001b[0;34m\u001b[0m\u001b[0;34m\u001b[0m\u001b[0m\n\u001b[0m\u001b[1;32m    304\u001b[0m             )\n\u001b[1;32m    305\u001b[0m \u001b[0;34m\u001b[0m\u001b[0m\n",
      "\u001b[0;32m~/Twon-Simulations-1/myenv/lib64/python3.6/site-packages/pymongo/collection.py\u001b[0m in \u001b[0;36m_command\u001b[0;34m(self, sock_info, command, read_preference, codec_options, check, allowable_errors, read_concern, write_concern, collation, session, retryable_write, user_fields)\u001b[0m\n\u001b[1;32m    284\u001b[0m                 \u001b[0mclient\u001b[0m\u001b[0;34m=\u001b[0m\u001b[0mself\u001b[0m\u001b[0;34m.\u001b[0m\u001b[0m__database\u001b[0m\u001b[0;34m.\u001b[0m\u001b[0mclient\u001b[0m\u001b[0;34m,\u001b[0m\u001b[0;34m\u001b[0m\u001b[0;34m\u001b[0m\u001b[0m\n\u001b[1;32m    285\u001b[0m                 \u001b[0mretryable_write\u001b[0m\u001b[0;34m=\u001b[0m\u001b[0mretryable_write\u001b[0m\u001b[0;34m,\u001b[0m\u001b[0;34m\u001b[0m\u001b[0;34m\u001b[0m\u001b[0m\n\u001b[0;32m--> 286\u001b[0;31m                 \u001b[0muser_fields\u001b[0m\u001b[0;34m=\u001b[0m\u001b[0muser_fields\u001b[0m\u001b[0;34m,\u001b[0m\u001b[0;34m\u001b[0m\u001b[0;34m\u001b[0m\u001b[0m\n\u001b[0m\u001b[1;32m    287\u001b[0m             )\n\u001b[1;32m    288\u001b[0m \u001b[0;34m\u001b[0m\u001b[0m\n",
      "\u001b[0;32m~/Twon-Simulations-1/myenv/lib64/python3.6/site-packages/pymongo/pool.py\u001b[0m in \u001b[0;36mcommand\u001b[0;34m(self, dbname, spec, read_preference, codec_options, check, allowable_errors, read_concern, write_concern, parse_write_concern_error, collation, session, client, retryable_write, publish_events, user_fields, exhaust_allowed)\u001b[0m\n\u001b[1;32m    762\u001b[0m                 \u001b[0munacknowledged\u001b[0m\u001b[0;34m=\u001b[0m\u001b[0munacknowledged\u001b[0m\u001b[0;34m,\u001b[0m\u001b[0;34m\u001b[0m\u001b[0;34m\u001b[0m\u001b[0m\n\u001b[1;32m    763\u001b[0m                 \u001b[0muser_fields\u001b[0m\u001b[0;34m=\u001b[0m\u001b[0muser_fields\u001b[0m\u001b[0;34m,\u001b[0m\u001b[0;34m\u001b[0m\u001b[0;34m\u001b[0m\u001b[0m\n\u001b[0;32m--> 764\u001b[0;31m                 \u001b[0mexhaust_allowed\u001b[0m\u001b[0;34m=\u001b[0m\u001b[0mexhaust_allowed\u001b[0m\u001b[0;34m,\u001b[0m\u001b[0;34m\u001b[0m\u001b[0;34m\u001b[0m\u001b[0m\n\u001b[0m\u001b[1;32m    765\u001b[0m             )\n\u001b[1;32m    766\u001b[0m         \u001b[0;32mexcept\u001b[0m \u001b[0;34m(\u001b[0m\u001b[0mOperationFailure\u001b[0m\u001b[0;34m,\u001b[0m \u001b[0mNotPrimaryError\u001b[0m\u001b[0;34m)\u001b[0m\u001b[0;34m:\u001b[0m\u001b[0;34m\u001b[0m\u001b[0;34m\u001b[0m\u001b[0m\n",
      "\u001b[0;32m~/Twon-Simulations-1/myenv/lib64/python3.6/site-packages/pymongo/network.py\u001b[0m in \u001b[0;36mcommand\u001b[0;34m(sock_info, dbname, spec, is_mongos, read_preference, codec_options, session, client, check, allowable_errors, address, listeners, max_bson_size, read_concern, parse_write_concern_error, collation, compression_ctx, use_op_msg, unacknowledged, user_fields, exhaust_allowed)\u001b[0m\n\u001b[1;32m    162\u001b[0m                     \u001b[0msock_info\u001b[0m\u001b[0;34m.\u001b[0m\u001b[0mmax_wire_version\u001b[0m\u001b[0;34m,\u001b[0m\u001b[0;34m\u001b[0m\u001b[0;34m\u001b[0m\u001b[0m\n\u001b[1;32m    163\u001b[0m                     \u001b[0mallowable_errors\u001b[0m\u001b[0;34m,\u001b[0m\u001b[0;34m\u001b[0m\u001b[0;34m\u001b[0m\u001b[0m\n\u001b[0;32m--> 164\u001b[0;31m                     \u001b[0mparse_write_concern_error\u001b[0m\u001b[0;34m=\u001b[0m\u001b[0mparse_write_concern_error\u001b[0m\u001b[0;34m,\u001b[0m\u001b[0;34m\u001b[0m\u001b[0;34m\u001b[0m\u001b[0m\n\u001b[0m\u001b[1;32m    165\u001b[0m                 )\n\u001b[1;32m    166\u001b[0m     \u001b[0;32mexcept\u001b[0m \u001b[0mException\u001b[0m \u001b[0;32mas\u001b[0m \u001b[0mexc\u001b[0m\u001b[0;34m:\u001b[0m\u001b[0;34m\u001b[0m\u001b[0;34m\u001b[0m\u001b[0m\n",
      "\u001b[0;32m~/Twon-Simulations-1/myenv/lib64/python3.6/site-packages/pymongo/helpers.py\u001b[0m in \u001b[0;36m_check_command_response\u001b[0;34m(response, max_wire_version, allowable_errors, parse_write_concern_error)\u001b[0m\n\u001b[1;32m    178\u001b[0m         \u001b[0;32mraise\u001b[0m \u001b[0mCursorNotFound\u001b[0m\u001b[0;34m(\u001b[0m\u001b[0merrmsg\u001b[0m\u001b[0;34m,\u001b[0m \u001b[0mcode\u001b[0m\u001b[0;34m,\u001b[0m \u001b[0mresponse\u001b[0m\u001b[0;34m,\u001b[0m \u001b[0mmax_wire_version\u001b[0m\u001b[0;34m)\u001b[0m\u001b[0;34m\u001b[0m\u001b[0;34m\u001b[0m\u001b[0m\n\u001b[1;32m    179\u001b[0m \u001b[0;34m\u001b[0m\u001b[0m\n\u001b[0;32m--> 180\u001b[0;31m     \u001b[0;32mraise\u001b[0m \u001b[0mOperationFailure\u001b[0m\u001b[0;34m(\u001b[0m\u001b[0merrmsg\u001b[0m\u001b[0;34m,\u001b[0m \u001b[0mcode\u001b[0m\u001b[0;34m,\u001b[0m \u001b[0mresponse\u001b[0m\u001b[0;34m,\u001b[0m \u001b[0mmax_wire_version\u001b[0m\u001b[0;34m)\u001b[0m\u001b[0;34m\u001b[0m\u001b[0;34m\u001b[0m\u001b[0m\n\u001b[0m\u001b[1;32m    181\u001b[0m \u001b[0;34m\u001b[0m\u001b[0m\n\u001b[1;32m    182\u001b[0m \u001b[0;34m\u001b[0m\u001b[0m\n",
      "\u001b[0;31mOperationFailure\u001b[0m: cannot create a new collection -- already using 500 collections of 500, full error: {'ok': 0, 'errmsg': 'cannot create a new collection -- already using 500 collections of 500', 'code': 8000, 'codeName': 'AtlasError'}"
     ]
    }
   ],
   "source": [
    "source_db_name = 'hack2'\n",
    "target_db_name = db_name\n",
    "\n",
    "# Get the source database\n",
    "source_db = client[source_db_name]\n",
    "\n",
    "# Create the target database\n",
    "target_db = client[target_db_name]\n",
    "\n",
    "# List of collections to keep non-empty\n",
    "keep_non_empty = ['idstorages', 'selectedusers']\n",
    "\n",
    "# List all collections in the source database\n",
    "collections = source_db.list_collection_names()\n",
    "\n",
    "# Copy collections to the target database\n",
    "for collection_name in collections:\n",
    "    source_collection = source_db[collection_name]\n",
    "    target_collection = target_db[collection_name]\n",
    "\n",
    "    # Copy documents if the collection should be kept non-empty\n",
    "    if collection_name in keep_non_empty:\n",
    "        # Copy documents from source collection to target collection\n",
    "        for doc in source_collection.find():\n",
    "            target_collection.insert_one(doc)\n",
    "    else:\n",
    "        # Create an empty collection in the target database\n",
    "        target_collection.drop()  # Ensure the collection is empty\n",
    "        target_db.create_collection(collection_name)\n",
    "\n",
    "print(f\"Database '{target_db_name}' created and collections copied. Collections '{', '.join(keep_non_empty)}' retained with data.\")"
   ]
  },
  {
   "cell_type": "code",
   "execution_count": 5,
   "metadata": {},
   "outputs": [
    {
     "name": "stdout",
     "output_type": "stream",
     "text": [
      "2024-11-03 00:00:00\n",
      "2024-11-26 00:00:00\n",
      "Deleted 23 documents from commentlikes\n",
      "Deleted 0 documents from reposts\n",
      "Deleted 0 documents from subscriptions\n",
      "Deleted 57 documents from posts\n",
      "Deleted 0 documents from users5\n",
      "Deleted 0 documents from idstorages\n",
      "Deleted 7 documents from postlikes\n",
      "Deleted 0 documents from selectedusers\n",
      "Deleted 15 documents from users\n",
      "Deleted 0 documents from postdislikes\n",
      "Deleted 0 documents from sampleCollection\n",
      "Deleted 0 documents from viewposts\n",
      "Deleted 0 documents from commentdislikes\n",
      "Deleted 43 documents from comments\n",
      "Deleted 0 documents from readposts\n",
      "Data deletion complete.\n"
     ]
    }
   ],
   "source": [
    "from pymongo import MongoClient\n",
    "from datetime import datetime, timedelta\n",
    "import os\n",
    "# Replace with your MongoDB connection string\n",
    "database_url = os.getenv('db_url_for_creating')\n",
    "\n",
    "# Connect to the MongoDB server\n",
    "client = MongoClient(database_url)\n",
    "\n",
    "# Access the specific database\n",
    "db_name = 'test_llm_2'\n",
    "db = client[db_name]\n",
    "\n",
    "three_weeks_ago = datetime.now() - timedelta(days=10) #datetime.now() - timedelta(weeks=3)\n",
    "\n",
    "now = datetime.now()\n",
    "\n",
    "# Calculate start and end of today\n",
    "start_of_today = datetime(now.year, now.month, now.day)  # 00:00:00 today\n",
    "end_of_today = start_of_today + timedelta(days=3)  # 00:00:00 tomorrow\n",
    "\n",
    "# Calculate start of yesterday\n",
    "start_of_yesterday = start_of_today - timedelta(days=20)\n",
    "print(start_of_yesterday)\n",
    "print(end_of_today)\n",
    "\n",
    "# Iterate over all collections in the database\n",
    "for collection_name in db.list_collection_names():\n",
    "    collection = db[collection_name]\n",
    "    \n",
    "    # Assuming the documents have a field named 'created_at' or similar which stores the date\n",
    "    # Replace 'created_at' with the appropriate field name in your collections\n",
    "    result = collection.delete_many({\"createdAt\": {'$gte': start_of_yesterday,'$lt': end_of_today}})\n",
    "    \n",
    "    print(f\"Deleted {result.deleted_count} documents from {collection_name}\")\n",
    "\n",
    "print(\"Data deletion complete.\")"
   ]
  },
  {
   "cell_type": "code",
   "execution_count": 1,
   "metadata": {},
   "outputs": [
    {
     "name": "stdout",
     "output_type": "stream",
     "text": [
      "Deleted 15 documents.\n"
     ]
    }
   ],
   "source": [
    "from pymongo import MongoClient\n",
    "from datetime import datetime, timedelta\n",
    "import os\n",
    "\n",
    "# Replace with your MongoDB connection string\n",
    "database_url = os.getenv('db_url_for_creating')\n",
    "\n",
    "# Connect to the MongoDB server\n",
    "client = MongoClient(database_url)\n",
    "\n",
    "db = client[\"test_llm_1\"]\n",
    "users_collection = db[\"users\"]     # Replace with your collection name\n",
    "\n",
    "# Define the cutoff date\n",
    "cutoff_date = datetime(2024, 11, 20, 9, 9, 59)\n",
    "\n",
    "# Delete users created after the cutoff date\n",
    "result = users_collection.delete_many({\"createdAt\": {\"$gt\": cutoff_date}})\n",
    "print(f\"Deleted {result.deleted_count} documents.\")"
   ]
  },
  {
   "cell_type": "code",
   "execution_count": 7,
   "metadata": {},
   "outputs": [
    {
     "name": "stdout",
     "output_type": "stream",
     "text": [
      "Copied 15 users to ms4.\n",
      "Copied 20 posts to ms4.\n"
     ]
    }
   ],
   "source": [
    "\n",
    "source_db = client[\"ms1\"]  # Source database\n",
    "target_db = client[\"ms3\"]  # Target database\n",
    "\n",
    "# Copy all documents from the \"users\" collection\n",
    "users = list(source_db[\"users\"].find())\n",
    "if users:\n",
    "    target_db[\"users\"].insert_many(users)\n",
    "    print(f\"Copied {len(users)} users to ms4.\")\n",
    "\n",
    "# Copy only the first 20 documents from the \"posts\" collection\n",
    "posts = list(source_db[\"posts\"].find().limit(20))\n",
    "if posts:\n",
    "    target_db[\"posts\"].insert_many(posts)\n",
    "    print(f\"Copied {len(posts)} posts to ms4.\")"
   ]
  },
  {
   "cell_type": "code",
   "execution_count": 12,
   "metadata": {},
   "outputs": [
    {
     "name": "stdout",
     "output_type": "stream",
     "text": [
      "Deleted 3 documents.\n"
     ]
    }
   ],
   "source": [
    "from pymongo import MongoClient\n",
    "import os\n",
    "\n",
    "# Replace with your MongoDB connection string\n",
    "database_url = os.getenv('db_url_for_creating')\n",
    "\n",
    "# Connect to the MongoDB server\n",
    "client = MongoClient(database_url)\n",
    "\n",
    "db = client[\"fake_news\"]\n",
    "posts_collection = db[\"posts\"]  # Replace with your collection name\n",
    "\n",
    "# Find the first 150 documents based on the creation order\n",
    "first_150_docs = posts_collection.find().sort(\"createdAt\", 1).limit(150)\n",
    "\n",
    "# Store the IDs of these documents\n",
    "first_150_ids = [doc[\"_id\"] for doc in first_150_docs]\n",
    "\n",
    "# Delete all documents that are not in the first 150\n",
    "result = posts_collection.delete_many({\n",
    "    \"_id\": {\"$nin\": first_150_ids}\n",
    "})\n",
    "\n",
    "print(f\"Deleted {result.deleted_count} documents.\")\n",
    "\n"
   ]
  },
  {
   "cell_type": "code",
   "execution_count": 3,
   "metadata": {},
   "outputs": [
    {
     "name": "stdout",
     "output_type": "stream",
     "text": [
      "Earliest: 2024-11-22 10:36:24.906000 in collection posts\n",
      "Latest: 2024-11-22 12:23:59.337000 in collection posts\n",
      "Time difference: 1:47:34.431000\n"
     ]
    }
   ],
   "source": [
    "from pymongo import MongoClient\n",
    "from datetime import datetime\n",
    "\n",
    "# Connect to MongoDB\n",
    "database_url = os.getenv('db_url_for_creating')\n",
    "client = MongoClient(database_url)  # Adjust the URI if needed\n",
    "db = client[\"test_llm_1\"]  # Replace with your database name\n",
    "\n",
    "collections = [\"commentlikes\", \"comments\", \"postlikes\", \"posts\"]\n",
    "\n",
    "# Initialize variables to track earliest and latest dates\n",
    "earliest = {\"collection\": None, \"createdAt\": None}\n",
    "latest = {\"collection\": None, \"createdAt\": None}\n",
    "\n",
    "for collection_name in collections:\n",
    "    collection = db[collection_name]\n",
    "    \n",
    "    # Find the document with the earliest and latest `createdAt` values\n",
    "    first_doc = collection.find_one(sort=[(\"createdAt\", 1)])\n",
    "    last_doc = collection.find_one(sort=[(\"createdAt\", -1)])\n",
    "    \n",
    "    # Update the earliest\n",
    "    if first_doc and (earliest[\"createdAt\"] is None or first_doc[\"createdAt\"] < earliest[\"createdAt\"]):\n",
    "        earliest = {\"collection\": collection_name, \"createdAt\": first_doc[\"createdAt\"]}\n",
    "    \n",
    "    # Update the latest\n",
    "    if last_doc and (latest[\"createdAt\"] is None or last_doc[\"createdAt\"] > latest[\"createdAt\"]):\n",
    "        latest = {\"collection\": collection_name, \"createdAt\": last_doc[\"createdAt\"]}\n",
    "\n",
    "# Calculate the time difference\n",
    "if earliest[\"createdAt\"] and latest[\"createdAt\"]:\n",
    "    time_diff = latest[\"createdAt\"] - earliest[\"createdAt\"]\n",
    "    print(f\"Earliest: {earliest['createdAt']} in collection {earliest['collection']}\")\n",
    "    print(f\"Latest: {latest['createdAt']} in collection {latest['collection']}\")\n",
    "    print(f\"Time difference: {time_diff}\")\n",
    "else:\n",
    "    print(\"Could not determine earliest or latest createdAt.\")\n",
    "\n",
    "# Close the connection\n",
    "client.close()\n"
   ]
  },
  {
   "cell_type": "code",
   "execution_count": null,
   "metadata": {},
   "outputs": [],
   "source": []
  }
 ],
 "metadata": {
  "kernelspec": {
   "display_name": ".venv",
   "language": "python",
   "name": "python3"
  },
  "language_info": {
   "codemirror_mode": {
    "name": "ipython",
    "version": 3
   },
   "file_extension": ".py",
   "mimetype": "text/x-python",
   "name": "python",
   "nbconvert_exporter": "python",
   "pygments_lexer": "ipython3",
   "version": "3.9.6"
  }
 },
 "nbformat": 4,
 "nbformat_minor": 2
}
