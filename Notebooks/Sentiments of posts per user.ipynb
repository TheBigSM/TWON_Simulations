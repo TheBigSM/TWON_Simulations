{
 "cells": [
  {
   "cell_type": "markdown",
   "metadata": {},
   "source": [
    "In this code we are calculating the sentiments of posts and plotting them. After that we are checking the names and and posts of the local extremes."
   ]
  },
  {
   "cell_type": "code",
   "execution_count": 1,
   "metadata": {},
   "outputs": [
    {
     "data": {
      "text/plain": [
       "True"
      ]
     },
     "execution_count": 1,
     "metadata": {},
     "output_type": "execute_result"
    }
   ],
   "source": [
    "import pandas as pd\n",
    "import plotly.graph_objs as go\n",
    "from plotly.subplots import make_subplots\n",
    "from pymongo import MongoClient\n",
    "from vaderSentiment.vaderSentiment import SentimentIntensityAnalyzer\n",
    "import plotly.io as pio\n",
    "import os\n",
    "from dotenv import load_dotenv\n",
    "load_dotenv()"
   ]
  },
  {
   "cell_type": "markdown",
   "metadata": {},
   "source": [
    "Version of the code with sorted out posts:"
   ]
  },
  {
   "cell_type": "code",
   "execution_count": 2,
   "metadata": {},
   "outputs": [],
   "source": [
    "# Set Plotly renderer\n",
    "pio.renderers.default = 'browser'\n",
    "\n",
    "# MongoDB connection\n",
    "client = MongoClient(os.getenv('db_url_for_creating'))\n",
    "db = client[os.getenv('db_name')]  # Replace with your database name\n",
    "\n",
    "# Load posts collection\n",
    "posts = pd.DataFrame(list(db.posts.find()))\n",
    "users = pd.DataFrame(list(db.users.find()))\n",
    "\n",
    "# Define function to filter out unwanted posts\n",
    "def clean_posts(post):\n",
    "    if len(post) < 15:  # Remove posts shorter than 15 characters\n",
    "        return None\n",
    "    cleaned_post = post.replace('-', '')  # Replace all '-' symbols with an empty string\n",
    "    if cleaned_post.strip() == '':  # Check if the post is empty after removing '-'\n",
    "        return None\n",
    "    return cleaned_post\n",
    "\n",
    "# Apply the filter function to remove unwanted posts\n",
    "posts['cleaned_desc'] = posts['desc'].apply(clean_posts)\n",
    "posts = posts.dropna(subset=['cleaned_desc'])  # Remove rows with None in 'cleaned_desc' column\n",
    "\n",
    "# Initialize SentimentIntensityAnalyzer\n",
    "analyzer = SentimentIntensityAnalyzer()\n",
    "\n",
    "# Function to analyze sentiment\n",
    "def analyze_sentiment(text):\n",
    "    score = analyzer.polarity_scores(text)\n",
    "    return score['compound']  # Return the compound score\n",
    "\n",
    "# Analyze sentiment for each cleaned post\n",
    "posts['sentiment'] = posts['cleaned_desc'].apply(analyze_sentiment)\n",
    "\n",
    "# Reset index to get a sequential label for filtered posts\n",
    "posts = posts.reset_index(drop=True)\n",
    "posts['post_label'] = 'post ' + (posts.index + 1).astype(str)\n",
    "\n",
    "# Convert ObjectId to string\n",
    "posts['userId'] = posts['userId'].astype(str)\n",
    "\n",
    "# Simplify user IDs for filtered posts\n",
    "user_mapping = {user_id: f'User {i + 1}' for i, user_id in enumerate(posts['userId'].unique())}\n",
    "posts['user_label'] = posts['userId'].map(user_mapping)\n",
    "\n",
    "# Save mapped posts and user labels if needed for future reference\n",
    "# Example of saving to a CSV or other file format if needed:\n",
    "posts[['post_label', 'cleaned_desc', 'sentiment', 'user_label']].to_csv('filtered_posts.csv', index=False)\n"
   ]
  },
  {
   "cell_type": "markdown",
   "metadata": {},
   "source": [
    "Plotting for users by user no.:"
   ]
  },
  {
   "cell_type": "code",
   "execution_count": 3,
   "metadata": {},
   "outputs": [],
   "source": [
    "# Create a figure\n",
    "fig = make_subplots()\n",
    "\n",
    "# Plot each user's posts\n",
    "for user_id, user_label in user_mapping.items():\n",
    "    user_posts = posts[posts['userId'] == user_id]\n",
    "    \n",
    "    # Plot only the user's posts as a line connecting their dots\n",
    "    fig.add_trace(go.Scatter(\n",
    "        x=user_posts.index + 1,    # Plot the post number (linear sequence)\n",
    "        y=user_posts['sentiment'],  # Plot the sentiment score\n",
    "        mode='lines+markers',          # Lines and markers\n",
    "        name=user_label,               # User label for legend\n",
    "        line=dict(width=1),            # Thin line\n",
    "        marker=dict(size=8)            # Adjust marker size\n",
    "    ))\n",
    "\n",
    "# Update layout for better readability\n",
    "fig.update_layout(\n",
    "    title='Sentiment of posts per User',\n",
    "    xaxis_title='posts (Sequential)',\n",
    "    yaxis_title='Sentiment Score',\n",
    "    xaxis=dict(\n",
    "        tickmode='linear',            # Keep linear tick mode\n",
    "        tickvals=list(range(1, len(posts) + 1)),  # Ticks for each post\n",
    "        ticktext=[str(i) for i in range(1, len(posts) + 1)],  # Custom tick text\n",
    "        range=[1, len(posts)],     # Set x-axis range to start at 1\n",
    "        showgrid=True,                # Optionally show grid lines for better readability\n",
    "        zeroline=True                 # Optionally show a line at y=0\n",
    "    ),\n",
    "    yaxis=dict(\n",
    "        autorange=True,               # Automatically adjust y-axis range\n",
    "    ),\n",
    "    legend_title=\"Users\",\n",
    "    hovermode=\"closest\",\n",
    "    width=1600,                    # Increase chart width for clarity\n",
    "    height=600,\n",
    "    margin=dict(l=40, r=40, t=50, b=40)  # Add margins to avoid clutter\n",
    ")\n",
    "\n",
    "# Show the plot\n",
    "fig.show()"
   ]
  },
  {
   "cell_type": "markdown",
   "metadata": {},
   "source": [
    "Finding specific user's unfo:"
   ]
  },
  {
   "cell_type": "code",
   "execution_count": 44,
   "metadata": {},
   "outputs": [
    {
     "name": "stdout",
     "output_type": "stream",
     "text": [
      "post 5, Sentiment = -0.5859 :\n",
      "Retaliation for sonic attacks in Cuba is not the answer. We must prioritize diplomacy and peaceful resolution over violence.\n"
     ]
    }
   ],
   "source": [
    "# Find specific post details\n",
    "# post (xy) by User (vw)\n",
    "specific_post = posts[(posts['post_label'] == 'post 5') & (posts['user_label'] == 'User 5')]\n",
    "\n",
    "if not specific_post.empty:\n",
    "    post_text = specific_post['desc'].values[0]\n",
    "    post_label = specific_post['post_label'].values[0]\n",
    "    post_sentiment = specific_post['sentiment'].values[0]\n",
    "    print(f\"{post_label}, Sentiment = {post_sentiment} :\\n{post_text}\")\n",
    "else:\n",
    "    print(\"post not found.\")\n",
    "\n"
   ]
  },
  {
   "cell_type": "markdown",
   "metadata": {},
   "source": [
    "Topic modelling:"
   ]
  },
  {
   "cell_type": "code",
   "execution_count": 5,
   "metadata": {},
   "outputs": [],
   "source": [
    "from nltk.corpus import stopwords\n",
    "from nltk.tokenize import word_tokenize\n",
    "from gensim import corpora\n",
    "from gensim.models import LdaModel\n",
    "import re\n",
    "import nltk\n",
    "nltk.data.path.append(r'C:\\Users\\matej\\AppData\\Roaming\\nltk_data')\n",
    "\n",
    "# Download stopwords if not already downloaded\n",
    "#nltk.download('stopwords')\n",
    "#nltk.download('punkt')\n",
    "\n",
    "# Set up stop words\n",
    "stop_words = set(stopwords.words('english'))\n",
    "\n",
    "# Preprocess the post text for topic modeling\n",
    "def preprocess_text(text):\n",
    "    # Lowercase, remove special characters, and tokenize\n",
    "    text = text.lower()\n",
    "    text = re.sub(r'\\W+', ' ', text)  # Remove non-word characters\n",
    "    words = text.split()\n",
    "    \n",
    "    # Remove stopwords and short words\n",
    "    words = [word for word in words if word not in stop_words and len(word) > 2]\n",
    "    return words\n",
    "\n",
    "# Apply preprocessing to each post\n",
    "posts['processed_desc'] = posts['cleaned_desc'].apply(preprocess_text)\n",
    "\n",
    "# Create a dictionary and corpus for LDA\n",
    "dictionary = corpora.Dictionary(posts['processed_desc'])\n",
    "corpus = [dictionary.doc2bow(text) for text in posts['processed_desc']]\n",
    "\n",
    "# Train the LDA model\n",
    "num_topics = 5  # Define the number of topics\n",
    "lda_model = LdaModel(corpus, num_topics=num_topics, id2word=dictionary, passes=15, random_state=42)\n",
    "\n",
    "# Display the main topics\n",
    "#for idx, topic in lda_model.print_topics(-1):\n",
    "  #  print(f\"Topic {idx + 1}: {topic}\")\n"
   ]
  },
  {
   "cell_type": "code",
   "execution_count": 6,
   "metadata": {},
   "outputs": [
    {
     "data": {
      "text/html": [
       "\n",
       "<link rel=\"stylesheet\" type=\"text/css\" href=\"https://cdn.jsdelivr.net/gh/bmabey/pyLDAvis@3.4.0/pyLDAvis/js/ldavis.v1.0.0.css\">\n",
       "\n",
       "\n",
       "<div id=\"ldavis_el9100311406787201467842965647044\" style=\"background-color:white;\"></div>\n",
       "<script type=\"text/javascript\">\n",
       "\n",
       "var ldavis_el9100311406787201467842965647044_data = {\"mdsDat\": {\"x\": [0.15378498620546904, 0.15230569721383236, -0.33949910903465635, 0.013629148623659245, 0.01977927699169567], \"y\": [-0.22994074407548695, 0.220651024726199, -0.004500935154378344, 0.007448081318644467, 0.006342573185021708], \"topics\": [1, 2, 3, 4, 5], \"cluster\": [1, 1, 1, 1, 1], \"Freq\": [40.59978714387819, 33.90722584026554, 22.02077545367784, 1.736112086866675, 1.7360994753117591]}, \"tinfo\": {\"Term\": [\"protecting\", \"interests\", \"allies\", \"standing\", \"understanding\", \"let\", \"approach\", \"caution\", \"seek\", \"important\", \"resolutions\", \"dialogue\", \"attacks\", \"must\", \"sonic\", \"resolution\", \"violence\", \"answer\", \"cuba\", \"reckless\", \"peaceful\", \"first\", \"prioritize\", \"retaliation\", \"diplomacy\", \"crucial\", \"accountable\", \"responsible\", \"hold\", \"dialogue\", \"resolutions\", \"important\", \"caution\", \"seek\", \"approach\", \"let\", \"understanding\", \"prioritize\", \"peaceful\", \"diplomacy\", \"retaliation\", \"hold\", \"accountable\", \"responsible\", \"crucial\", \"first\", \"reckless\", \"sonic\", \"violence\", \"answer\", \"cuba\", \"resolution\", \"allies\", \"protecting\", \"standing\", \"interests\", \"must\", \"attacks\", \"must\", \"attacks\", \"cuba\", \"violence\", \"answer\", \"resolution\", \"sonic\", \"hold\", \"responsible\", \"accountable\", \"crucial\", \"prioritize\", \"peaceful\", \"diplomacy\", \"retaliation\", \"interests\", \"standing\", \"protecting\", \"allies\", \"first\", \"reckless\", \"dialogue\", \"seek\", \"caution\", \"resolutions\", \"approach\", \"important\", \"let\", \"understanding\", \"standing\", \"allies\", \"interests\", \"protecting\", \"reckless\", \"first\", \"retaliation\", \"diplomacy\", \"hold\", \"accountable\", \"responsible\", \"crucial\", \"answer\", \"sonic\", \"resolution\", \"violence\", \"cuba\", \"resolutions\", \"dialogue\", \"seek\", \"important\", \"let\", \"approach\", \"caution\", \"understanding\", \"must\", \"attacks\", \"peaceful\", \"prioritize\", \"hold\", \"accountable\", \"crucial\", \"responsible\", \"first\", \"reckless\", \"sonic\", \"resolution\", \"violence\", \"answer\", \"cuba\", \"interests\", \"protecting\", \"allies\", \"standing\", \"understanding\", \"let\", \"caution\", \"seek\", \"approach\", \"important\", \"resolutions\", \"dialogue\", \"must\", \"attacks\", \"prioritize\", \"peaceful\", \"retaliation\", \"diplomacy\", \"crucial\", \"accountable\", \"responsible\", \"hold\", \"first\", \"reckless\", \"sonic\", \"resolution\", \"violence\", \"answer\", \"cuba\", \"let\", \"approach\", \"understanding\", \"resolutions\", \"caution\", \"seek\", \"important\", \"dialogue\", \"allies\", \"standing\", \"protecting\", \"interests\", \"attacks\", \"must\", \"peaceful\", \"prioritize\", \"diplomacy\", \"retaliation\"], \"Freq\": [65.0, 65.0, 65.0, 65.0, 70.0, 70.0, 70.0, 70.0, 70.0, 70.0, 70.0, 70.0, 70.0, 70.0, 55.0, 55.0, 55.0, 55.0, 55.0, 49.0, 122.0, 48.0, 122.0, 169.0, 168.0, 18.0, 18.0, 18.0, 18.0, 67.226285517261, 67.22822869551851, 67.22847008412192, 67.22630362140626, 67.22514495610986, 67.22693726649022, 67.2279390291944, 67.22745625198758, 67.22758901571945, 67.22533806699259, 67.21183237463144, 67.20716753987043, 0.1933833171168633, 0.19337373464935462, 0.1933634214155661, 0.19332471437583856, 0.19187284678946992, 0.19190094593158635, 0.1919022424524055, 0.1918912927447603, 0.19188592986319025, 0.19188406758783186, 0.1918845508365008, 0.19344530259857065, 0.1934290017959083, 0.19341351426539613, 0.1934143393240992, 0.19338073586177792, 0.1933707644380235, 68.01196980062358, 68.01194460092898, 52.73185778980773, 52.731812430357465, 52.731777150785035, 52.731802350479626, 52.7316813919456, 15.465455764519582, 15.465397805222027, 15.465349925802307, 15.465375125496896, 52.802043979177625, 52.80199357978845, 52.79391455770315, 52.796323648505876, 0.30433247879284564, 0.3039770252883078, 0.30394015104770966, 0.30391546322191676, 0.19464214569823748, 0.19465801363092414, 0.2654966388435521, 0.2651348657281056, 0.2638333999388792, 0.2630328174541364, 0.2629769646935508, 0.2625604413041569, 0.26135928211175247, 0.26054720226635336, 62.237236979114655, 62.237145330974975, 62.236732914346426, 62.237040590243915, 47.045772272096684, 46.09215373986589, 47.069702255996035, 46.11363213602887, 0.19719205774718387, 0.1971891298141501, 0.19718636809565535, 0.19716730456660136, 0.19146675959290377, 0.19146645273529325, 0.19142923346428306, 0.191418135447369, 0.19139473755456632, 0.19138920133184306, 0.1913691021583535, 0.1913734876650373, 0.19135544699468507, 0.19137154423350397, 0.19135693013980262, 0.19135222498977453, 0.19137678638435046, 0.1926571625500087, 0.1925821870071699, 0.1914892369128749, 0.19145535471837918, 1.1414369239393867, 1.1414607939442496, 1.1414656969722754, 1.1414373110205467, 1.182799126419765, 1.1993154924331344, 1.1404767046086353, 1.1402942603552515, 1.1402337466672479, 1.1402298758556486, 1.1401654913560457, 1.1990183431293557, 1.1989302176519432, 1.1980214801154636, 1.1974523417833023, 1.239080598047611, 1.2295323380483816, 1.2277322816276193, 1.2274148750764706, 1.2269032828100865, 1.2246444061877453, 1.2208508817933053, 1.2200238183815724, 1.1406759223789498, 1.1406702451886042, 1.2364497364305695, 1.2363987707445112, 1.3171335785431895, 1.3051858024335081, 1.1565752660671442, 1.1563043112234865, 1.1561351579853745, 1.1556255048270658, 1.1431682913768428, 1.1434899534840994, 1.1435334352852007, 1.1434258275044338, 1.1433967966283276, 1.1433717655618183, 1.1433538309316904, 1.2544342205853876, 1.2537676716699895, 1.2526620468817498, 1.2515467451348081, 1.2514277830558307, 1.2508407142279057, 1.2492978199324487, 1.2490838946320753, 1.1552057828716282, 1.1551633332794553, 1.1549719875493865, 1.1544476254138507, 1.155185525771412, 1.1545410403218546, 1.268057830124499, 1.2545338287469607, 1.2688488892418635, 1.2727894758514593], \"Total\": [65.0, 65.0, 65.0, 65.0, 70.0, 70.0, 70.0, 70.0, 70.0, 70.0, 70.0, 70.0, 70.0, 70.0, 55.0, 55.0, 55.0, 55.0, 55.0, 49.0, 122.0, 48.0, 122.0, 169.0, 168.0, 18.0, 18.0, 18.0, 18.0, 70.15225897127657, 70.1550483412326, 70.15632819854098, 70.16064931101836, 70.15990889880737, 70.16194211580365, 70.16463641417343, 70.17112288556764, 122.71207191479299, 122.72327748456294, 168.69341376003882, 169.66311649876698, 18.15309356815008, 18.15367789543355, 18.15352006373917, 18.153908107478756, 48.80463615015021, 49.775136677576434, 55.399060227027135, 55.39875240184518, 55.398731481658594, 55.39865591723785, 55.3988362226401, 65.08773335978256, 65.08831194828886, 65.08724319373113, 65.08794570100657, 70.69322466173617, 70.6937533233342, 70.69322466173617, 70.6937533233342, 55.39865591723785, 55.39875240184518, 55.398731481658594, 55.3988362226401, 55.399060227027135, 18.15309356815008, 18.15352006373917, 18.15367789543355, 18.153908107478756, 122.71207191479299, 122.72327748456294, 168.69341376003882, 169.66311649876698, 65.08794570100657, 65.08724319373113, 65.08831194828886, 65.08773335978256, 48.80463615015021, 49.775136677576434, 70.15225897127657, 70.15990889880737, 70.16064931101836, 70.1550483412326, 70.16194211580365, 70.15632819854098, 70.16463641417343, 70.17112288556764, 65.08724319373113, 65.08773335978256, 65.08794570100657, 65.08831194828886, 49.775136677576434, 48.80463615015021, 169.66311649876698, 168.69341376003882, 18.15309356815008, 18.15367789543355, 18.15352006373917, 18.153908107478756, 55.398731481658594, 55.399060227027135, 55.3988362226401, 55.39875240184518, 55.39865591723785, 70.1550483412326, 70.15225897127657, 70.15990889880737, 70.15632819854098, 70.16463641417343, 70.16194211580365, 70.16064931101836, 70.17112288556764, 70.69322466173617, 70.6937533233342, 122.72327748456294, 122.71207191479299, 18.15309356815008, 18.15367789543355, 18.153908107478756, 18.15352006373917, 48.80463615015021, 49.775136677576434, 55.399060227027135, 55.3988362226401, 55.39875240184518, 55.398731481658594, 55.39865591723785, 65.08794570100657, 65.08831194828886, 65.08773335978256, 65.08724319373113, 70.17112288556764, 70.16463641417343, 70.16064931101836, 70.15990889880737, 70.16194211580365, 70.15632819854098, 70.1550483412326, 70.15225897127657, 70.69322466173617, 70.6937533233342, 122.71207191479299, 122.72327748456294, 169.66311649876698, 168.69341376003882, 18.153908107478756, 18.15367789543355, 18.15352006373917, 18.15309356815008, 48.80463615015021, 49.775136677576434, 55.399060227027135, 55.3988362226401, 55.39875240184518, 55.398731481658594, 55.39865591723785, 70.16463641417343, 70.16194211580365, 70.17112288556764, 70.1550483412326, 70.16064931101836, 70.15990889880737, 70.15632819854098, 70.15225897127657, 65.08773335978256, 65.08724319373113, 65.08831194828886, 65.08794570100657, 70.6937533233342, 70.69322466173617, 122.72327748456294, 122.71207191479299, 168.69341376003882, 169.66311649876698], \"Category\": [\"Default\", \"Default\", \"Default\", \"Default\", \"Default\", \"Default\", \"Default\", \"Default\", \"Default\", \"Default\", \"Default\", \"Default\", \"Default\", \"Default\", \"Default\", \"Default\", \"Default\", \"Default\", \"Default\", \"Default\", \"Default\", \"Default\", \"Default\", \"Default\", \"Default\", \"Default\", \"Default\", \"Default\", \"Default\", \"Topic1\", \"Topic1\", \"Topic1\", \"Topic1\", \"Topic1\", \"Topic1\", \"Topic1\", \"Topic1\", \"Topic1\", \"Topic1\", \"Topic1\", \"Topic1\", \"Topic1\", \"Topic1\", \"Topic1\", \"Topic1\", \"Topic1\", \"Topic1\", \"Topic1\", \"Topic1\", \"Topic1\", \"Topic1\", \"Topic1\", \"Topic1\", \"Topic1\", \"Topic1\", \"Topic1\", \"Topic1\", \"Topic1\", \"Topic2\", \"Topic2\", \"Topic2\", \"Topic2\", \"Topic2\", \"Topic2\", \"Topic2\", \"Topic2\", \"Topic2\", \"Topic2\", \"Topic2\", \"Topic2\", \"Topic2\", \"Topic2\", \"Topic2\", \"Topic2\", \"Topic2\", \"Topic2\", \"Topic2\", \"Topic2\", \"Topic2\", \"Topic2\", \"Topic2\", \"Topic2\", \"Topic2\", \"Topic2\", \"Topic2\", \"Topic2\", \"Topic2\", \"Topic3\", \"Topic3\", \"Topic3\", \"Topic3\", \"Topic3\", \"Topic3\", \"Topic3\", \"Topic3\", \"Topic3\", \"Topic3\", \"Topic3\", \"Topic3\", \"Topic3\", \"Topic3\", \"Topic3\", \"Topic3\", \"Topic3\", \"Topic3\", \"Topic3\", \"Topic3\", \"Topic3\", \"Topic3\", \"Topic3\", \"Topic3\", \"Topic3\", \"Topic3\", \"Topic3\", \"Topic3\", \"Topic3\", \"Topic4\", \"Topic4\", \"Topic4\", \"Topic4\", \"Topic4\", \"Topic4\", \"Topic4\", \"Topic4\", \"Topic4\", \"Topic4\", \"Topic4\", \"Topic4\", \"Topic4\", \"Topic4\", \"Topic4\", \"Topic4\", \"Topic4\", \"Topic4\", \"Topic4\", \"Topic4\", \"Topic4\", \"Topic4\", \"Topic4\", \"Topic4\", \"Topic4\", \"Topic4\", \"Topic4\", \"Topic4\", \"Topic4\", \"Topic5\", \"Topic5\", \"Topic5\", \"Topic5\", \"Topic5\", \"Topic5\", \"Topic5\", \"Topic5\", \"Topic5\", \"Topic5\", \"Topic5\", \"Topic5\", \"Topic5\", \"Topic5\", \"Topic5\", \"Topic5\", \"Topic5\", \"Topic5\", \"Topic5\", \"Topic5\", \"Topic5\", \"Topic5\", \"Topic5\", \"Topic5\", \"Topic5\", \"Topic5\", \"Topic5\", \"Topic5\", \"Topic5\"], \"logprob\": [29.0, 28.0, 27.0, 26.0, 25.0, 24.0, 23.0, 22.0, 21.0, 20.0, 19.0, 18.0, 17.0, 16.0, 15.0, 14.0, 13.0, 12.0, 11.0, 10.0, 9.0, 8.0, 7.0, 6.0, 5.0, 4.0, 3.0, 2.0, 1.0, -2.4889, -2.4889, -2.4889, -2.4889, -2.4889, -2.4889, -2.4889, -2.4889, -2.4889, -2.4889, -2.4891, -2.4892, -8.3401, -8.3401, -8.3402, -8.3404, -8.3479, -8.3478, -8.3478, -8.3478, -8.3478, -8.3479, -8.3479, -8.3398, -8.3398, -8.3399, -8.3399, -8.3401, -8.3401, -2.2972, -2.2972, -2.5516, -2.5516, -2.5516, -2.5516, -2.5516, -3.7782, -3.7783, -3.7783, -3.7783, -2.5503, -2.5503, -2.5505, -2.5504, -7.7065, -7.7077, -7.7078, -7.7079, -8.1534, -8.1534, -7.843, -7.8444, -7.8493, -7.8523, -7.8525, -7.8541, -7.8587, -7.8618, -1.9543, -1.9543, -1.9543, -1.9543, -2.2341, -2.2546, -2.2336, -2.2541, -7.7088, -7.7088, -7.7088, -7.7089, -7.7383, -7.7383, -7.7385, -7.7385, -7.7386, -7.7387, -7.7388, -7.7387, -7.7388, -7.7388, -7.7388, -7.7389, -7.7387, -7.7321, -7.7324, -7.7381, -7.7383, -3.4126, -3.4126, -3.4126, -3.4126, -3.377, -3.3631, -3.4134, -3.4136, -3.4136, -3.4136, -3.4137, -3.3634, -3.3634, -3.3642, -3.3647, -3.3305, -3.3382, -3.3397, -3.34, -3.3404, -3.3422, -3.3453, -3.346, -3.4133, -3.4133, -3.3326, -3.3327, -3.2694, -3.2785, -3.3994, -3.3996, -3.3998, -3.4002, -3.4111, -3.4108, -3.4107, -3.4108, -3.4109, -3.4109, -3.4109, -3.3182, -3.3187, -3.3196, -3.3205, -3.3206, -3.3211, -3.3223, -3.3225, -3.4006, -3.4006, -3.4008, -3.4012, -3.4006, -3.4012, -3.3074, -3.3181, -3.3068, -3.3037], \"loglift\": [29.0, 28.0, 27.0, 26.0, 25.0, 24.0, 23.0, 22.0, 21.0, 20.0, 19.0, 18.0, 17.0, 16.0, 15.0, 14.0, 13.0, 12.0, 11.0, 10.0, 9.0, 8.0, 7.0, 6.0, 5.0, 4.0, 3.0, 2.0, 1.0, 0.8588, 0.8588, 0.8588, 0.8587, 0.8587, 0.8587, 0.8587, 0.8586, 0.2997, 0.2995, -0.0188, -0.0246, -3.6405, -3.6406, -3.6406, -3.6409, -4.6373, -4.6569, -4.7639, -4.764, -4.764, -4.764, -4.764, -4.9171, -4.9172, -4.9172, -4.9173, -5.0, -5.0001, 1.0429, 1.0429, 1.0322, 1.0322, 1.0322, 1.0322, 1.0322, 0.9213, 0.9213, 0.9213, 0.9213, 0.2383, 0.2382, -0.0801, -0.0858, -4.2838, -4.285, -4.2851, -4.2852, -4.4429, -4.4625, -4.4953, -4.4968, -4.5017, -4.5046, -4.505, -4.5065, -4.5112, -4.5144, 1.4684, 1.4684, 1.4684, 1.4684, 1.4568, 1.456, 0.231, 0.2162, -3.0092, -3.0093, -3.0093, -3.0094, -4.1544, -4.1544, -4.1546, -4.1547, -4.1548, -4.391, -4.391, -4.3911, -4.3912, -4.3912, -4.3912, -4.3912, -4.3913, -4.392, -4.3924, -4.9497, -4.9498, 1.287, 1.287, 1.2869, 1.2869, 0.3336, 0.3278, 0.1704, 0.1702, 0.1702, 0.1702, 0.1701, 0.0593, 0.0592, 0.0585, 0.058, 0.017, 0.0093, 0.0079, 0.0077, 0.0072, 0.0054, 0.0024, 0.0017, -0.0732, -0.0732, -0.5441, -0.5442, -0.8048, -0.8082, 1.3001, 1.2999, 1.2997, 1.2993, 0.2995, 0.2801, 0.1731, 0.173, 0.173, 0.173, 0.1729, 0.0294, 0.0289, 0.0279, 0.0272, 0.027, 0.0266, 0.0254, 0.0253, 0.0221, 0.022, 0.0219, 0.0214, -0.0606, -0.0611, -0.5189, -0.5295, -0.8364, -0.8391]}, \"token.table\": {\"Topic\": [2, 4, 5, 3, 4, 5, 2, 4, 5, 1, 4, 5, 2, 4, 5, 1, 4, 5, 2, 4, 5, 2, 4, 5, 1, 4, 5, 1, 2, 3, 4, 5, 3, 4, 5, 2, 4, 5, 1, 4, 5, 3, 4, 5, 1, 4, 5, 2, 4, 5, 1, 2, 4, 5, 1, 2, 4, 5, 3, 4, 5, 3, 4, 5, 2, 4, 5, 1, 4, 5, 2, 4, 5, 1, 2, 3, 4, 5, 1, 4, 5, 2, 4, 5, 3, 4, 5, 1, 4, 5, 2, 4, 5], \"Freq\": [0.8262788447829165, 0.055085256318861096, 0.055085256318861096, 0.9525604411093157, 0.015363878082408317, 0.015363878082408317, 0.9567006063585993, 0.018050954836954704, 0.018050954836954704, 0.9549336574722403, 0.014252741156302094, 0.014252741156302094, 0.9618954547368039, 0.014145521393188292, 0.014145521393188292, 0.9549512534154669, 0.014253003782320401, 0.014253003782320401, 0.8262683666345397, 0.05508455777563598, 0.05508455777563598, 0.9567019113095218, 0.01805097945867022, 0.01805097945867022, 0.9550654673491378, 0.01425470846789758, 0.01425470846789758, 0.3971702184846732, 0.3141794265625027, 0.27268403060141744, 0.005927913708726466, 0.005927913708726466, 0.9425334072459512, 0.02048985667925981, 0.02048985667925981, 0.8263054417522401, 0.05508702945014934, 0.05508702945014934, 0.9550100713707731, 0.014253881662250344, 0.014253881662250344, 0.9525573335008664, 0.015363827959691392, 0.015363827959691392, 0.9548969883419197, 0.014252193855849547, 0.014252193855849547, 0.9619026480313619, 0.014145627176931793, 0.014145627176931793, 0.5459436984839959, 0.43186591074107145, 0.008148413410208895, 0.008148413410208895, 0.5459935518530115, 0.4319053469882031, 0.008149157490343456, 0.008149157490343456, 0.9525519735287888, 0.015363741508528851, 0.015363741508528851, 0.9442465282304966, 0.02009035166447865, 0.02009035166447865, 0.9566987975523616, 0.018050920708535124, 0.018050920708535124, 0.9550274938749024, 0.01425414169962541, 0.01425414169962541, 0.8262860286783619, 0.05508573524522412, 0.05508573524522412, 0.39490020802775316, 0.3123837466488197, 0.27701954891499103, 0.005894032955638106, 0.005894032955638106, 0.9549613312160232, 0.014253154197254078, 0.014253154197254078, 0.9566949291703558, 0.01805084772019539, 0.01805084772019539, 0.9525676147545227, 0.015363993786363269, 0.015363993786363269, 0.954808719667505, 0.014250876412947837, 0.014250876412947837, 0.9567002450805141, 0.018050948020387057, 0.018050948020387057], \"Term\": [\"accountable\", \"accountable\", \"accountable\", \"allies\", \"allies\", \"allies\", \"answer\", \"answer\", \"answer\", \"approach\", \"approach\", \"approach\", \"attacks\", \"attacks\", \"attacks\", \"caution\", \"caution\", \"caution\", \"crucial\", \"crucial\", \"crucial\", \"cuba\", \"cuba\", \"cuba\", \"dialogue\", \"dialogue\", \"dialogue\", \"diplomacy\", \"diplomacy\", \"diplomacy\", \"diplomacy\", \"diplomacy\", \"first\", \"first\", \"first\", \"hold\", \"hold\", \"hold\", \"important\", \"important\", \"important\", \"interests\", \"interests\", \"interests\", \"let\", \"let\", \"let\", \"must\", \"must\", \"must\", \"peaceful\", \"peaceful\", \"peaceful\", \"peaceful\", \"prioritize\", \"prioritize\", \"prioritize\", \"prioritize\", \"protecting\", \"protecting\", \"protecting\", \"reckless\", \"reckless\", \"reckless\", \"resolution\", \"resolution\", \"resolution\", \"resolutions\", \"resolutions\", \"resolutions\", \"responsible\", \"responsible\", \"responsible\", \"retaliation\", \"retaliation\", \"retaliation\", \"retaliation\", \"retaliation\", \"seek\", \"seek\", \"seek\", \"sonic\", \"sonic\", \"sonic\", \"standing\", \"standing\", \"standing\", \"understanding\", \"understanding\", \"understanding\", \"violence\", \"violence\", \"violence\"]}, \"R\": 29, \"lambda.step\": 0.01, \"plot.opts\": {\"xlab\": \"PC1\", \"ylab\": \"PC2\"}, \"topic.order\": [1, 4, 5, 3, 2]};\n",
       "\n",
       "function LDAvis_load_lib(url, callback){\n",
       "  var s = document.createElement('script');\n",
       "  s.src = url;\n",
       "  s.async = true;\n",
       "  s.onreadystatechange = s.onload = callback;\n",
       "  s.onerror = function(){console.warn(\"failed to load library \" + url);};\n",
       "  document.getElementsByTagName(\"head\")[0].appendChild(s);\n",
       "}\n",
       "\n",
       "if(typeof(LDAvis) !== \"undefined\"){\n",
       "   // already loaded: just create the visualization\n",
       "   !function(LDAvis){\n",
       "       new LDAvis(\"#\" + \"ldavis_el9100311406787201467842965647044\", ldavis_el9100311406787201467842965647044_data);\n",
       "   }(LDAvis);\n",
       "}else if(typeof define === \"function\" && define.amd){\n",
       "   // require.js is available: use it to load d3/LDAvis\n",
       "   require.config({paths: {d3: \"https://d3js.org/d3.v5\"}});\n",
       "   require([\"d3\"], function(d3){\n",
       "      window.d3 = d3;\n",
       "      LDAvis_load_lib(\"https://cdn.jsdelivr.net/gh/bmabey/pyLDAvis@3.4.0/pyLDAvis/js/ldavis.v3.0.0.js\", function(){\n",
       "        new LDAvis(\"#\" + \"ldavis_el9100311406787201467842965647044\", ldavis_el9100311406787201467842965647044_data);\n",
       "      });\n",
       "    });\n",
       "}else{\n",
       "    // require.js not available: dynamically load d3 & LDAvis\n",
       "    LDAvis_load_lib(\"https://d3js.org/d3.v5.js\", function(){\n",
       "         LDAvis_load_lib(\"https://cdn.jsdelivr.net/gh/bmabey/pyLDAvis@3.4.0/pyLDAvis/js/ldavis.v3.0.0.js\", function(){\n",
       "                 new LDAvis(\"#\" + \"ldavis_el9100311406787201467842965647044\", ldavis_el9100311406787201467842965647044_data);\n",
       "            })\n",
       "         });\n",
       "}\n",
       "</script>"
      ],
      "text/plain": [
       "<IPython.core.display.HTML object>"
      ]
     },
     "execution_count": 6,
     "metadata": {},
     "output_type": "execute_result"
    }
   ],
   "source": [
    "import pyLDAvis.gensim_models as gensimvis\n",
    "import pyLDAvis\n",
    "\n",
    "# Visualize the topics\n",
    "lda_vis = gensimvis.prepare(lda_model, corpus, dictionary)\n",
    "pyLDAvis.display(lda_vis)\n"
   ]
  },
  {
   "cell_type": "markdown",
   "metadata": {},
   "source": [
    "Plotting the sentiments per post for users with their names attached:"
   ]
  },
  {
   "cell_type": "code",
   "execution_count": 4,
   "metadata": {},
   "outputs": [
    {
     "name": "stdout",
     "output_type": "stream",
     "text": [
      "Unique userIds in posts: ['67372f81ff13abdfc5591b1a' '67372f81ff13abdfc5591b12'\n",
      " '67372f81ff13abdfc5591b15' '67372f81ff13abdfc5591b1c'\n",
      " '67372f81ff13abdfc5591b11' '67372f81ff13abdfc5591b0f'\n",
      " '67372f81ff13abdfc5591b0e' '67372f81ff13abdfc5591b16'\n",
      " '67372f81ff13abdfc5591b1b' '67372f81ff13abdfc5591b21'\n",
      " '67372f81ff13abdfc5591b1d' '67372f81ff13abdfc5591b18'\n",
      " '67372f81ff13abdfc5591b25' '67372f81ff13abdfc5591b0d'\n",
      " '67372f81ff13abdfc5591b27' '67372f82ff13abdfc5591b28'\n",
      " '67372f82ff13abdfc5591b29' '67372f81ff13abdfc5591b22'\n",
      " '67372f81ff13abdfc5591b13' '67372f81ff13abdfc5591b1f'\n",
      " '67372f81ff13abdfc5591b24' '67372f81ff13abdfc5591b17'\n",
      " '67372f81ff13abdfc5591b14' '67372f81ff13abdfc5591b10']\n",
      "Unique _id in users: ['67372f81ff13abdfc5591b0d' '67372f81ff13abdfc5591b0e'\n",
      " '67372f81ff13abdfc5591b0f' '67372f81ff13abdfc5591b10'\n",
      " '67372f81ff13abdfc5591b11' '67372f81ff13abdfc5591b12'\n",
      " '67372f81ff13abdfc5591b13' '67372f81ff13abdfc5591b14'\n",
      " '67372f81ff13abdfc5591b15' '67372f81ff13abdfc5591b16'\n",
      " '67372f81ff13abdfc5591b17' '67372f81ff13abdfc5591b18'\n",
      " '67372f81ff13abdfc5591b19' '67372f81ff13abdfc5591b1a'\n",
      " '67372f81ff13abdfc5591b1b' '67372f81ff13abdfc5591b1c'\n",
      " '67372f81ff13abdfc5591b1d' '67372f81ff13abdfc5591b1e'\n",
      " '67372f81ff13abdfc5591b1f' '67372f81ff13abdfc5591b20'\n",
      " '67372f81ff13abdfc5591b21' '67372f81ff13abdfc5591b22'\n",
      " '67372f81ff13abdfc5591b23' '67372f81ff13abdfc5591b24'\n",
      " '67372f81ff13abdfc5591b25' '67372f81ff13abdfc5591b26'\n",
      " '67372f81ff13abdfc5591b27' '67372f82ff13abdfc5591b28'\n",
      " '67372f82ff13abdfc5591b29' '67372f82ff13abdfc5591b2a']\n",
      "Number of NaN usernames after merge: 0\n"
     ]
    }
   ],
   "source": [
    "from plotly.subplots import make_subplots\n",
    "import plotly.graph_objects as go\n",
    "\n",
    "# Ensure the columns are of the same type and strip whitespace\n",
    "posts['userId'] = posts['userId'].astype(str).str.strip()\n",
    "users['_id'] = users['_id'].astype(str).str.strip()\n",
    "\n",
    "# Print unique values to check for mismatches\n",
    "print(\"Unique userIds in posts:\", posts['userId'].unique())\n",
    "print(\"Unique _id in users:\", users['_id'].unique())\n",
    "\n",
    "# Merge posts with users to get usernames using the correct column name\n",
    "merged_data = posts.merge(users[['_id', 'username']], left_on='userId', right_on='_id', how='left')\n",
    "\n",
    "# Check for NaN values in merged usernames\n",
    "print(\"Number of NaN usernames after merge:\", merged_data['username'].isna().sum())\n",
    "\n",
    "# Create a figure\n",
    "fig = make_subplots()\n",
    "\n",
    "# Plot each user's posts using actual usernames from the merged DataFrame\n",
    "for user_id in merged_data['userId'].unique():\n",
    "    username = merged_data.loc[merged_data['userId'] == user_id, 'username'].iloc[0]\n",
    "    user_posts = merged_data[merged_data['userId'] == user_id]\n",
    "    \n",
    "    fig.add_trace(go.Scatter(\n",
    "        x=user_posts.index + 1,\n",
    "        y=user_posts['sentiment'],\n",
    "        mode='lines+markers',\n",
    "        name=username,\n",
    "        line=dict(width=1),\n",
    "        marker=dict(size=8)\n",
    "    ))\n",
    "\n",
    "# Update layout for better readability\n",
    "fig.update_layout(\n",
    "    title='Sentiment of Posts per User',\n",
    "    xaxis_title='Posts (Sequential)',\n",
    "    yaxis_title='Sentiment Score',\n",
    "    xaxis=dict(\n",
    "        tickmode='linear',\n",
    "        tickvals=list(range(1, len(merged_data) + 1)),\n",
    "        ticktext=[str(i) for i in range(1, len(merged_data) + 1)],\n",
    "        range=[1, len(merged_data)],\n",
    "        showgrid=True,\n",
    "        zeroline=True\n",
    "    ),\n",
    "    yaxis=dict(\n",
    "        autorange=True,\n",
    "    ),\n",
    "    legend_title=\"Users\",\n",
    "    hovermode=\"closest\",\n",
    "    width=1600,\n",
    "    height=600,\n",
    "    margin=dict(l=40, r=40, t=50, b=40)\n",
    ")\n",
    "\n",
    "# Show the plot\n",
    "fig.show()\n"
   ]
  },
  {
   "cell_type": "markdown",
   "metadata": {},
   "source": [
    "Connecting the names to roles and than graphing by the roles:"
   ]
  },
  {
   "cell_type": "code",
   "execution_count": 23,
   "metadata": {},
   "outputs": [
    {
     "name": "stdout",
     "output_type": "stream",
     "text": [
      "['academic communications', 'academic researcher', 'academic researcher', 'academic researcher', 'academic researcher', 'academic science', 'academic science', 'academic science', 'academic writer', 'biologist', 'biology', 'biotechnology researcher', 'climate science', 'editor', 'editor', 'editor', 'educator', 'entry-level biology', 'environmental science', 'environmental', 'environmental', 'general-interest science', 'journalist', 'journalist', 'medical', 'microbiologist', 'microbiologist', 'molecular biologist', 'news aggregator', 'research coordinator', 'science communications', 'science communicator,', 'science communicator', 'science communicator', 'science communicator', 'science communicator', 'science editor', 'science editor', 'science editor', 'science editor', 'science enthusiast', 'science journalist', 'science journalist', 'science journalist', 'science journalist', 'science journalist', 'science journalist', 'science journalist', 'science journalist', 'science journalist', 'science journalist', 'science journalist', 'science journalist', 'science journalist', 'science journalist', 'science journalist', 'science journalist', 'science journalist', 'science journalist', 'science journalist', 'science journalist', 'science journalist', 'science journalist', 'science journalist', 'science journalist', 'science journalist', 'science journalist', 'science journalist', 'science journalist', 'science journalist', 'science journalist', 'science journalist', 'science journalist', 'science journalist', 'science journalist', 'science journalist', 'science journalist', 'science journalist', 'science journalist', 'science journalist', 'science journalist', 'science journalist', 'science journalist', 'science journalist', 'science journalist', 'science journalist', 'science journalist', 'science journalist', 'science journalist', 'science journalist', 'science journalist', 'science journalist', 'science journalist', 'science journalist', 'science journalist', 'science journalist', 'science journalist', 'science journalist', 'science journalist', 'science journalist', 'science journalist', 'science journalist', 'science journalist', 'science journalist', 'science journalist', 'science journalist', 'science journalist', 'science journalist', 'science journalist', 'science journalist', 'science journalist', 'science journalist', 'science journalist', 'science journalist', 'science journalist', 'science journalist', 'science journalist', 'science journalist', 'science journalist', 'science journalist', 'science journalist', 'science journalist', 'science journalist', 'science journalist', 'science journalist', 'science journalist', 'science journalist', 'science journalist', 'science journalist', 'science journalist', 'science journalist', 'science journalist', 'science journalist', 'science journalist', 'science journalist', 'science journalist', 'science journalist', 'science journalist', 'science journalist', 'science journalist', 'science journalist', 'science journalist', 'science journalist', 'science journalist', 'science journalist', 'science journalist', 'science journalist', 'science journalist', 'science journalist', 'science journalist', 'science journalist', 'science journalist', 'science journalist', 'science journalist', 'science journalist', 'science journalist', 'science news', 'science news', 'science news', 'science news', 'science news', 'science news', 'science news', 'science news', 'science news', 'science news', 'science news', 'science news', 'science reporter', 'science researcher', 'science researcher', 'science writer', 'science writer', 'science writer', 'science writer', 'science writer', 'science writer', 'science writer', 'science writer', 'science writer', 'science writer', 'science writer', 'science writer', 'science writer', 'science writer', 'science writer', 'science writer', 'science writer', 'science writer', 'science writer', 'science writer', 'science writer', 'science writer', 'science writer', 'science writer', 'science writer', 'science writer', 'science writer', 'science writer', 'science writer', 'science writer', 'science writer', 'science writer', 'science writer', 'science writer', 'science writer', 'science writer', 'science writer', 'science writer', 'science writer', 'science writer', 'science writer', 'science writer', 'science writer', 'science writer', 'science writer', 'science writer', 'science writer', 'science writer', 'science writer', 'science writer', 'science writer', 'science writer', 'science writer', 'science writer', 'science writer', 'science writer', 'science writer', 'science writer', 'science writer', 'science writer', 'science writer', 'science writer', 'science writer', 'science writer', 'science writer', 'science writer', 'science writer', 'science writer', 'science writer', 'science writer', 'science writer', 'science technology', 'science', 'science', 'science', 'science', 'science', 'science', 'science', 'science', 'science', 'science', 'scientific editor', 'scientific journalist', 'scientific journalist', 'scientific research', 'scientific researcher', 'scientist']\n"
     ]
    }
   ],
   "source": [
    "import re\n",
    "import json\n",
    "\n",
    "# Function to extract roles from the text file\n",
    "def extract_roles_from_file(file_path):\n",
    "    roles = []\n",
    "    \n",
    "    # Read the content of the file\n",
    "    with open(file_path, 'r') as file:\n",
    "        lines = file.readlines()\n",
    "        \n",
    "        for line in lines:\n",
    "            # Use regex to find the persona value\n",
    "            match = re.search(r\"persona:\\s*'([^']+)'\", line)\n",
    "            if match:\n",
    "                roles.append(match.group(1))  # Append the extracted persona to the list\n",
    "\n",
    "    return roles\n",
    "\n",
    "# Specify the path to your text file\n",
    "file_path = 'roles_with_agents.txt'\n",
    "\n",
    "# Get the roles\n",
    "roles_array = extract_roles_from_file(file_path)\n",
    "\n",
    "# Print the roles array\n",
    "print(roles_array)"
   ]
  },
  {
   "cell_type": "code",
   "execution_count": 24,
   "metadata": {},
   "outputs": [
    {
     "name": "stdout",
     "output_type": "stream",
     "text": [
      "['Dunkelschieferblaue Biene', 'Sienna-Kuh', 'Darkslategray-Wissenschaftler', 'Dunkelschiefergraue Katze', 'Silberner BÃ¤r', 'SeegrÃ¼ner Papagei', 'Kadettenblaues Siegel', 'Dunkelschieferblaue Giraffe', 'Hellschiefergrauer LÃ¶we', 'Dunkelkhakifarbenes Rentier', 'Siena Biene', 'Peru-BÃ¼ffel', 'Peruanisches ErdmÃ¤nnchen', 'DÃ¼sterer Professor', 'Rosabraunes Zebra', 'Dunkelschiefergraue Kuh', 'Grauer Koala', 'Dunkelgrauer Orca', 'Darkslategray-Wissenschaftler', 'Silberner BlauhÃ¤her', 'Graues Huhn', 'Dunkelschiefergrauer Frosch', 'Silberner WaschbÃ¤r', 'Rosabraunes Lamm', 'BlaugrÃ¼ne Blume', 'Schwarzer Biker', 'Dunkelschiefergrauer Fuchs', 'Dunkelgrauer Igel', 'Schiefergraue Eule', 'Dunkelschiefergrauer Hund', 'Rosabrauner Fuchs', 'Himmelblauer Delphin', 'Dunkellachs-Warzenschwein', 'Rosabrauner Vogel', 'Dunkelschiefergraues Schwein', 'Schwarzer Tiger', 'Indigo-Truthahn', 'Schwarzer Astronaut', 'Nachtblauer Cowboy', 'Hellstahlblaue Krabbe', 'Dunkelschiefergraues Siegel', 'Dunkelschiefergrauer Wolf', 'Indianerhund', 'Schwarzer AuÃŸerirdischer', 'Schwarzer LÃ¶we', 'Dunkelkhakifarbenes ErdmÃ¤nnchen', 'Silberner Adler', 'Dunkelschieferblauer Papagei', 'MitteltÃ¼rkisfarbener Wal', 'DunkelseegrÃ¼ner Biber', 'Peru Cowboy', 'Siena Gans', 'Schwarzes Krokodil', 'Dunkelschieferblauer Pinguin', 'Dunkelgrauer Esel', 'Dunkelschiefergrauer Alien', 'Dunkelschiefergrauer Igel', 'Peruanisches Frettchen', 'Dunkelschiefergraues Kaninchen', 'Dunkelgraues EichhÃ¶rnchen', 'Dunkelschieferblaue Gans', 'Dunkelschiefergrauer Wolf', 'Stahlblaue Giraffe', 'Sienna-Hai', 'Graue Biene', 'Hellgrauer Professor', 'Darkslategray-Wissenschaftler', 'Rosabraunes Walross', 'Stahlblauer Bison', 'Kadettenblauer Wolf', 'Dunkelgraue Kuh', 'Dunkelschiefergraues Kaninchen', 'Dunkelgrauer Koala', 'Dunkelgrauer Papagei', 'MittelgroÃŸer Aquamarin-Truthahn', 'Gainsboro-Faultier', 'Stahlblaues Nilpferd', 'Burlywood-Leopard', 'Graue Eule', 'Hellstahlblaue MÃ¶we', 'Blassviolettes Warzenschwein', 'Kadettenblaues Huhn', 'Dunkelschiefergrauer Frosch', 'Stahlblaufuchs', 'Hellstahlblaues EichhÃ¶rnchen', 'Dunkelschiefergraues Faultier', 'Dunkelschieferblauer Otter', 'Dunkelschiefergrauer Igel', 'Dunkelgraue Kuh', 'Weizenvogel', 'Rosigbraunes Rotkehlchen', 'Dunkelschieferblaue Blume', 'Silberner Hund', 'Dunkelgraues Zebra', 'DunkelseegrÃ¼nes Zebra', 'Kadettenblauer Oktopus', 'Burlywood-Adler', 'Dunkelgraue Seekuh', 'Grauer Panda', 'Dunkelschieferblaue Krabbe', 'Schwarzer Frosch', 'Peruanisches ErdmÃ¤nnchen', 'Kadettenblauer Adler', 'Dunkelgrauer WaschbÃ¤r', 'MitteltÃ¼rkiser Hai', 'Schokoladen-EichhÃ¶rnchen', 'Dunkelgraues Frettchen', 'Dunkelgrauer Pinguin', 'Dunkelgrauer Cowboy', 'Silberner Cowboy', 'Dunkelschiefergrauer Hund', 'Silberne Feuerwehrfrau', 'Dunkelschiefergrauer Astronaut', 'Dunkelgrauer Biker', 'BlaugrÃ¼ner BÃ¤r', 'Schwarze Ziege', 'Weizenflusspferd', 'Kadettenblaue Katze', 'Rosabraunes Huhn', 'Dunkelschiefergraues Krokodil', 'Kadettenblaues Schwein', 'Dunkelschiefergrauer Hirsch', 'Dunkelschiefergrauer Elefant', 'Dunkelgraues Pferd', 'Dunkelschiefergrauer Tiger', 'Feuerwehrmann Aus Schokolade', 'Indianred-Katze', 'Stahlblaue Giraffe', 'Blaue Giraffe', 'Dunkelschiefergraue Seekuh', 'Dunkelschiefergrauer LÃ¶we', 'Burlywood-Samurai', 'Blauer Wissenschaftler', 'Blaue Seekuh', 'Dunkelschiefergrauer Otter', 'Dunkelgrauer Pinguin', 'Dunkelschiefergrauer Biker', 'Black Samurai', 'Schieferblaue Blume', 'Blaue Kuh', 'Blauer Wal', 'Dunkelgrauer Feuerwehrmann', 'Blauer Esel', 'Blauer Koch', 'Blauer Ritter', 'Blauer Adler', 'Blauer AuÃŸerirdischer', 'Blauer Astronaut', 'Blauer WaschbÃ¤r', 'Schwarze Ziege', 'Indisches Walross', 'Dunkelschieferblauer Hai', 'Rosabraunes Nashorn', 'Blaue Eule', 'Rosabraunes ErdmÃ¤nnchen', 'Schwarzer Tiger', 'Dunkelschiefergrauer Astronaut', 'Anthrazitgraue Ziege', 'Blauer Pinguin', 'Blauer Tiger', 'Blaue Krabbe', 'Blauer Hai', 'Blauer Otter', 'Blauer Schwan', 'Dunkelschiefergrauer Astronaut', 'Blauer Bison', 'Blauer Cowboy', 'Blauer Frosch', 'Blauer Oktopus', 'Dunkelschieferblaue MÃ¶we', 'Dunkelkhakifarbener Truthahn', 'Schiefergraues Schaf', 'Biskuit-Samurai', 'Blaue Blume', 'Blauer Delphin', 'Dunkelschiefergraues Schwein', 'Blauer Hund', 'Dunkelschieferblauer Schwan', 'Lichtschiefergraue Gans', 'Dunkelschiefergraues Kaninchen', 'Blaue Gans', 'Blaue MÃ¶we', 'Blauer Hirsch', 'Serene swan', 'Blauer Soldat', 'Stahlblaue Eule', 'Black Samurai', 'Schwarze Blume', 'Blaue Katze', 'Blaue Schafe', 'Blauer BÃ¤r', 'Blauer Fuchs', 'Friendly Crocodile', 'Blaues Siegel', 'Blauer Wrestler', 'Graue Feuerwehrfrau', 'Gelber Adler', 'Gelbes ErdmÃ¤nnchen', 'Grauer Vogel', 'GrÃ¼ner Cowboy', 'Gelber Vogel', 'Goldene Katze', 'Friendly Wolf', 'GrÃ¼nes Huhn', 'Dunkelgrauer Igel', 'Gelbes Nilpferd', 'Gelber Truthahn', 'Graue Wissenschaftlerin', 'Grauer Astronaut', 'Grauer Professor', 'Graues Zebra', 'GrÃ¼ne Eule', 'GrÃ¼ner Papagei', 'Brauner Soldat', 'Brauner Cowboy', 'Gelber Samurai', 'Blaues Huhn', 'GrÃ¼ne Seekuh', 'Grauer Orca', 'Graue Pansa', 'Grauer Fuchs', 'Grauer Koala', 'Goldener Leopard', 'Goldenes ErdmÃ¤nnchen', 'Grauer Adler', 'Grauer Biker', 'Grauer LÃ¶we', 'Blaues Schwein', 'BlaugrÃ¼ner Panda', 'Goldene Giraffe', 'GrÃ¼ner Pirat', 'GrÃ¼nes ErdmÃ¤nnchen', 'Graues Faultier', 'Graues Kaninchen', 'GrÃ¼ner Biber', 'GrÃ¼ner Pinguin', 'GrÃ¼ner BÃ¤r', 'Graue Kuh', 'Dunkelblauer Otter', 'Brauner Koch', 'Blauer Wolf', 'Friendly Turkey', 'Dunkelblauer Pinguin', 'GrÃ¼ner Koala', 'GrÃ¼ner Wissenschaftler', 'Grauer Cowboy', 'Graues Huhn', 'Graues EichhÃ¶rnchen', 'Graues Frettchen', 'Graues Schwein', 'Graue Professorin', 'Graues Pferd', 'Grauer Papagei', 'GrÃ¼ner Frosch', 'GrÃ¼ner Hai', 'GrÃ¼ner Tiger', 'GrÃ¼nes Siegel', 'Lila Giraffe', 'Lila Samurai']\n"
     ]
    }
   ],
   "source": [
    "import re\n",
    "\n",
    "# Function to extract names from the text file\n",
    "def extract_names_from_file(file_path):\n",
    "    names = []\n",
    "    \n",
    "    # Read the content of the file\n",
    "    with open(file_path, 'r') as file:\n",
    "        lines = file.readlines()\n",
    "        \n",
    "        for line in lines:\n",
    "            # Use regex to find the name value\n",
    "            match = re.search(r'=\\s*\"([^\"]+)\"', line)\n",
    "            if match:\n",
    "                names.append(match.group(1))  # Append the extracted name to the list\n",
    "\n",
    "    return names\n",
    "\n",
    "# Specify the path to your text file\n",
    "file_path = 'names_with_agents.txt'\n",
    "\n",
    "# Get the names\n",
    "names_array = extract_names_from_file(file_path)\n",
    "\n",
    "# Print the names array\n",
    "print(names_array)\n"
   ]
  },
  {
   "cell_type": "code",
   "execution_count": 28,
   "metadata": {},
   "outputs": [],
   "source": [
    "\n",
    "import pandas as pd\n",
    "from plotly.subplots import make_subplots\n",
    "import plotly.graph_objects as go\n",
    "\n",
    "# Map usernames to their roles\n",
    "user_role_mapping = dict(zip(names_array, roles_array))\n",
    "\n",
    "\n",
    "# Map each post's username to its role\n",
    "posts['role'] = posts['username'].map(user_role_mapping)\n",
    "\n",
    "# Create a figure\n",
    "fig = make_subplots()\n",
    "\n",
    "# Plot each role's posts without connecting individual users' posts\n",
    "for role in posts['role'].unique():\n",
    "    # Filter posts for the current role\n",
    "    role_posts = posts[posts['role'] == role]\n",
    "    \n",
    "    # Plot posts for this role as individual points\n",
    "    fig.add_trace(go.Scatter(\n",
    "        x=role_posts.index + 1,    # Sequential post order\n",
    "        y=role_posts['sentiment'],  # Sentiment score\n",
    "        mode='lines+markers',          # Lines and markers\n",
    "        name=role,                     # Role label for legend\n",
    "        marker=dict(size=8),            # Adjust marker size\n",
    "        line=dict(width=0.7)            # Thin line\n",
    "    ))\n",
    "\n",
    "# Update layout for better readability\n",
    "fig.update_layout(\n",
    "    title='Sentiment of posts per Role',\n",
    "    xaxis_title='posts (Sequential)',\n",
    "    yaxis_title='Sentiment Score',\n",
    "    xaxis=dict(\n",
    "        tickmode='linear',               # Keep linear tick mode\n",
    "        tickvals=list(range(1, len(posts) + 1)),  # Ticks for each post\n",
    "        ticktext=[str(i) for i in range(1, len(posts) + 1)],  # Custom tick text\n",
    "        range=[1, len(posts)],        # Set x-axis range to start at 1\n",
    "        showgrid=True,                   # Optionally show grid lines for readability\n",
    "        zeroline=True                    # Optionally show a line at y=0\n",
    "    ),\n",
    "    yaxis=dict(\n",
    "        autorange=True,                  # Automatically adjust y-axis range\n",
    "    ),\n",
    "    legend_title=\"Roles\",\n",
    "    hovermode=\"closest\",\n",
    "    width=1600,                          # Increase chart width for clarity\n",
    "    height=600,\n",
    "    margin=dict(l=40, r=40, t=50, b=40)  # Add margins to avoid clutter\n",
    ")\n",
    "\n",
    "# Show the plot\n",
    "fig.show()\n"
   ]
  },
  {
   "cell_type": "code",
   "execution_count": null,
   "metadata": {},
   "outputs": [],
   "source": []
  }
 ],
 "metadata": {
  "kernelspec": {
   "display_name": ".venv",
   "language": "python",
   "name": "python3"
  },
  "language_info": {
   "codemirror_mode": {
    "name": "ipython",
    "version": 3
   },
   "file_extension": ".py",
   "mimetype": "text/x-python",
   "name": "python",
   "nbconvert_exporter": "python",
   "pygments_lexer": "ipython3",
   "version": "3.9.6"
  }
 },
 "nbformat": 4,
 "nbformat_minor": 2
}
