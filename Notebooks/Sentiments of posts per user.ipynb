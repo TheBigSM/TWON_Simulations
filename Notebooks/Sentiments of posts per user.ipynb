{
 "cells": [
  {
   "cell_type": "markdown",
   "metadata": {},
   "source": [
    "In this code we are calculating the sentiments of posts and plotting them. After that we are checking the names and and posts of the local extremes."
   ]
  },
  {
   "cell_type": "code",
   "execution_count": 3,
   "metadata": {},
   "outputs": [],
   "source": [
    "import pandas as pd\n",
    "import plotly.graph_objs as go\n",
    "from plotly.subplots import make_subplots\n",
    "from pymongo import MongoClient\n",
    "from vaderSentiment.vaderSentiment import SentimentIntensityAnalyzer\n",
    "import plotly.io as pio"
   ]
  },
  {
   "cell_type": "markdown",
   "metadata": {},
   "source": [
    "Version of the code with sorted out posts:"
   ]
  },
  {
   "cell_type": "code",
   "execution_count": null,
   "metadata": {},
   "outputs": [],
   "source": [
    "# Set Plotly renderer\n",
    "pio.renderers.default = 'browser'\n",
    "\n",
    "# MongoDB connection\n",
    "client = MongoClient(myclient.os.getenv('db_url_for_creating'))\n",
    "db = client[myclient.os.getenv('db_name')]  # Replace with your database name\n",
    "\n",
    "# Load posts collection\n",
    "posts = pd.DataFrame(list(db.posts.find()))\n",
    "users = pd.DataFrame(list(db.users.find()))\n",
    "\n",
    "# Define function to filter out unwanted posts\n",
    "def clean_posts(post):\n",
    "    if len(post) < 15:  # Remove posts shorter than 15 characters\n",
    "        return None\n",
    "    cleaned_post = post.replace('-', '')  # Replace all '-' symbols with an empty string\n",
    "    if cleaned_post.strip() == '':  # Check if the post is empty after removing '-'\n",
    "        return None\n",
    "    return cleaned_post\n",
    "\n",
    "# Apply the filter function to remove unwanted posts\n",
    "posts['cleaned_desc'] = posts['desc'].apply(clean_posts)\n",
    "posts = posts.dropna(subset=['cleaned_desc'])  # Remove rows with None in 'cleaned_desc' column\n",
    "\n",
    "# Initialize SentimentIntensityAnalyzer\n",
    "analyzer = SentimentIntensityAnalyzer()\n",
    "\n",
    "# Function to analyze sentiment\n",
    "def analyze_sentiment(text):\n",
    "    score = analyzer.polarity_scores(text)\n",
    "    return score['compound']  # Return the compound score\n",
    "\n",
    "# Analyze sentiment for each cleaned post\n",
    "posts['sentiment'] = posts['cleaned_desc'].apply(analyze_sentiment)\n",
    "\n",
    "# Reset index to get a sequential label for filtered posts\n",
    "posts = posts.reset_index(drop=True)\n",
    "posts['post_label'] = 'post ' + (posts.index + 1).astype(str)\n",
    "\n",
    "# Convert ObjectId to string\n",
    "posts['userId'] = posts['userId'].astype(str)\n",
    "\n",
    "# Simplify user IDs for filtered posts\n",
    "user_mapping = {user_id: f'User {i + 1}' for i, user_id in enumerate(posts['userId'].unique())}\n",
    "posts['user_label'] = posts['userId'].map(user_mapping)\n",
    "\n",
    "# Save mapped posts and user labels if needed for future reference\n",
    "# Example of saving to a CSV or other file format if needed:\n",
    "posts[['post_label', 'cleaned_desc', 'sentiment', 'user_label']].to_csv('filtered_posts.csv', index=False)\n"
   ]
  },
  {
   "cell_type": "markdown",
   "metadata": {},
   "source": [
    "Plotting for users by user no.:"
   ]
  },
  {
   "cell_type": "code",
   "execution_count": 5,
   "metadata": {},
   "outputs": [],
   "source": [
    "# Create a figure\n",
    "fig = make_subplots()\n",
    "\n",
    "# Plot each user's posts\n",
    "for user_id, user_label in user_mapping.items():\n",
    "    user_posts = posts[posts['userId'] == user_id]\n",
    "    \n",
    "    # Plot only the user's posts as a line connecting their dots\n",
    "    fig.add_trace(go.Scatter(\n",
    "        x=user_posts.index + 1,    # Plot the post number (linear sequence)\n",
    "        y=user_posts['sentiment'],  # Plot the sentiment score\n",
    "        mode='lines+markers',          # Lines and markers\n",
    "        name=user_label,               # User label for legend\n",
    "        line=dict(width=1),            # Thin line\n",
    "        marker=dict(size=8)            # Adjust marker size\n",
    "    ))\n",
    "\n",
    "# Update layout for better readability\n",
    "fig.update_layout(\n",
    "    title='Sentiment of posts per User',\n",
    "    xaxis_title='posts (Sequential)',\n",
    "    yaxis_title='Sentiment Score',\n",
    "    xaxis=dict(\n",
    "        tickmode='linear',            # Keep linear tick mode\n",
    "        tickvals=list(range(1, len(posts) + 1)),  # Ticks for each post\n",
    "        ticktext=[str(i) for i in range(1, len(posts) + 1)],  # Custom tick text\n",
    "        range=[1, len(posts)],     # Set x-axis range to start at 1\n",
    "        showgrid=True,                # Optionally show grid lines for better readability\n",
    "        zeroline=True                 # Optionally show a line at y=0\n",
    "    ),\n",
    "    yaxis=dict(\n",
    "        autorange=True,               # Automatically adjust y-axis range\n",
    "    ),\n",
    "    legend_title=\"Users\",\n",
    "    hovermode=\"closest\",\n",
    "    width=1600,                    # Increase chart width for clarity\n",
    "    height=600,\n",
    "    margin=dict(l=40, r=40, t=50, b=40)  # Add margins to avoid clutter\n",
    ")\n",
    "\n",
    "# Show the plot\n",
    "fig.show()"
   ]
  },
  {
   "cell_type": "markdown",
   "metadata": {},
   "source": [
    "Finding specific user's unfo:"
   ]
  },
  {
   "cell_type": "markdown",
   "metadata": {},
   "source": [
    "Topic modelling:"
   ]
  },
  {
   "cell_type": "code",
   "execution_count": 7,
   "metadata": {},
   "outputs": [
    {
     "name": "stderr",
     "output_type": "stream",
     "text": [
      "[nltk_data] Downloading package stopwords to\n",
      "[nltk_data]     /home/matejas/nltk_data...\n",
      "[nltk_data]   Unzipping corpora/stopwords.zip.\n",
      "[nltk_data] Downloading package punkt to /home/matejas/nltk_data...\n",
      "[nltk_data]   Unzipping tokenizers/punkt.zip.\n"
     ]
    }
   ],
   "source": [
    "from nltk.corpus import stopwords\n",
    "from nltk.tokenize import word_tokenize\n",
    "from gensim import corpora\n",
    "from gensim.models import LdaModel\n",
    "import re\n",
    "import nltk\n",
    "nltk.data.path.append(r'Notebooks/nltk_data')\n",
    "\n",
    "# Download stopwords if not already downloaded\n",
    "nltk.download('stopwords')\n",
    "nltk.download('punkt')\n",
    "\n",
    "# Set up stop words\n",
    "stop_words = set(stopwords.words('english'))\n",
    "\n",
    "# Preprocess the post text for topic modeling\n",
    "def preprocess_text(text):\n",
    "    # Lowercase, remove special characters, and tokenize\n",
    "    text = text.lower()\n",
    "    text = re.sub(r'\\W+', ' ', text)  # Remove non-word characters\n",
    "    words = text.split()\n",
    "    \n",
    "    # Remove stopwords and short words\n",
    "    words = [word for word in words if word not in stop_words and len(word) > 2]\n",
    "    return words\n",
    "\n",
    "# Apply preprocessing to each post\n",
    "posts['processed_desc'] = posts['cleaned_desc'].apply(preprocess_text)\n",
    "\n",
    "# Create a dictionary and corpus for LDA\n",
    "dictionary = corpora.Dictionary(posts['processed_desc'])\n",
    "corpus = [dictionary.doc2bow(text) for text in posts['processed_desc']]\n",
    "\n",
    "# Train the LDA model\n",
    "num_topics = 5  # Define the number of topics\n",
    "lda_model = LdaModel(corpus, num_topics=num_topics, id2word=dictionary, passes=15, random_state=42)\n",
    "\n",
    "# Display the main topics\n",
    "#for idx, topic in lda_model.print_topics(-1):\n",
    "  #  print(f\"Topic {idx + 1}: {topic}\")\n"
   ]
  },
  {
   "cell_type": "code",
   "execution_count": 8,
   "metadata": {},
   "outputs": [
    {
     "data": {
      "text/html": [
       "\n",
       "<link rel=\"stylesheet\" type=\"text/css\" href=\"https://cdn.jsdelivr.net/gh/bmabey/pyLDAvis@3.4.0/pyLDAvis/js/ldavis.v1.0.0.css\">\n",
       "\n",
       "\n",
       "<div id=\"ldavis_el25239541397385954806249046161166\" style=\"background-color:white;\"></div>\n",
       "<script type=\"text/javascript\">\n",
       "\n",
       "var ldavis_el25239541397385954806249046161166_data = {\"mdsDat\": {\"x\": [0.10013618977456769, -0.27395509638893883, 0.24186362775840087, -0.033765602055014284, -0.03427911908901518], \"y\": [-0.2522868243143777, 0.09654265160071777, 0.20664350842095833, -0.025199256765081304, -0.02570007894221718], \"topics\": [1, 2, 3, 4, 5], \"cluster\": [1, 1, 1, 1, 1], \"Freq\": [48.001697131694904, 27.392322952010627, 21.099079108172877, 1.7534524467890822, 1.753448361332506]}, \"tinfo\": {\"Term\": [\"stay\", \"individual\", \"government\", \"liberties\", \"limited\", \"vote\", \"sustainability\", \"equality\", \"justice\", \"social\", \"human\", \"prioritize\", \"environmental\", \"elect\", \"rights\", \"progress\", \"leaders\", \"informed\", \"objective\", \"elections\", \"let\", \"2024\", \"reasoning\", \"navigate\", \"critical\", \"thinking\", \"evidencebased\", \"dialogue\", \"engage\", \"constructive\", \"progress\", \"leaders\", \"rights\", \"elect\", \"environmental\", \"social\", \"prioritize\", \"justice\", \"human\", \"equality\", \"sustainability\", \"let\", \"vote\", \"2024\", \"dialogue\", \"engage\", \"constructive\", \"navigate\", \"evidencebased\", \"reasoning\", \"critical\", \"thinking\", \"objective\", \"elections\", \"informed\", \"government\", \"limited\", \"liberties\", \"individual\", \"stay\", \"stay\", \"elections\", \"objective\", \"informed\", \"thinking\", \"evidencebased\", \"critical\", \"navigate\", \"reasoning\", \"constructive\", \"dialogue\", \"engage\", \"let\", \"2024\", \"sustainability\", \"justice\", \"prioritize\", \"human\", \"environmental\", \"social\", \"elect\", \"equality\", \"rights\", \"leaders\", \"progress\", \"individual\", \"government\", \"liberties\", \"limited\", \"vote\", \"limited\", \"liberties\", \"government\", \"individual\", \"vote\", \"2024\", \"constructive\", \"engage\", \"dialogue\", \"reasoning\", \"critical\", \"evidencebased\", \"navigate\", \"thinking\", \"informed\", \"objective\", \"elections\", \"progress\", \"leaders\", \"rights\", \"equality\", \"elect\", \"social\", \"environmental\", \"human\", \"prioritize\", \"justice\", \"sustainability\", \"stay\", \"let\", \"dialogue\", \"engage\", \"constructive\", \"critical\", \"reasoning\", \"navigate\", \"evidencebased\", \"thinking\", \"informed\", \"objective\", \"elections\", \"individual\", \"liberties\", \"government\", \"limited\", \"equality\", \"sustainability\", \"social\", \"rights\", \"justice\", \"human\", \"elect\", \"environmental\", \"prioritize\", \"leaders\", \"progress\", \"stay\", \"let\", \"vote\", \"2024\", \"engage\", \"dialogue\", \"constructive\", \"reasoning\", \"navigate\", \"thinking\", \"critical\", \"evidencebased\", \"informed\", \"objective\", \"elections\", \"government\", \"liberties\", \"limited\", \"individual\", \"sustainability\", \"equality\", \"environmental\", \"progress\", \"social\", \"prioritize\", \"elect\", \"human\", \"rights\", \"justice\", \"leaders\", \"stay\", \"let\", \"vote\", \"2024\"], \"Freq\": [21.0, 16.0, 16.0, 16.0, 16.0, 31.0, 16.0, 16.0, 16.0, 16.0, 16.0, 16.0, 16.0, 16.0, 16.0, 16.0, 16.0, 11.0, 11.0, 11.0, 26.0, 41.0, 8.0, 8.0, 8.0, 8.0, 8.0, 3.0, 3.0, 3.0, 15.283352091892324, 15.28334077614631, 15.283342392681455, 15.283339159611165, 15.283339159611165, 15.283339159611165, 15.28334077614631, 15.283342392681455, 15.283339159611165, 15.283324610794862, 15.283324610794862, 15.280634696313777, 15.27658042617041, 15.27383231642411, 0.18873491100752182, 0.1887337238645248, 0.1887334586517276, 0.18873868713258685, 0.18873799252764176, 0.18873726003515423, 0.1887369695639954, 0.18873563087082854, 0.1887402405218276, 0.18873995005066876, 0.1887388765702991, 0.18877509706088916, 0.18876051035704275, 0.18875941161831147, 0.18875183410981983, 0.18874599942828127, 20.81730178330081, 10.502397099058726, 10.50238879672988, 10.502384184324965, 7.691771893005487, 7.691769125562537, 7.691769125562537, 7.691767280600572, 7.691764513157623, 2.9980719580612276, 2.9980708049599993, 2.9980696518587706, 10.506903418660293, 10.50524110792907, 0.18962236575114455, 0.18959970731200157, 0.1895744976363902, 0.18956966902499522, 0.18948557911789585, 0.18942243241186188, 0.18938469717415427, 0.18938311165996488, 0.18920677365457347, 0.18918254411500646, 0.18910669888169196, 0.18764080453100435, 0.18763976673989857, 0.18763908929292672, 0.1876349669560343, 0.189537785776023, 15.177243459990963, 15.177082876646693, 15.177057296998932, 15.176987663513364, 15.18489177467119, 15.189912491089853, 0.1797791490616325, 0.17977870497052556, 0.17977634018538108, 0.1765031111702645, 0.17650207865844086, 0.17650156795366786, 0.17650107945345023, 0.17650028008945773, 0.17977760584503588, 0.1797767065605443, 0.17977198809253303, 0.17837383385598699, 0.17831593547791919, 0.17828824639740126, 0.17812995012233118, 0.17812399930149814, 0.17808733958061995, 0.17802730956523882, 0.1779497157465781, 0.17794251036836795, 0.1779183629144279, 0.1779059949770995, 0.18305699662426128, 0.1813673964965058, 0.26383568067321833, 0.26383438156529426, 0.2638341748890336, 0.26381985517668877, 0.26381985517668877, 0.2638185265435846, 0.2638176407881818, 0.2638174045867411, 0.2638321967019674, 0.26382649834220956, 0.2638239296515415, 0.26564392080280164, 0.2654950843699555, 0.26548891360731613, 0.2652591191306565, 0.2638640248461071, 0.2638616923568798, 0.2638606885007566, 0.26385865126333025, 0.26385871031369046, 0.26385856268778995, 0.26385720452950573, 0.26385682070216454, 0.26385634829928306, 0.2638551377668993, 0.26385218524889, 0.26383712740704285, 0.2639432409042952, 0.2656667437670131, 0.2657512448324377, 0.26415541340687493, 0.2641548524297602, 0.2641526970966353, 0.26413870219387897, 0.26413825931720947, 0.26413704878764616, 0.26413530680607944, 0.26413512965541164, 0.26414640824792834, 0.2641441052892469, 0.2641427176090158, 0.26423011193846463, 0.26421145206812285, 0.2642066099498696, 0.2642067280503148, 0.2641842889657266, 0.2641832555868311, 0.26417800011701964, 0.26417720293901453, 0.26417755724035014, 0.26417749819012754, 0.26417681911256763, 0.2641763171856755, 0.2641757562085608, 0.2641758447838947, 0.2641722427203161, 0.26415954692245697, 0.26426539444646846, 0.26435804424572873, 0.26441334477919415], \"Total\": [21.0, 16.0, 16.0, 16.0, 16.0, 31.0, 16.0, 16.0, 16.0, 16.0, 16.0, 16.0, 16.0, 16.0, 16.0, 16.0, 16.0, 11.0, 11.0, 11.0, 26.0, 41.0, 8.0, 8.0, 8.0, 8.0, 8.0, 3.0, 3.0, 3.0, 16.17886201281791, 16.178866636226452, 16.17887182020532, 16.17888187972889, 16.178886869113484, 16.178887177344752, 16.17889163064048, 16.17889501800547, 16.178893424256206, 16.178884953010098, 16.178898952845714, 26.49711414682134, 31.181034774630366, 41.49915050505466, 3.894572589255881, 3.8945718756659904, 3.8945714377602565, 8.584963833047404, 8.58496145648744, 8.58496344173361, 8.58496333576774, 8.584962257340159, 11.398876347443709, 11.398875684462485, 11.398879271690197, 16.0831911863455, 16.083104666384564, 16.08318791399601, 16.083230951007305, 21.717101453682854, 21.717101453682854, 11.398875684462485, 11.398876347443709, 11.398879271690197, 8.584962257340159, 8.58496145648744, 8.58496333576774, 8.584963833047404, 8.58496344173361, 3.8945714377602565, 3.894572589255881, 3.8945718756659904, 26.49711414682134, 41.49915050505466, 16.178898952845714, 16.17889501800547, 16.17889163064048, 16.178893424256206, 16.178886869113484, 16.178887177344752, 16.17888187972889, 16.178884953010098, 16.17887182020532, 16.178866636226452, 16.17886201281791, 16.083230951007305, 16.0831911863455, 16.08318791399601, 16.083104666384564, 31.181034774630366, 16.083104666384564, 16.08318791399601, 16.0831911863455, 16.083230951007305, 31.181034774630366, 41.49915050505466, 3.8945714377602565, 3.8945718756659904, 3.894572589255881, 8.58496344173361, 8.58496333576774, 8.58496145648744, 8.584963833047404, 8.584962257340159, 11.398879271690197, 11.398876347443709, 11.398875684462485, 16.17886201281791, 16.178866636226452, 16.17887182020532, 16.178884953010098, 16.17888187972889, 16.178887177344752, 16.178886869113484, 16.178893424256206, 16.17889163064048, 16.17889501800547, 16.178898952845714, 21.717101453682854, 26.49711414682134, 3.894572589255881, 3.8945718756659904, 3.8945714377602565, 8.58496333576774, 8.58496344173361, 8.584963833047404, 8.58496145648744, 8.584962257340159, 11.398879271690197, 11.398876347443709, 11.398875684462485, 16.083230951007305, 16.08318791399601, 16.0831911863455, 16.083104666384564, 16.178884953010098, 16.178898952845714, 16.178887177344752, 16.17887182020532, 16.17889501800547, 16.178893424256206, 16.17888187972889, 16.178886869113484, 16.17889163064048, 16.178866636226452, 16.17886201281791, 21.717101453682854, 26.49711414682134, 31.181034774630366, 41.49915050505466, 3.8945718756659904, 3.894572589255881, 3.8945714377602565, 8.58496344173361, 8.584963833047404, 8.584962257340159, 8.58496333576774, 8.58496145648744, 11.398879271690197, 11.398876347443709, 11.398875684462485, 16.0831911863455, 16.08318791399601, 16.083104666384564, 16.083230951007305, 16.178898952845714, 16.178884953010098, 16.178886869113484, 16.17886201281791, 16.178887177344752, 16.17889163064048, 16.17888187972889, 16.178893424256206, 16.17887182020532, 16.17889501800547, 16.178866636226452, 21.717101453682854, 26.49711414682134, 31.181034774630366, 41.49915050505466], \"Category\": [\"Default\", \"Default\", \"Default\", \"Default\", \"Default\", \"Default\", \"Default\", \"Default\", \"Default\", \"Default\", \"Default\", \"Default\", \"Default\", \"Default\", \"Default\", \"Default\", \"Default\", \"Default\", \"Default\", \"Default\", \"Default\", \"Default\", \"Default\", \"Default\", \"Default\", \"Default\", \"Default\", \"Default\", \"Default\", \"Default\", \"Topic1\", \"Topic1\", \"Topic1\", \"Topic1\", \"Topic1\", \"Topic1\", \"Topic1\", \"Topic1\", \"Topic1\", \"Topic1\", \"Topic1\", \"Topic1\", \"Topic1\", \"Topic1\", \"Topic1\", \"Topic1\", \"Topic1\", \"Topic1\", \"Topic1\", \"Topic1\", \"Topic1\", \"Topic1\", \"Topic1\", \"Topic1\", \"Topic1\", \"Topic1\", \"Topic1\", \"Topic1\", \"Topic1\", \"Topic1\", \"Topic2\", \"Topic2\", \"Topic2\", \"Topic2\", \"Topic2\", \"Topic2\", \"Topic2\", \"Topic2\", \"Topic2\", \"Topic2\", \"Topic2\", \"Topic2\", \"Topic2\", \"Topic2\", \"Topic2\", \"Topic2\", \"Topic2\", \"Topic2\", \"Topic2\", \"Topic2\", \"Topic2\", \"Topic2\", \"Topic2\", \"Topic2\", \"Topic2\", \"Topic2\", \"Topic2\", \"Topic2\", \"Topic2\", \"Topic2\", \"Topic3\", \"Topic3\", \"Topic3\", \"Topic3\", \"Topic3\", \"Topic3\", \"Topic3\", \"Topic3\", \"Topic3\", \"Topic3\", \"Topic3\", \"Topic3\", \"Topic3\", \"Topic3\", \"Topic3\", \"Topic3\", \"Topic3\", \"Topic3\", \"Topic3\", \"Topic3\", \"Topic3\", \"Topic3\", \"Topic3\", \"Topic3\", \"Topic3\", \"Topic3\", \"Topic3\", \"Topic3\", \"Topic3\", \"Topic3\", \"Topic4\", \"Topic4\", \"Topic4\", \"Topic4\", \"Topic4\", \"Topic4\", \"Topic4\", \"Topic4\", \"Topic4\", \"Topic4\", \"Topic4\", \"Topic4\", \"Topic4\", \"Topic4\", \"Topic4\", \"Topic4\", \"Topic4\", \"Topic4\", \"Topic4\", \"Topic4\", \"Topic4\", \"Topic4\", \"Topic4\", \"Topic4\", \"Topic4\", \"Topic4\", \"Topic4\", \"Topic4\", \"Topic4\", \"Topic4\", \"Topic5\", \"Topic5\", \"Topic5\", \"Topic5\", \"Topic5\", \"Topic5\", \"Topic5\", \"Topic5\", \"Topic5\", \"Topic5\", \"Topic5\", \"Topic5\", \"Topic5\", \"Topic5\", \"Topic5\", \"Topic5\", \"Topic5\", \"Topic5\", \"Topic5\", \"Topic5\", \"Topic5\", \"Topic5\", \"Topic5\", \"Topic5\", \"Topic5\", \"Topic5\", \"Topic5\", \"Topic5\", \"Topic5\", \"Topic5\"], \"logprob\": [30.0, 29.0, 28.0, 27.0, 26.0, 25.0, 24.0, 23.0, 22.0, 21.0, 20.0, 19.0, 18.0, 17.0, 16.0, 15.0, 14.0, 13.0, 12.0, 11.0, 10.0, 9.0, 8.0, 7.0, 6.0, 5.0, 4.0, 3.0, 2.0, 1.0, -2.653, -2.653, -2.653, -2.653, -2.653, -2.653, -2.653, -2.653, -2.653, -2.653, -2.653, -2.6532, -2.6534, -2.6536, -7.0472, -7.0472, -7.0472, -7.0471, -7.0471, -7.0471, -7.0471, -7.0472, -7.0471, -7.0471, -7.0471, -7.0469, -7.047, -7.047, -7.0471, -7.0471, -1.783, -2.4672, -2.4672, -2.4672, -2.7786, -2.7786, -2.7786, -2.7786, -2.7786, -3.7208, -3.7208, -3.7208, -2.4667, -2.4669, -6.4815, -6.4816, -6.4817, -6.4818, -6.4822, -6.4826, -6.4827, -6.4828, -6.4837, -6.4838, -6.4842, -6.492, -6.492, -6.492, -6.492, -6.4819, -1.8379, -1.838, -1.838, -1.838, -1.8374, -1.8371, -6.2738, -6.2738, -6.2738, -6.2922, -6.2922, -6.2922, -6.2922, -6.2922, -6.2738, -6.2738, -6.2738, -6.2816, -6.2819, -6.2821, -6.283, -6.283, -6.2832, -6.2836, -6.284, -6.284, -6.2842, -6.2842, -6.2557, -6.265, -3.4025, -3.4025, -3.4025, -3.4026, -3.4026, -3.4026, -3.4026, -3.4026, -3.4025, -3.4026, -3.4026, -3.3957, -3.3963, -3.3963, -3.3971, -3.4024, -3.4024, -3.4024, -3.4024, -3.4024, -3.4024, -3.4024, -3.4024, -3.4024, -3.4025, -3.4025, -3.4025, -3.4021, -3.3956, -3.3953, -3.4013, -3.4013, -3.4013, -3.4014, -3.4014, -3.4014, -3.4014, -3.4014, -3.4013, -3.4014, -3.4014, -3.401, -3.4011, -3.4011, -3.4011, -3.4012, -3.4012, -3.4012, -3.4012, -3.4012, -3.4012, -3.4012, -3.4012, -3.4012, -3.4012, -3.4013, -3.4013, -3.4009, -3.4005, -3.4003], \"loglift\": [30.0, 29.0, 28.0, 27.0, 26.0, 25.0, 24.0, 23.0, 22.0, 21.0, 20.0, 19.0, 18.0, 17.0, 16.0, 15.0, 14.0, 13.0, 12.0, 11.0, 10.0, 9.0, 8.0, 7.0, 6.0, 5.0, 4.0, 3.0, 2.0, 1.0, 0.677, 0.677, 0.677, 0.677, 0.677, 0.677, 0.677, 0.677, 0.677, 0.677, 0.677, 0.1835, 0.0204, -0.2656, -2.2931, -2.2931, -2.2931, -3.0835, -3.0835, -3.0835, -3.0835, -3.0835, -3.367, -3.367, -3.367, -3.711, -3.7111, -3.7111, -3.7112, -4.0115, 1.2526, 1.213, 1.213, 1.213, 1.185, 1.185, 1.185, 1.185, 1.185, 1.0333, 1.0333, 1.0333, 0.3699, -0.0789, -3.1515, -3.1516, -3.1518, -3.1518, -3.1522, -3.1526, -3.1528, -3.1528, -3.1537, -3.1538, -3.1542, -3.1561, -3.1561, -3.1561, -3.1561, -3.8081, 1.498, 1.498, 1.498, 1.4979, 0.8364, 0.5509, -1.5197, -1.5197, -1.5197, -2.3285, -2.3285, -2.3285, -2.3285, -2.3285, -2.5936, -2.5936, -2.5936, -2.9516, -2.952, -2.9521, -2.953, -2.953, -2.9532, -2.9536, -2.954, -2.9541, -2.9542, -2.9543, -3.2201, -3.4283, 1.3516, 1.3516, 1.3516, 0.5611, 0.5611, 0.5611, 0.5611, 0.5611, 0.2776, 0.2776, 0.2776, -0.0598, -0.0603, -0.0604, -0.0612, -0.0724, -0.0725, -0.0725, -0.0725, -0.0725, -0.0725, -0.0725, -0.0725, -0.0725, -0.0725, -0.0725, -0.3669, -0.5655, -0.7217, -1.0073, 1.3528, 1.3528, 1.3528, 0.5623, 0.5623, 0.5623, 0.5623, 0.5623, 0.2788, 0.2788, 0.2788, -0.0651, -0.0652, -0.0652, -0.0652, -0.0712, -0.0712, -0.0713, -0.0713, -0.0713, -0.0713, -0.0713, -0.0713, -0.0713, -0.0713, -0.0713, -0.3657, -0.5643, -0.7267, -1.0123]}, \"token.table\": {\"Topic\": [1, 2, 3, 2, 2, 2, 1, 2, 2, 1, 1, 2, 3, 1, 3, 2, 1, 1, 1, 2, 3, 3, 2, 2, 1, 1, 2, 1, 1, 2, 1, 2, 1, 3], \"Freq\": [0.36145318199159227, 0.26506566679383436, 0.36145318199159227, 0.7703029840236494, 0.9318618714036211, 0.7703027562706687, 0.927134527064818, 0.9650074537608843, 0.7703028974107675, 0.9271342411470809, 0.9271343509497689, 0.931862075391684, 0.9326507299580497, 0.9271338655035115, 0.9326484240444572, 0.9650071500730043, 0.9271337741734847, 0.9271354005980353, 0.5660993841398928, 0.4151395483692547, 0.9326509197188829, 0.9326557472048062, 0.9318618174259962, 0.9650073976341396, 0.9271339682869357, 0.9271356655440944, 0.9318618599014692, 0.9271351035284758, 0.9271342234838287, 0.9669798727416615, 0.9271335486869855, 0.9318619884624402, 0.4810616488008396, 0.4810616488008396], \"Term\": [\"2024\", \"2024\", \"2024\", \"constructive\", \"critical\", \"dialogue\", \"elect\", \"elections\", \"engage\", \"environmental\", \"equality\", \"evidencebased\", \"government\", \"human\", \"individual\", \"informed\", \"justice\", \"leaders\", \"let\", \"let\", \"liberties\", \"limited\", \"navigate\", \"objective\", \"prioritize\", \"progress\", \"reasoning\", \"rights\", \"social\", \"stay\", \"sustainability\", \"thinking\", \"vote\", \"vote\"]}, \"R\": 30, \"lambda.step\": 0.01, \"plot.opts\": {\"xlab\": \"PC1\", \"ylab\": \"PC2\"}, \"topic.order\": [5, 1, 4, 2, 3]};\n",
       "\n",
       "function LDAvis_load_lib(url, callback){\n",
       "  var s = document.createElement('script');\n",
       "  s.src = url;\n",
       "  s.async = true;\n",
       "  s.onreadystatechange = s.onload = callback;\n",
       "  s.onerror = function(){console.warn(\"failed to load library \" + url);};\n",
       "  document.getElementsByTagName(\"head\")[0].appendChild(s);\n",
       "}\n",
       "\n",
       "if(typeof(LDAvis) !== \"undefined\"){\n",
       "   // already loaded: just create the visualization\n",
       "   !function(LDAvis){\n",
       "       new LDAvis(\"#\" + \"ldavis_el25239541397385954806249046161166\", ldavis_el25239541397385954806249046161166_data);\n",
       "   }(LDAvis);\n",
       "}else if(typeof define === \"function\" && define.amd){\n",
       "   // require.js is available: use it to load d3/LDAvis\n",
       "   require.config({paths: {d3: \"https://d3js.org/d3.v5\"}});\n",
       "   require([\"d3\"], function(d3){\n",
       "      window.d3 = d3;\n",
       "      LDAvis_load_lib(\"https://cdn.jsdelivr.net/gh/bmabey/pyLDAvis@3.4.0/pyLDAvis/js/ldavis.v3.0.0.js\", function(){\n",
       "        new LDAvis(\"#\" + \"ldavis_el25239541397385954806249046161166\", ldavis_el25239541397385954806249046161166_data);\n",
       "      });\n",
       "    });\n",
       "}else{\n",
       "    // require.js not available: dynamically load d3 & LDAvis\n",
       "    LDAvis_load_lib(\"https://d3js.org/d3.v5.js\", function(){\n",
       "         LDAvis_load_lib(\"https://cdn.jsdelivr.net/gh/bmabey/pyLDAvis@3.4.0/pyLDAvis/js/ldavis.v3.0.0.js\", function(){\n",
       "                 new LDAvis(\"#\" + \"ldavis_el25239541397385954806249046161166\", ldavis_el25239541397385954806249046161166_data);\n",
       "            })\n",
       "         });\n",
       "}\n",
       "</script>"
      ],
      "text/plain": [
       "<IPython.core.display.HTML object>"
      ]
     },
     "execution_count": 8,
     "metadata": {},
     "output_type": "execute_result"
    }
   ],
   "source": [
    "import pyLDAvis.gensim_models as gensimvis\n",
    "import pyLDAvis\n",
    "\n",
    "# Visualize the topics\n",
    "lda_vis = gensimvis.prepare(lda_model, corpus, dictionary)\n",
    "pyLDAvis.display(lda_vis)\n"
   ]
  },
  {
   "cell_type": "markdown",
   "metadata": {},
   "source": [
    "Plotting the sentiments per post for users with their names attached:"
   ]
  },
  {
   "cell_type": "code",
   "execution_count": 9,
   "metadata": {},
   "outputs": [
    {
     "name": "stdout",
     "output_type": "stream",
     "text": [
      "Unique userIds in posts: ['672bbff99683d3a47ac64266' '672bbffa9683d3a47ac6426b'\n",
      " '672bbff99683d3a47ac64267' '672bbffa9683d3a47ac64270'\n",
      " '672bbff99683d3a47ac64268' '672bbffa9683d3a47ac6426f'\n",
      " '672bbff99683d3a47ac64269' '672bbff99683d3a47ac64265'\n",
      " '672bbff99683d3a47ac6426a' '672bbff99683d3a47ac64264'\n",
      " '672bbffa9683d3a47ac6426e' '672bbffa9683d3a47ac6426c'\n",
      " '672bbffa9683d3a47ac64271']\n",
      "Unique _id in users: ['672bbff99683d3a47ac64264' '672bbff99683d3a47ac64265'\n",
      " '672bbff99683d3a47ac64266' '672bbff99683d3a47ac64267'\n",
      " '672bbff99683d3a47ac64268' '672bbff99683d3a47ac64269'\n",
      " '672bbff99683d3a47ac6426a' '672bbffa9683d3a47ac6426b'\n",
      " '672bbffa9683d3a47ac6426c' '672bbffa9683d3a47ac6426d'\n",
      " '672bbffa9683d3a47ac6426e' '672bbffa9683d3a47ac6426f'\n",
      " '672bbffa9683d3a47ac64270' '672bbffa9683d3a47ac64271'\n",
      " '672bbffa9683d3a47ac64272']\n",
      "Number of NaN usernames after merge: 0\n"
     ]
    }
   ],
   "source": [
    "from plotly.subplots import make_subplots\n",
    "import plotly.graph_objects as go\n",
    "\n",
    "# Ensure the columns are of the same type and strip whitespace\n",
    "posts['userId'] = posts['userId'].astype(str).str.strip()\n",
    "users['_id'] = users['_id'].astype(str).str.strip()\n",
    "\n",
    "# Print unique values to check for mismatches\n",
    "print(\"Unique userIds in posts:\", posts['userId'].unique())\n",
    "print(\"Unique _id in users:\", users['_id'].unique())\n",
    "\n",
    "# Merge posts with users to get usernames using the correct column name\n",
    "merged_data = posts.merge(users[['_id', 'username']], left_on='userId', right_on='_id', how='left')\n",
    "\n",
    "# Check for NaN values in merged usernames\n",
    "print(\"Number of NaN usernames after merge:\", merged_data['username'].isna().sum())\n",
    "\n",
    "# Create a figure\n",
    "fig = make_subplots()\n",
    "\n",
    "# Plot each user's posts using actual usernames from the merged DataFrame\n",
    "for user_id in merged_data['userId'].unique():\n",
    "    username = merged_data.loc[merged_data['userId'] == user_id, 'username'].iloc[0]\n",
    "    user_posts = merged_data[merged_data['userId'] == user_id]\n",
    "    \n",
    "    fig.add_trace(go.Scatter(\n",
    "        x=user_posts.index + 1,\n",
    "        y=user_posts['sentiment'],\n",
    "        mode='lines+markers',\n",
    "        name=username,\n",
    "        line=dict(width=1),\n",
    "        marker=dict(size=8)\n",
    "    ))\n",
    "\n",
    "# Update layout for better readability\n",
    "fig.update_layout(\n",
    "    title='Sentiment of Posts per User',\n",
    "    xaxis_title='Posts (Sequential)',\n",
    "    yaxis_title='Sentiment Score',\n",
    "    xaxis=dict(\n",
    "        tickmode='linear',\n",
    "        tickvals=list(range(1, len(merged_data) + 1)),\n",
    "        ticktext=[str(i) for i in range(1, len(merged_data) + 1)],\n",
    "        range=[1, len(merged_data)],\n",
    "        showgrid=True,\n",
    "        zeroline=True\n",
    "    ),\n",
    "    yaxis=dict(\n",
    "        autorange=True,\n",
    "    ),\n",
    "    legend_title=\"Users\",\n",
    "    hovermode=\"closest\",\n",
    "    width=1600,\n",
    "    height=600,\n",
    "    margin=dict(l=40, r=40, t=50, b=40)\n",
    ")\n",
    "\n",
    "# Show the plot\n",
    "fig.show()\n"
   ]
  },
  {
   "cell_type": "code",
   "execution_count": 23,
   "metadata": {},
   "outputs": [
    {
     "name": "stdout",
     "output_type": "stream",
     "text": [
      "post Number 20 :\n",
      "Stay informed, stay objective. Let's navigate the US elections 2024 with critical thinking and evidence-based reasoning.\n"
     ]
    }
   ],
   "source": [
    "# Find specific post details\n",
    "# post (xy) by User (vw)\n",
    "specific_post = posts[(posts['post_label'] == 'post 20') & (posts['user_label'] == 'User 6')]\n",
    "\n",
    "if not specific_post.empty:\n",
    "    post_text = specific_post['desc'].values[0]\n",
    "    print(f\"post Number 20 :\\n{post_text}\")\n",
    "else:\n",
    "    print(\"post not found.\")\n"
   ]
  },
  {
   "cell_type": "markdown",
   "metadata": {},
   "source": [
    "Connecting the names to roles and than graphing by the roles:"
   ]
  },
  {
   "cell_type": "code",
   "execution_count": 23,
   "metadata": {},
   "outputs": [
    {
     "name": "stdout",
     "output_type": "stream",
     "text": [
      "['academic communications', 'academic researcher', 'academic researcher', 'academic researcher', 'academic researcher', 'academic science', 'academic science', 'academic science', 'academic writer', 'biologist', 'biology', 'biotechnology researcher', 'climate science', 'editor', 'editor', 'editor', 'educator', 'entry-level biology', 'environmental science', 'environmental', 'environmental', 'general-interest science', 'journalist', 'journalist', 'medical', 'microbiologist', 'microbiologist', 'molecular biologist', 'news aggregator', 'research coordinator', 'science communications', 'science communicator,', 'science communicator', 'science communicator', 'science communicator', 'science communicator', 'science editor', 'science editor', 'science editor', 'science editor', 'science enthusiast', 'science journalist', 'science journalist', 'science journalist', 'science journalist', 'science journalist', 'science journalist', 'science journalist', 'science journalist', 'science journalist', 'science journalist', 'science journalist', 'science journalist', 'science journalist', 'science journalist', 'science journalist', 'science journalist', 'science journalist', 'science journalist', 'science journalist', 'science journalist', 'science journalist', 'science journalist', 'science journalist', 'science journalist', 'science journalist', 'science journalist', 'science journalist', 'science journalist', 'science journalist', 'science journalist', 'science journalist', 'science journalist', 'science journalist', 'science journalist', 'science journalist', 'science journalist', 'science journalist', 'science journalist', 'science journalist', 'science journalist', 'science journalist', 'science journalist', 'science journalist', 'science journalist', 'science journalist', 'science journalist', 'science journalist', 'science journalist', 'science journalist', 'science journalist', 'science journalist', 'science journalist', 'science journalist', 'science journalist', 'science journalist', 'science journalist', 'science journalist', 'science journalist', 'science journalist', 'science journalist', 'science journalist', 'science journalist', 'science journalist', 'science journalist', 'science journalist', 'science journalist', 'science journalist', 'science journalist', 'science journalist', 'science journalist', 'science journalist', 'science journalist', 'science journalist', 'science journalist', 'science journalist', 'science journalist', 'science journalist', 'science journalist', 'science journalist', 'science journalist', 'science journalist', 'science journalist', 'science journalist', 'science journalist', 'science journalist', 'science journalist', 'science journalist', 'science journalist', 'science journalist', 'science journalist', 'science journalist', 'science journalist', 'science journalist', 'science journalist', 'science journalist', 'science journalist', 'science journalist', 'science journalist', 'science journalist', 'science journalist', 'science journalist', 'science journalist', 'science journalist', 'science journalist', 'science journalist', 'science journalist', 'science journalist', 'science journalist', 'science journalist', 'science journalist', 'science journalist', 'science journalist', 'science journalist', 'science journalist', 'science journalist', 'science news', 'science news', 'science news', 'science news', 'science news', 'science news', 'science news', 'science news', 'science news', 'science news', 'science news', 'science news', 'science reporter', 'science researcher', 'science researcher', 'science writer', 'science writer', 'science writer', 'science writer', 'science writer', 'science writer', 'science writer', 'science writer', 'science writer', 'science writer', 'science writer', 'science writer', 'science writer', 'science writer', 'science writer', 'science writer', 'science writer', 'science writer', 'science writer', 'science writer', 'science writer', 'science writer', 'science writer', 'science writer', 'science writer', 'science writer', 'science writer', 'science writer', 'science writer', 'science writer', 'science writer', 'science writer', 'science writer', 'science writer', 'science writer', 'science writer', 'science writer', 'science writer', 'science writer', 'science writer', 'science writer', 'science writer', 'science writer', 'science writer', 'science writer', 'science writer', 'science writer', 'science writer', 'science writer', 'science writer', 'science writer', 'science writer', 'science writer', 'science writer', 'science writer', 'science writer', 'science writer', 'science writer', 'science writer', 'science writer', 'science writer', 'science writer', 'science writer', 'science writer', 'science writer', 'science writer', 'science writer', 'science writer', 'science writer', 'science writer', 'science writer', 'science technology', 'science', 'science', 'science', 'science', 'science', 'science', 'science', 'science', 'science', 'science', 'scientific editor', 'scientific journalist', 'scientific journalist', 'scientific research', 'scientific researcher', 'scientist']\n"
     ]
    }
   ],
   "source": [
    "import re\n",
    "import json\n",
    "\n",
    "# Function to extract roles from the text file\n",
    "def extract_roles_from_file(file_path):\n",
    "    roles = []\n",
    "    \n",
    "    # Read the content of the file\n",
    "    with open(file_path, 'r') as file:\n",
    "        lines = file.readlines()\n",
    "        \n",
    "        for line in lines:\n",
    "            # Use regex to find the persona value\n",
    "            match = re.search(r\"persona:\\s*'([^']+)'\", line)\n",
    "            if match:\n",
    "                roles.append(match.group(1))  # Append the extracted persona to the list\n",
    "\n",
    "    return roles\n",
    "\n",
    "# Specify the path to your text file\n",
    "file_path = 'roles_with_agents.txt'\n",
    "\n",
    "# Get the roles\n",
    "roles_array = extract_roles_from_file(file_path)\n",
    "\n",
    "# Print the roles array\n",
    "print(roles_array)"
   ]
  },
  {
   "cell_type": "code",
   "execution_count": 24,
   "metadata": {},
   "outputs": [
    {
     "name": "stdout",
     "output_type": "stream",
     "text": [
      "['Dunkelschieferblaue Biene', 'Sienna-Kuh', 'Darkslategray-Wissenschaftler', 'Dunkelschiefergraue Katze', 'Silberner BÃ¤r', 'SeegrÃ¼ner Papagei', 'Kadettenblaues Siegel', 'Dunkelschieferblaue Giraffe', 'Hellschiefergrauer LÃ¶we', 'Dunkelkhakifarbenes Rentier', 'Siena Biene', 'Peru-BÃ¼ffel', 'Peruanisches ErdmÃ¤nnchen', 'DÃ¼sterer Professor', 'Rosabraunes Zebra', 'Dunkelschiefergraue Kuh', 'Grauer Koala', 'Dunkelgrauer Orca', 'Darkslategray-Wissenschaftler', 'Silberner BlauhÃ¤her', 'Graues Huhn', 'Dunkelschiefergrauer Frosch', 'Silberner WaschbÃ¤r', 'Rosabraunes Lamm', 'BlaugrÃ¼ne Blume', 'Schwarzer Biker', 'Dunkelschiefergrauer Fuchs', 'Dunkelgrauer Igel', 'Schiefergraue Eule', 'Dunkelschiefergrauer Hund', 'Rosabrauner Fuchs', 'Himmelblauer Delphin', 'Dunkellachs-Warzenschwein', 'Rosabrauner Vogel', 'Dunkelschiefergraues Schwein', 'Schwarzer Tiger', 'Indigo-Truthahn', 'Schwarzer Astronaut', 'Nachtblauer Cowboy', 'Hellstahlblaue Krabbe', 'Dunkelschiefergraues Siegel', 'Dunkelschiefergrauer Wolf', 'Indianerhund', 'Schwarzer AuÃŸerirdischer', 'Schwarzer LÃ¶we', 'Dunkelkhakifarbenes ErdmÃ¤nnchen', 'Silberner Adler', 'Dunkelschieferblauer Papagei', 'MitteltÃ¼rkisfarbener Wal', 'DunkelseegrÃ¼ner Biber', 'Peru Cowboy', 'Siena Gans', 'Schwarzes Krokodil', 'Dunkelschieferblauer Pinguin', 'Dunkelgrauer Esel', 'Dunkelschiefergrauer Alien', 'Dunkelschiefergrauer Igel', 'Peruanisches Frettchen', 'Dunkelschiefergraues Kaninchen', 'Dunkelgraues EichhÃ¶rnchen', 'Dunkelschieferblaue Gans', 'Dunkelschiefergrauer Wolf', 'Stahlblaue Giraffe', 'Sienna-Hai', 'Graue Biene', 'Hellgrauer Professor', 'Darkslategray-Wissenschaftler', 'Rosabraunes Walross', 'Stahlblauer Bison', 'Kadettenblauer Wolf', 'Dunkelgraue Kuh', 'Dunkelschiefergraues Kaninchen', 'Dunkelgrauer Koala', 'Dunkelgrauer Papagei', 'MittelgroÃŸer Aquamarin-Truthahn', 'Gainsboro-Faultier', 'Stahlblaues Nilpferd', 'Burlywood-Leopard', 'Graue Eule', 'Hellstahlblaue MÃ¶we', 'Blassviolettes Warzenschwein', 'Kadettenblaues Huhn', 'Dunkelschiefergrauer Frosch', 'Stahlblaufuchs', 'Hellstahlblaues EichhÃ¶rnchen', 'Dunkelschiefergraues Faultier', 'Dunkelschieferblauer Otter', 'Dunkelschiefergrauer Igel', 'Dunkelgraue Kuh', 'Weizenvogel', 'Rosigbraunes Rotkehlchen', 'Dunkelschieferblaue Blume', 'Silberner Hund', 'Dunkelgraues Zebra', 'DunkelseegrÃ¼nes Zebra', 'Kadettenblauer Oktopus', 'Burlywood-Adler', 'Dunkelgraue Seekuh', 'Grauer Panda', 'Dunkelschieferblaue Krabbe', 'Schwarzer Frosch', 'Peruanisches ErdmÃ¤nnchen', 'Kadettenblauer Adler', 'Dunkelgrauer WaschbÃ¤r', 'MitteltÃ¼rkiser Hai', 'Schokoladen-EichhÃ¶rnchen', 'Dunkelgraues Frettchen', 'Dunkelgrauer Pinguin', 'Dunkelgrauer Cowboy', 'Silberner Cowboy', 'Dunkelschiefergrauer Hund', 'Silberne Feuerwehrfrau', 'Dunkelschiefergrauer Astronaut', 'Dunkelgrauer Biker', 'BlaugrÃ¼ner BÃ¤r', 'Schwarze Ziege', 'Weizenflusspferd', 'Kadettenblaue Katze', 'Rosabraunes Huhn', 'Dunkelschiefergraues Krokodil', 'Kadettenblaues Schwein', 'Dunkelschiefergrauer Hirsch', 'Dunkelschiefergrauer Elefant', 'Dunkelgraues Pferd', 'Dunkelschiefergrauer Tiger', 'Feuerwehrmann Aus Schokolade', 'Indianred-Katze', 'Stahlblaue Giraffe', 'Blaue Giraffe', 'Dunkelschiefergraue Seekuh', 'Dunkelschiefergrauer LÃ¶we', 'Burlywood-Samurai', 'Blauer Wissenschaftler', 'Blaue Seekuh', 'Dunkelschiefergrauer Otter', 'Dunkelgrauer Pinguin', 'Dunkelschiefergrauer Biker', 'Black Samurai', 'Schieferblaue Blume', 'Blaue Kuh', 'Blauer Wal', 'Dunkelgrauer Feuerwehrmann', 'Blauer Esel', 'Blauer Koch', 'Blauer Ritter', 'Blauer Adler', 'Blauer AuÃŸerirdischer', 'Blauer Astronaut', 'Blauer WaschbÃ¤r', 'Schwarze Ziege', 'Indisches Walross', 'Dunkelschieferblauer Hai', 'Rosabraunes Nashorn', 'Blaue Eule', 'Rosabraunes ErdmÃ¤nnchen', 'Schwarzer Tiger', 'Dunkelschiefergrauer Astronaut', 'Anthrazitgraue Ziege', 'Blauer Pinguin', 'Blauer Tiger', 'Blaue Krabbe', 'Blauer Hai', 'Blauer Otter', 'Blauer Schwan', 'Dunkelschiefergrauer Astronaut', 'Blauer Bison', 'Blauer Cowboy', 'Blauer Frosch', 'Blauer Oktopus', 'Dunkelschieferblaue MÃ¶we', 'Dunkelkhakifarbener Truthahn', 'Schiefergraues Schaf', 'Biskuit-Samurai', 'Blaue Blume', 'Blauer Delphin', 'Dunkelschiefergraues Schwein', 'Blauer Hund', 'Dunkelschieferblauer Schwan', 'Lichtschiefergraue Gans', 'Dunkelschiefergraues Kaninchen', 'Blaue Gans', 'Blaue MÃ¶we', 'Blauer Hirsch', 'Serene swan', 'Blauer Soldat', 'Stahlblaue Eule', 'Black Samurai', 'Schwarze Blume', 'Blaue Katze', 'Blaue Schafe', 'Blauer BÃ¤r', 'Blauer Fuchs', 'Friendly Crocodile', 'Blaues Siegel', 'Blauer Wrestler', 'Graue Feuerwehrfrau', 'Gelber Adler', 'Gelbes ErdmÃ¤nnchen', 'Grauer Vogel', 'GrÃ¼ner Cowboy', 'Gelber Vogel', 'Goldene Katze', 'Friendly Wolf', 'GrÃ¼nes Huhn', 'Dunkelgrauer Igel', 'Gelbes Nilpferd', 'Gelber Truthahn', 'Graue Wissenschaftlerin', 'Grauer Astronaut', 'Grauer Professor', 'Graues Zebra', 'GrÃ¼ne Eule', 'GrÃ¼ner Papagei', 'Brauner Soldat', 'Brauner Cowboy', 'Gelber Samurai', 'Blaues Huhn', 'GrÃ¼ne Seekuh', 'Grauer Orca', 'Graue Pansa', 'Grauer Fuchs', 'Grauer Koala', 'Goldener Leopard', 'Goldenes ErdmÃ¤nnchen', 'Grauer Adler', 'Grauer Biker', 'Grauer LÃ¶we', 'Blaues Schwein', 'BlaugrÃ¼ner Panda', 'Goldene Giraffe', 'GrÃ¼ner Pirat', 'GrÃ¼nes ErdmÃ¤nnchen', 'Graues Faultier', 'Graues Kaninchen', 'GrÃ¼ner Biber', 'GrÃ¼ner Pinguin', 'GrÃ¼ner BÃ¤r', 'Graue Kuh', 'Dunkelblauer Otter', 'Brauner Koch', 'Blauer Wolf', 'Friendly Turkey', 'Dunkelblauer Pinguin', 'GrÃ¼ner Koala', 'GrÃ¼ner Wissenschaftler', 'Grauer Cowboy', 'Graues Huhn', 'Graues EichhÃ¶rnchen', 'Graues Frettchen', 'Graues Schwein', 'Graue Professorin', 'Graues Pferd', 'Grauer Papagei', 'GrÃ¼ner Frosch', 'GrÃ¼ner Hai', 'GrÃ¼ner Tiger', 'GrÃ¼nes Siegel', 'Lila Giraffe', 'Lila Samurai']\n"
     ]
    }
   ],
   "source": [
    "import re\n",
    "\n",
    "# Function to extract names from the text file\n",
    "def extract_names_from_file(file_path):\n",
    "    names = []\n",
    "    \n",
    "    # Read the content of the file\n",
    "    with open(file_path, 'r') as file:\n",
    "        lines = file.readlines()\n",
    "        \n",
    "        for line in lines:\n",
    "            # Use regex to find the name value\n",
    "            match = re.search(r'=\\s*\"([^\"]+)\"', line)\n",
    "            if match:\n",
    "                names.append(match.group(1))  # Append the extracted name to the list\n",
    "\n",
    "    return names\n",
    "\n",
    "# Specify the path to your text file\n",
    "file_path = 'names_with_agents.txt'\n",
    "\n",
    "# Get the names\n",
    "names_array = extract_names_from_file(file_path)\n",
    "\n",
    "# Print the names array\n",
    "print(names_array)\n"
   ]
  },
  {
   "cell_type": "code",
   "execution_count": 28,
   "metadata": {},
   "outputs": [],
   "source": [
    "\n",
    "import pandas as pd\n",
    "from plotly.subplots import make_subplots\n",
    "import plotly.graph_objects as go\n",
    "\n",
    "# Map usernames to their roles\n",
    "user_role_mapping = dict(zip(names_array, roles_array))\n",
    "\n",
    "\n",
    "# Map each post's username to its role\n",
    "posts['role'] = posts['username'].map(user_role_mapping)\n",
    "\n",
    "# Create a figure\n",
    "fig = make_subplots()\n",
    "\n",
    "# Plot each role's posts without connecting individual users' posts\n",
    "for role in posts['role'].unique():\n",
    "    # Filter posts for the current role\n",
    "    role_posts = posts[posts['role'] == role]\n",
    "    \n",
    "    # Plot posts for this role as individual points\n",
    "    fig.add_trace(go.Scatter(\n",
    "        x=role_posts.index + 1,    # Sequential post order\n",
    "        y=role_posts['sentiment'],  # Sentiment score\n",
    "        mode='lines+markers',          # Lines and markers\n",
    "        name=role,                     # Role label for legend\n",
    "        marker=dict(size=8),            # Adjust marker size\n",
    "        line=dict(width=0.7)            # Thin line\n",
    "    ))\n",
    "\n",
    "# Update layout for better readability\n",
    "fig.update_layout(\n",
    "    title='Sentiment of posts per Role',\n",
    "    xaxis_title='posts (Sequential)',\n",
    "    yaxis_title='Sentiment Score',\n",
    "    xaxis=dict(\n",
    "        tickmode='linear',               # Keep linear tick mode\n",
    "        tickvals=list(range(1, len(posts) + 1)),  # Ticks for each post\n",
    "        ticktext=[str(i) for i in range(1, len(posts) + 1)],  # Custom tick text\n",
    "        range=[1, len(posts)],        # Set x-axis range to start at 1\n",
    "        showgrid=True,                   # Optionally show grid lines for readability\n",
    "        zeroline=True                    # Optionally show a line at y=0\n",
    "    ),\n",
    "    yaxis=dict(\n",
    "        autorange=True,                  # Automatically adjust y-axis range\n",
    "    ),\n",
    "    legend_title=\"Roles\",\n",
    "    hovermode=\"closest\",\n",
    "    width=1600,                          # Increase chart width for clarity\n",
    "    height=600,\n",
    "    margin=dict(l=40, r=40, t=50, b=40)  # Add margins to avoid clutter\n",
    ")\n",
    "\n",
    "# Show the plot\n",
    "fig.show()\n"
   ]
  },
  {
   "cell_type": "code",
   "execution_count": null,
   "metadata": {},
   "outputs": [],
   "source": []
  }
 ],
 "metadata": {
  "kernelspec": {
   "display_name": ".venv",
   "language": "python",
   "name": "python3"
  },
  "language_info": {
   "codemirror_mode": {
    "name": "ipython",
    "version": 3
   },
   "file_extension": ".py",
   "mimetype": "text/x-python",
   "name": "python",
   "nbconvert_exporter": "python",
   "pygments_lexer": "ipython3",
   "version": "3.9.6"
  }
 },
 "nbformat": 4,
 "nbformat_minor": 2
}
