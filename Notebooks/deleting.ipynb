{
 "cells": [
  {
   "cell_type": "code",
   "execution_count": null,
   "metadata": {},
   "outputs": [
    {
     "data": {
      "text/plain": [
       "True"
      ]
     },
     "metadata": {},
     "output_type": "display_data"
    }
   ],
   "source": [
    "import os\n",
    "import sys\n",
    "import pymongo\n",
    "import pandas as pd\n",
    "import plotly.express as px\n",
    "import csv\n",
    "import datetime\n",
    "from datetime import datetime\n",
    "import re\n",
    "from dotenv import load_dotenv\n",
    "load_dotenv()"
   ]
  },
  {
   "cell_type": "code",
   "execution_count": 3,
   "metadata": {},
   "outputs": [
    {
     "name": "stdout",
     "output_type": "stream",
     "text": [
      "2024-11-14 00:00:00\n",
      "2024-12-07 00:00:00\n",
      "Deleted 0 documents from comments\n",
      "Deleted 0 documents from commentdislikes\n",
      "Deleted 0 documents from postdislikes\n",
      "Deleted 15 documents from users\n",
      "Deleted 0 documents from idstorages\n",
      "Deleted 0 documents from posts\n",
      "Deleted 0 documents from subscriptions\n",
      "Deleted 0 documents from sampleCollection\n",
      "Deleted 0 documents from commentlikes\n",
      "Deleted 0 documents from viewposts\n",
      "Deleted 0 documents from readposts\n",
      "Deleted 0 documents from reposts\n",
      "Deleted 0 documents from postlikes\n",
      "Deleted 0 documents from selectedusers\n",
      "Deleted 0 documents from users5\n",
      "Data deletion complete.\n"
     ]
    }
   ],
   "source": [
    "from pymongo import MongoClient\n",
    "from datetime import datetime, timedelta\n",
    "import os\n",
    "from dotenv import load_dotenv\n",
    "load_dotenv()\n",
    "# Replace with your MongoDB connection string\n",
    "database_url = os.getenv('db_url_for_creating')\n",
    "\n",
    "# Connect to the MongoDB server\n",
    "client = MongoClient(database_url)\n",
    "\n",
    "# Access the specific database\n",
    "db_name = os.getenv('db_name')\n",
    "db = client[db_name]\n",
    "\n",
    "three_weeks_ago = datetime.now() - timedelta(days=10) #datetime.now() - timedelta(weeks=3)\n",
    "\n",
    "now = datetime.now()\n",
    "\n",
    "# Calculate start and end of today\n",
    "start_of_today = datetime(now.year, now.month, now.day)  # 00:00:00 today\n",
    "end_of_today = start_of_today + timedelta(days=3)  # 00:00:00 tomorrow\n",
    "\n",
    "# Calculate start of yesterday\n",
    "start_of_yesterday = start_of_today - timedelta(days=20)\n",
    "print(start_of_yesterday)\n",
    "print(end_of_today)\n",
    "\n",
    "# Iterate over all collections in the database\n",
    "for collection_name in db.list_collection_names():\n",
    "    collection = db[collection_name]\n",
    "    \n",
    "    # Assuming the documents have a field named 'created_at' or similar which stores the date\n",
    "    # Replace 'created_at' with the appropriate field name in your collections\n",
    "    result = collection.delete_many({\"createdAt\": {'$gte': start_of_yesterday,'$lt': end_of_today}})\n",
    "    \n",
    "    print(f\"Deleted {result.deleted_count} documents from {collection_name}\")\n",
    "\n",
    "print(\"Data deletion complete.\")"
   ]
  },
  {
   "cell_type": "code",
   "execution_count": null,
   "metadata": {},
   "outputs": [
    {
     "name": "stdout",
     "output_type": "stream",
     "text": [
      "Deleted 15 documents.\n"
     ]
    }
   ],
   "source": [
    "from pymongo import MongoClient\n",
    "from datetime import datetime, timedelta\n",
    "import os\n",
    "\n",
    "# Replace with your MongoDB connection string\n",
    "database_url = os.getenv('db_url_for_creating')\n",
    "\n",
    "# Connect to the MongoDB server\n",
    "client = MongoClient(database_url)\n",
    "\n",
    "db = client[\"test_llm_1\"]\n",
    "users_collection = db[\"users\"]     # Replace with your collection name\n",
    "\n",
    "# Define the cutoff date\n",
    "cutoff_date = datetime(2024, 11, 20, 9, 9, 59)\n",
    "\n",
    "# Delete users created after the cutoff date\n",
    "result = users_collection.delete_many({\"createdAt\": {\"$gt\": cutoff_date}})\n",
    "print(f\"Deleted {result.deleted_count} documents.\")"
   ]
  },
  {
   "cell_type": "code",
   "execution_count": null,
   "metadata": {},
   "outputs": [
    {
     "name": "stdout",
     "output_type": "stream",
     "text": [
      "Copied 15 users to ms4.\n",
      "Copied 20 posts to ms4.\n"
     ]
    }
   ],
   "source": [
    "\n",
    "source_db = client[\"ms1\"]  # Source database\n",
    "target_db = client[\"ms3\"]  # Target database\n",
    "\n",
    "# Copy all documents from the \"users\" collection\n",
    "users = list(source_db[\"users\"].find())\n",
    "if users:\n",
    "    target_db[\"users\"].insert_many(users)\n",
    "    print(f\"Copied {len(users)} users to ms4.\")\n",
    "\n",
    "# Copy only the first 20 documents from the \"posts\" collection\n",
    "posts = list(source_db[\"posts\"].find().limit(20))\n",
    "if posts:\n",
    "    target_db[\"posts\"].insert_many(posts)\n",
    "    print(f\"Copied {len(posts)} posts to ms4.\")"
   ]
  },
  {
   "cell_type": "code",
   "execution_count": null,
   "metadata": {},
   "outputs": [
    {
     "name": "stdout",
     "output_type": "stream",
     "text": [
      "Deleted 3 documents.\n"
     ]
    }
   ],
   "source": [
    "from pymongo import MongoClient\n",
    "import os\n",
    "\n",
    "# Replace with your MongoDB connection string\n",
    "database_url = os.getenv('db_url_for_creating')\n",
    "\n",
    "# Connect to the MongoDB server\n",
    "client = MongoClient(database_url)\n",
    "\n",
    "db = client[\"fake_news\"]\n",
    "posts_collection = db[\"posts\"]  # Replace with your collection name\n",
    "\n",
    "# Find the first 150 documents based on the creation order\n",
    "first_150_docs = posts_collection.find().sort(\"createdAt\", 1).limit(150)\n",
    "\n",
    "# Store the IDs of these documents\n",
    "first_150_ids = [doc[\"_id\"] for doc in first_150_docs]\n",
    "\n",
    "# Delete all documents that are not in the first 150\n",
    "result = posts_collection.delete_many({\n",
    "    \"_id\": {\"$nin\": first_150_ids}\n",
    "})\n",
    "\n",
    "print(f\"Deleted {result.deleted_count} documents.\")\n",
    "\n"
   ]
  },
  {
   "cell_type": "code",
   "execution_count": null,
   "metadata": {},
   "outputs": [
    {
     "name": "stdout",
     "output_type": "stream",
     "text": [
      "Earliest: 2024-11-22 10:36:24.906000 in collection posts\n",
      "Latest: 2024-11-22 12:23:59.337000 in collection posts\n",
      "Time difference: 1:47:34.431000\n"
     ]
    }
   ],
   "source": [
    "from pymongo import MongoClient\n",
    "from datetime import datetime\n",
    "\n",
    "# Connect to MongoDB\n",
    "database_url = os.getenv('db_url_for_creating')\n",
    "client = MongoClient(database_url)  # Adjust the URI if needed\n",
    "db = client[\"test_llm_1\"]  # Replace with your database name\n",
    "\n",
    "collections = [\"commentlikes\", \"comments\", \"postlikes\", \"posts\"]\n",
    "\n",
    "# Initialize variables to track earliest and latest dates\n",
    "earliest = {\"collection\": None, \"createdAt\": None}\n",
    "latest = {\"collection\": None, \"createdAt\": None}\n",
    "\n",
    "for collection_name in collections:\n",
    "    collection = db[collection_name]\n",
    "    \n",
    "    # Find the document with the earliest and latest `createdAt` values\n",
    "    first_doc = collection.find_one(sort=[(\"createdAt\", 1)])\n",
    "    last_doc = collection.find_one(sort=[(\"createdAt\", -1)])\n",
    "    \n",
    "    # Update the earliest\n",
    "    if first_doc and (earliest[\"createdAt\"] is None or first_doc[\"createdAt\"] < earliest[\"createdAt\"]):\n",
    "        earliest = {\"collection\": collection_name, \"createdAt\": first_doc[\"createdAt\"]}\n",
    "    \n",
    "    # Update the latest\n",
    "    if last_doc and (latest[\"createdAt\"] is None or last_doc[\"createdAt\"] > latest[\"createdAt\"]):\n",
    "        latest = {\"collection\": collection_name, \"createdAt\": last_doc[\"createdAt\"]}\n",
    "\n",
    "# Calculate the time difference\n",
    "if earliest[\"createdAt\"] and latest[\"createdAt\"]:\n",
    "    time_diff = latest[\"createdAt\"] - earliest[\"createdAt\"]\n",
    "    print(f\"Earliest: {earliest['createdAt']} in collection {earliest['collection']}\")\n",
    "    print(f\"Latest: {latest['createdAt']} in collection {latest['collection']}\")\n",
    "    print(f\"Time difference: {time_diff}\")\n",
    "else:\n",
    "    print(\"Could not determine earliest or latest createdAt.\")\n",
    "\n",
    "# Close the connection\n",
    "client.close()\n"
   ]
  }
 ],
 "metadata": {
  "kernelspec": {
   "display_name": ".venv",
   "language": "python",
   "name": "python3"
  },
  "language_info": {
   "codemirror_mode": {
    "name": "ipython",
    "version": 3
   },
   "file_extension": ".py",
   "mimetype": "text/x-python",
   "name": "python",
   "nbconvert_exporter": "python",
   "pygments_lexer": "ipython3",
   "version": "3.9.6"
  }
 },
 "nbformat": 4,
 "nbformat_minor": 2
}
