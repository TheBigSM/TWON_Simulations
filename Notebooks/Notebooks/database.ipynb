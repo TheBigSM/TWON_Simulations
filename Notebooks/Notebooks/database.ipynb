{
 "cells": [
  {
   "cell_type": "code",
   "execution_count": 2,
   "metadata": {},
   "outputs": [],
   "source": [
    "import os\n",
    "import sys\n",
    "import pymongo\n",
    "import pandas as pd\n",
    "import plotly.express as px\n",
    "import csv\n",
    "import datetime\n",
    "from datetime import datetime\n",
    "import re"
   ]
  },
  {
   "cell_type": "code",
   "execution_count": 3,
   "metadata": {},
   "outputs": [
    {
     "name": "stdout",
     "output_type": "stream",
     "text": [
      "Collections in the database:\n",
      "sampleCollection\n"
     ]
    }
   ],
   "source": [
    "from pymongo import MongoClient\n",
    "\n",
    "# Replace with your MongoDB connection string\n",
    "database_url = os.getenv('db_url_for_creating')\n",
    "\n",
    "# Connect to the MongoDB server\n",
    "client = MongoClient(database_url)\n",
    "\n",
    "# Access the specific database\n",
    "db_name = \"real_news\" #change to the name of db you want to create\n",
    "db = client[db_name]\n",
    "\n",
    "collection_name = \"sampleCollection\"\n",
    "collection = db[collection_name]\n",
    "dummy_data = [\n",
    "    {\"name\": \"Alice\", \"age\": 25, \"city\": \"New York\"},\n",
    "    {\"name\": \"Bob\", \"age\": 30, \"city\": \"Los Angeles\"},\n",
    "]\n",
    "\n",
    "# Insert dummy data into the collection\n",
    "inserted_ids = collection.insert_many(dummy_data).inserted_ids\n",
    "\n",
    "# List all collection names in the database\n",
    "collection_names = db.list_collection_names()\n",
    "\n",
    "# Print the collection names\n",
    "print(\"Collections in the database:\")\n",
    "for name in collection_names:\n",
    "    print(name)\n"
   ]
  },
  {
   "cell_type": "code",
   "execution_count": 4,
   "metadata": {},
   "outputs": [
    {
     "name": "stdout",
     "output_type": "stream",
     "text": [
      "Database 'real_news' created and collections copied. Collections 'idstorages, selectedusers' retained with data.\n"
     ]
    }
   ],
   "source": [
    "source_db_name = 'hack2'\n",
    "target_db_name = db_name\n",
    "\n",
    "# Get the source database\n",
    "source_db = client[source_db_name]\n",
    "\n",
    "# Create the target database\n",
    "target_db = client[target_db_name]\n",
    "\n",
    "# List of collections to keep non-empty\n",
    "keep_non_empty = ['idstorages', 'selectedusers']\n",
    "\n",
    "# List all collections in the source database\n",
    "collections = source_db.list_collection_names()\n",
    "\n",
    "# Copy collections to the target database\n",
    "for collection_name in collections:\n",
    "    source_collection = source_db[collection_name]\n",
    "    target_collection = target_db[collection_name]\n",
    "\n",
    "    # Copy documents if the collection should be kept non-empty\n",
    "    if collection_name in keep_non_empty:\n",
    "        # Copy documents from source collection to target collection\n",
    "        for doc in source_collection.find():\n",
    "            target_collection.insert_one(doc)\n",
    "    else:\n",
    "        # Create an empty collection in the target database\n",
    "        target_collection.drop()  # Ensure the collection is empty\n",
    "        target_db.create_collection(collection_name)\n",
    "\n",
    "print(f\"Database '{target_db_name}' created and collections copied. Collections '{', '.join(keep_non_empty)}' retained with data.\")"
   ]
  },
  {
   "cell_type": "code",
   "execution_count": null,
   "metadata": {},
   "outputs": [
    {
     "name": "stdout",
     "output_type": "stream",
     "text": [
      "2024-10-18 00:00:00\n",
      "2024-11-10 00:00:00\n",
      "Deleted 0 documents from viewposts\n",
      "Deleted 0 documents from comments\n",
      "Deleted 0 documents from postdislikes\n",
      "Deleted 0 documents from users\n",
      "Deleted 0 documents from sampleCollection\n",
      "Deleted 0 documents from commentdislikes\n",
      "Deleted 0 documents from idstorages\n",
      "Deleted 0 documents from posts\n",
      "Deleted 0 documents from commentlikes\n",
      "Deleted 0 documents from readposts\n",
      "Deleted 0 documents from selectedusers\n",
      "Deleted 0 documents from postlikes\n",
      "Deleted 0 documents from subscriptions\n",
      "Deleted 0 documents from reposts\n",
      "Deleted 0 documents from users5\n",
      "Data deletion complete.\n"
     ]
    }
   ],
   "source": [
    "from pymongo import MongoClient\n",
    "from datetime import datetime, timedelta\n",
    "\n",
    "# Replace with your MongoDB connection string\n",
    "database_url = myclient.os.getenv('db_url_for_creating')\n",
    "\n",
    "# Connect to the MongoDB server\n",
    "client = MongoClient(database_url)\n",
    "\n",
    "# Access the specific database\n",
    "db_name = \"ms2\"#change to the name of the db you want to delete the info from\n",
    "db = client[db_name]\n",
    "\n",
    "three_weeks_ago = datetime.now() - timedelta(days=10) #datetime.now() - timedelta(weeks=3)\n",
    "\n",
    "now = datetime.now()\n",
    "\n",
    "# Calculate start and end of today\n",
    "start_of_today = datetime(now.year, now.month, now.day)  # 00:00:00 today\n",
    "end_of_today = start_of_today + timedelta(days=3)  # 00:00:00 tomorrow\n",
    "\n",
    "# Calculate start of yesterday\n",
    "start_of_yesterday = start_of_today - timedelta(days=20)\n",
    "print(start_of_yesterday)\n",
    "print(end_of_today)\n",
    "\n",
    "# Iterate over all collections in the database\n",
    "for collection_name in db.list_collection_names():\n",
    "    collection = db[collection_name]\n",
    "    \n",
    "    # Assuming the documents have a field named 'created_at' or similar which stores the date\n",
    "    # Replace 'created_at' with the appropriate field name in your collections\n",
    "    result = collection.delete_many({\"createdAt\": {'$gte': start_of_yesterday,'$lt': end_of_today}})\n",
    "    \n",
    "    print(f\"Deleted {result.deleted_count} documents from {collection_name}\")\n",
    "\n",
    "print(\"Data deletion complete.\")"
   ]
  },
  {
   "cell_type": "code",
   "execution_count": null,
   "metadata": {},
   "outputs": [],
   "source": []
  }
 ],
 "metadata": {
  "kernelspec": {
   "display_name": ".venv",
   "language": "python",
   "name": "python3"
  },
  "language_info": {
   "codemirror_mode": {
    "name": "ipython",
    "version": 3
   },
   "file_extension": ".py",
   "mimetype": "text/x-python",
   "name": "python",
   "nbconvert_exporter": "python",
   "pygments_lexer": "ipython3",
   "version": "3.9.6"
  }
 },
 "nbformat": 4,
 "nbformat_minor": 2
}
