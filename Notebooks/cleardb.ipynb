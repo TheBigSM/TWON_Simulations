{
 "cells": [
  {
   "cell_type": "code",
   "execution_count": null,
   "metadata": {},
   "outputs": [],
   "source": [
    "from pymongo import MongoClient\n",
    "from datetime import datetime, timedelta\n",
    "import os\n",
    "from dotenv import load_dotenv\n",
    "load_dotenv()\n",
    "# Replace with your MongoDB connection string\n",
    "database_url = os.getenv('db_url_for_creating')\n",
    "\n",
    "# Connect to the MongoDB server\n",
    "client = MongoClient(database_url)\n",
    "\n",
    "# Access the specific database\n",
    "db_name = os.getenv('db_name')\n",
    "db = client[db_name]\n",
    "\n",
    "three_weeks_ago = datetime.now() - timedelta(days=10) #datetime.now() - timedelta(weeks=3)\n",
    "\n",
    "now = datetime.now()\n",
    "\n",
    "# Calculate start and end of today\n",
    "start_of_today = datetime(now.year, now.month, now.day)  # 00:00:00 today\n",
    "end_of_today = start_of_today + timedelta(days=3)  # 00:00:00 tomorrow\n",
    "\n",
    "# Calculate start of yesterday\n",
    "start_of_yesterday = start_of_today - timedelta(days=20)\n",
    "print(start_of_yesterday)\n",
    "print(end_of_today)\n",
    "\n",
    "# Iterate over all collections in the database\n",
    "for collection_name in db.list_collection_names():\n",
    "    collection = db[collection_name]\n",
    "    \n",
    "    # Assuming the documents have a field named 'created_at' or similar which stores the date\n",
    "    # Replace 'created_at' with the appropriate field name in your collections\n",
    "    result = collection.delete_many({\"createdAt\": {'$gte': start_of_yesterday,'$lt': end_of_today}})\n",
    "    \n",
    "    print(f\"Deleted {result.deleted_count} documents from {collection_name}\")\n",
    "\n",
    "print(\"Data deletion complete.\")"
   ]
  }
 ],
 "metadata": {
  "language_info": {
   "name": "python"
  }
 },
 "nbformat": 4,
 "nbformat_minor": 2
}
